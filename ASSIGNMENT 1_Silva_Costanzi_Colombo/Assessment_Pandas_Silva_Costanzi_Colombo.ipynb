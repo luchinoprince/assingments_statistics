{
 "cells": [
  {
   "cell_type": "markdown",
   "metadata": {},
   "source": [
    "### EXERCISE 1"
   ]
  },
  {
   "cell_type": "code",
   "execution_count": 6,
   "metadata": {},
   "outputs": [],
   "source": [
    "import pandas as pd\n",
    "import numpy as np"
   ]
  },
  {
   "cell_type": "code",
   "execution_count": 8,
   "metadata": {},
   "outputs": [
    {
     "name": "stdout",
     "output_type": "stream",
     "text": [
      "total 1792\n",
      "-rwxr-xr-x@  1 luchino_prince  staff  509378 Oct  2 00:27 \u001b[31mprob_stat_lect_1_2.pdf\u001b[m\u001b[m\n",
      "-rwxr-xr-x@  1 luchino_prince  staff      86 Oct  2 00:27 \u001b[31mREADME.md\u001b[m\u001b[m\n",
      "-rwxr-xr-x@  1 luchino_prince  staff  166574 Oct  2 00:27 \u001b[31m20180926_numpy_intro_2.ipynb\u001b[m\u001b[m\n",
      "-rwxr-xr-x@  1 luchino_prince  staff   58550 Oct  2 00:27 \u001b[31m20180926_numpy_intro.ipynb\u001b[m\u001b[m\n",
      "-rwxr-xr-x@  1 luchino_prince  staff  110683 Oct  2 00:27 \u001b[31m20180926_intro-to-pandas-2-Working-With-DataFrames.ipynb\u001b[m\u001b[m\n",
      "-rwxr-xr-x@  1 luchino_prince  staff   53590 Oct  2 00:27 \u001b[31m20180926_intro-to-pandas-1-Data-Structures.ipynb\u001b[m\u001b[m\n",
      "drwxr-xr-x  10 luchino_prince  staff     320 Oct  3 12:19 \u001b[34mdata\u001b[m\u001b[m\n",
      "drwxr-xr-x   4 luchino_prince  staff     128 Oct  3 12:19 \u001b[34mAssignment_1\u001b[m\u001b[m\n"
     ]
    }
   ],
   "source": [
    "!ls -lrt"
   ]
  },
  {
   "cell_type": "code",
   "execution_count": 9,
   "metadata": {},
   "outputs": [
    {
     "name": "stdout",
     "output_type": "stream",
     "text": [
      "/Users/luchino_prince/Desktop/statistics/data_assignment/Assignment_1\n"
     ]
    }
   ],
   "source": [
    "%cd ./Assignment_1"
   ]
  },
  {
   "cell_type": "code",
   "execution_count": 10,
   "metadata": {},
   "outputs": [
    {
     "name": "stdout",
     "output_type": "stream",
     "text": [
      "total 0\n",
      "drwxr-xr-x  7 luchino_prince  staff  224 Oct  3 12:19 \u001b[34mdata\u001b[m\u001b[m\n"
     ]
    }
   ],
   "source": [
    "!ls -lrt\n"
   ]
  },
  {
   "cell_type": "code",
   "execution_count": 11,
   "metadata": {},
   "outputs": [
    {
     "name": "stdout",
     "output_type": "stream",
     "text": [
      "/Users/luchino_prince/Desktop/statistics/data_assignment/Assignment_1/data\n"
     ]
    }
   ],
   "source": [
    "%cd ./data"
   ]
  },
  {
   "cell_type": "code",
   "execution_count": 13,
   "metadata": {},
   "outputs": [
    {
     "name": "stdout",
     "output_type": "stream",
     "text": [
      "/Users/luchino_prince/Desktop/statistics/data_assignment/Assignment_1/data/nycflights13\n"
     ]
    }
   ],
   "source": [
    "%cd ./nycflights13"
   ]
  },
  {
   "cell_type": "code",
   "execution_count": 14,
   "metadata": {},
   "outputs": [
    {
     "name": "stdout",
     "output_type": "stream",
     "text": [
      "total 70728\n",
      "-rwxr-xr-x@ 1 luchino_prince  staff   2392318 Oct  2 00:27 \u001b[31mnycflights13_weather.csv\u001b[m\u001b[m\n",
      "-rwxr-xr-x@ 1 luchino_prince  staff    281437 Oct  2 00:27 \u001b[31mnycflights13_planes.csv\u001b[m\u001b[m\n",
      "-rwxr-xr-x@ 1 luchino_prince  staff  33407815 Oct  2 00:27 \u001b[31mnycflights13_flights.csv\u001b[m\u001b[m\n",
      "-rwxr-xr-x@ 1 luchino_prince  staff    116754 Oct  2 00:27 \u001b[31mnycflights13_airports.csv\u001b[m\u001b[m\n",
      "-rwxr-xr-x@ 1 luchino_prince  staff       948 Oct  2 00:27 \u001b[31mnycflights13_airlines.csv\u001b[m\u001b[m\n"
     ]
    }
   ],
   "source": [
    "!ls -lrt"
   ]
  },
  {
   "cell_type": "code",
   "execution_count": 15,
   "metadata": {},
   "outputs": [
    {
     "name": "stdout",
     "output_type": "stream",
     "text": [
      "# weather              package:nycflights13              R Documentation\n",
      "#\n",
      "# Hourly weather data\n",
      "#\n",
      "# Description:\n"
     ]
    }
   ],
   "source": [
    "!head -n 5 nycflights13_weather.csv"
   ]
  },
  {
   "cell_type": "code",
   "execution_count": 18,
   "metadata": {},
   "outputs": [],
   "source": [
    "nyc=pd.read_csv(\"nycflights13_weather.csv\",skiprows=42)"
   ]
  },
  {
   "cell_type": "code",
   "execution_count": 19,
   "metadata": {},
   "outputs": [
    {
     "data": {
      "text/html": [
       "<div>\n",
       "<style scoped>\n",
       "    .dataframe tbody tr th:only-of-type {\n",
       "        vertical-align: middle;\n",
       "    }\n",
       "\n",
       "    .dataframe tbody tr th {\n",
       "        vertical-align: top;\n",
       "    }\n",
       "\n",
       "    .dataframe thead th {\n",
       "        text-align: right;\n",
       "    }\n",
       "</style>\n",
       "<table border=\"1\" class=\"dataframe\">\n",
       "  <thead>\n",
       "    <tr style=\"text-align: right;\">\n",
       "      <th></th>\n",
       "      <th>origin</th>\n",
       "      <th>year</th>\n",
       "      <th>month</th>\n",
       "      <th>day</th>\n",
       "      <th>hour</th>\n",
       "      <th>temp</th>\n",
       "      <th>dewp</th>\n",
       "      <th>humid</th>\n",
       "      <th>wind_dir</th>\n",
       "      <th>wind_speed</th>\n",
       "      <th>wind_gust</th>\n",
       "      <th>precip</th>\n",
       "      <th>pressure</th>\n",
       "      <th>visib</th>\n",
       "      <th>time_hour</th>\n",
       "    </tr>\n",
       "  </thead>\n",
       "  <tbody>\n",
       "    <tr>\n",
       "      <th>0</th>\n",
       "      <td>EWR</td>\n",
       "      <td>2013</td>\n",
       "      <td>1</td>\n",
       "      <td>1</td>\n",
       "      <td>0</td>\n",
       "      <td>37.04</td>\n",
       "      <td>21.92</td>\n",
       "      <td>53.97</td>\n",
       "      <td>230.0</td>\n",
       "      <td>10.35702</td>\n",
       "      <td>11.918651</td>\n",
       "      <td>0.0</td>\n",
       "      <td>1013.9</td>\n",
       "      <td>10.0</td>\n",
       "      <td>2013-01-01 01:00:00</td>\n",
       "    </tr>\n",
       "    <tr>\n",
       "      <th>1</th>\n",
       "      <td>EWR</td>\n",
       "      <td>2013</td>\n",
       "      <td>1</td>\n",
       "      <td>1</td>\n",
       "      <td>1</td>\n",
       "      <td>37.04</td>\n",
       "      <td>21.92</td>\n",
       "      <td>53.97</td>\n",
       "      <td>230.0</td>\n",
       "      <td>13.80936</td>\n",
       "      <td>15.891535</td>\n",
       "      <td>0.0</td>\n",
       "      <td>1013.0</td>\n",
       "      <td>10.0</td>\n",
       "      <td>2013-01-01 02:00:00</td>\n",
       "    </tr>\n",
       "    <tr>\n",
       "      <th>2</th>\n",
       "      <td>EWR</td>\n",
       "      <td>2013</td>\n",
       "      <td>1</td>\n",
       "      <td>1</td>\n",
       "      <td>2</td>\n",
       "      <td>37.94</td>\n",
       "      <td>21.92</td>\n",
       "      <td>52.09</td>\n",
       "      <td>230.0</td>\n",
       "      <td>12.65858</td>\n",
       "      <td>14.567241</td>\n",
       "      <td>0.0</td>\n",
       "      <td>1012.6</td>\n",
       "      <td>10.0</td>\n",
       "      <td>2013-01-01 03:00:00</td>\n",
       "    </tr>\n",
       "    <tr>\n",
       "      <th>3</th>\n",
       "      <td>EWR</td>\n",
       "      <td>2013</td>\n",
       "      <td>1</td>\n",
       "      <td>1</td>\n",
       "      <td>3</td>\n",
       "      <td>37.94</td>\n",
       "      <td>23.00</td>\n",
       "      <td>54.51</td>\n",
       "      <td>230.0</td>\n",
       "      <td>13.80936</td>\n",
       "      <td>15.891535</td>\n",
       "      <td>0.0</td>\n",
       "      <td>1012.7</td>\n",
       "      <td>10.0</td>\n",
       "      <td>2013-01-01 04:00:00</td>\n",
       "    </tr>\n",
       "    <tr>\n",
       "      <th>4</th>\n",
       "      <td>EWR</td>\n",
       "      <td>2013</td>\n",
       "      <td>1</td>\n",
       "      <td>1</td>\n",
       "      <td>4</td>\n",
       "      <td>37.94</td>\n",
       "      <td>24.08</td>\n",
       "      <td>57.04</td>\n",
       "      <td>240.0</td>\n",
       "      <td>14.96014</td>\n",
       "      <td>17.215830</td>\n",
       "      <td>0.0</td>\n",
       "      <td>1012.8</td>\n",
       "      <td>10.0</td>\n",
       "      <td>2013-01-01 05:00:00</td>\n",
       "    </tr>\n",
       "  </tbody>\n",
       "</table>\n",
       "</div>"
      ],
      "text/plain": [
       "  origin  year  month  day  hour   temp   dewp  humid  wind_dir  wind_speed  \\\n",
       "0    EWR  2013      1    1     0  37.04  21.92  53.97     230.0    10.35702   \n",
       "1    EWR  2013      1    1     1  37.04  21.92  53.97     230.0    13.80936   \n",
       "2    EWR  2013      1    1     2  37.94  21.92  52.09     230.0    12.65858   \n",
       "3    EWR  2013      1    1     3  37.94  23.00  54.51     230.0    13.80936   \n",
       "4    EWR  2013      1    1     4  37.94  24.08  57.04     240.0    14.96014   \n",
       "\n",
       "   wind_gust  precip  pressure  visib            time_hour  \n",
       "0  11.918651     0.0    1013.9   10.0  2013-01-01 01:00:00  \n",
       "1  15.891535     0.0    1013.0   10.0  2013-01-01 02:00:00  \n",
       "2  14.567241     0.0    1012.6   10.0  2013-01-01 03:00:00  \n",
       "3  15.891535     0.0    1012.7   10.0  2013-01-01 04:00:00  \n",
       "4  17.215830     0.0    1012.8   10.0  2013-01-01 05:00:00  "
      ]
     },
     "execution_count": 19,
     "metadata": {},
     "output_type": "execute_result"
    }
   ],
   "source": [
    "nyc.head()"
   ]
  },
  {
   "cell_type": "code",
   "execution_count": 20,
   "metadata": {},
   "outputs": [
    {
     "data": {
      "text/plain": [
       "pandas.core.frame.DataFrame"
      ]
     },
     "execution_count": 20,
     "metadata": {},
     "output_type": "execute_result"
    }
   ],
   "source": [
    "type(nyc)"
   ]
  },
  {
   "cell_type": "code",
   "execution_count": 23,
   "metadata": {},
   "outputs": [],
   "source": [
    "nyc['temp']=(nyc['temp']-32)/(1.8)"
   ]
  },
  {
   "cell_type": "markdown",
   "metadata": {},
   "source": [
    "We converted the temperature from Fahrenheit into Celsius."
   ]
  },
  {
   "cell_type": "code",
   "execution_count": 33,
   "metadata": {},
   "outputs": [],
   "source": [
    "by_day=nyc.groupby('day')"
   ]
  },
  {
   "cell_type": "code",
   "execution_count": 34,
   "metadata": {},
   "outputs": [
    {
     "data": {
      "text/plain": [
       "<pandas.core.groupby.groupby.DataFrameGroupBy object at 0x10e5d9668>"
      ]
     },
     "execution_count": 34,
     "metadata": {},
     "output_type": "execute_result"
    }
   ],
   "source": [
    "by_day"
   ]
  },
  {
   "cell_type": "code",
   "execution_count": 39,
   "metadata": {},
   "outputs": [
    {
     "data": {
      "text/plain": [
       "pandas.core.groupby.groupby.DataFrameGroupBy"
      ]
     },
     "execution_count": 39,
     "metadata": {},
     "output_type": "execute_result"
    }
   ],
   "source": [
    "type(by_day)"
   ]
  },
  {
   "cell_type": "code",
   "execution_count": 46,
   "metadata": {},
   "outputs": [
    {
     "data": {
      "text/plain": [
       "<pandas.core.groupby.groupby.DataFrameGroupBy object at 0x10e605630>"
      ]
     },
     "execution_count": 46,
     "metadata": {},
     "output_type": "execute_result"
    }
   ],
   "source": [
    "by_day=nyc.groupby(['day','month'])\n",
    "by_day"
   ]
  },
  {
   "cell_type": "markdown",
   "metadata": {},
   "source": [
    "Note that no splitting occurs until it’s needed. \n",
    "Creating the GroupBy object only verifies that you’ve passed a valid mapping."
   ]
  },
  {
   "cell_type": "code",
   "execution_count": 67,
   "metadata": {},
   "outputs": [],
   "source": [
    "by_day=nyc.groupby(['month','day']).mean()"
   ]
  },
  {
   "cell_type": "code",
   "execution_count": 68,
   "metadata": {},
   "outputs": [
    {
     "data": {
      "text/plain": [
       "month  day\n",
       "1      1       3.813043\n",
       "       2      -1.833333\n",
       "       3      -1.308333\n",
       "       4       1.254167\n",
       "       5       2.845833\n",
       "       6       3.541667\n",
       "       7       5.425000\n",
       "       8       4.162500\n",
       "       9       5.450000\n",
       "       10      7.236111\n",
       "       11      4.695833\n",
       "       12      7.288889\n",
       "       13      7.069444\n",
       "       14     10.415278\n",
       "       15      3.958333\n",
       "       16      1.800000\n",
       "       17      4.533333\n",
       "       18     -0.286111\n",
       "       19      3.233333\n",
       "       20      7.684722\n",
       "       21     -0.713889\n",
       "       22     -4.652778\n",
       "       23     -9.036111\n",
       "       24     -7.723611\n",
       "       25     -7.629167\n",
       "       26     -6.126389\n",
       "       27     -3.536111\n",
       "       28     -0.436111\n",
       "       29      4.380556\n",
       "       30      7.598611\n",
       "                ...    \n",
       "12     1       5.290278\n",
       "       2       6.775000\n",
       "       3       6.773611\n",
       "       4       6.554167\n",
       "       5      10.465278\n",
       "       6      10.462500\n",
       "       7       3.555556\n",
       "       8      -0.215278\n",
       "       9       1.686111\n",
       "       10      1.748611\n",
       "       11     -1.262500\n",
       "       12     -2.879167\n",
       "       13     -2.394444\n",
       "       14     -2.352778\n",
       "       15      1.597222\n",
       "       16     -0.883333\n",
       "       17     -2.640845\n",
       "       18     -1.677778\n",
       "       19      1.700000\n",
       "       20      6.315278\n",
       "       21     10.419444\n",
       "       22     15.037500\n",
       "       23     13.862500\n",
       "       24      3.976389\n",
       "       25     -3.568056\n",
       "       26     -0.054167\n",
       "       27      1.866667\n",
       "       28      4.988889\n",
       "       29      6.600000\n",
       "       30      4.302778\n",
       "Name: temp, Length: 364, dtype: float64"
      ]
     },
     "execution_count": 68,
     "metadata": {},
     "output_type": "execute_result"
    }
   ],
   "source": [
    "by_day['temp']"
   ]
  },
  {
   "cell_type": "markdown",
   "metadata": {},
   "source": [
    "Now we look for NaN and missing values."
   ]
  },
  {
   "cell_type": "code",
   "execution_count": 61,
   "metadata": {},
   "outputs": [
    {
     "data": {
      "text/plain": [
       "1"
      ]
     },
     "execution_count": 61,
     "metadata": {},
     "output_type": "execute_result"
    }
   ],
   "source": [
    "nyc['temp'].isnull().sum()"
   ]
  },
  {
   "cell_type": "markdown",
   "metadata": {},
   "source": [
    "I test the interpolating function."
   ]
  },
  {
   "cell_type": "code",
   "execution_count": 64,
   "metadata": {},
   "outputs": [],
   "source": [
    "x=[2,3,4]\n",
    "xp=[1,5]\n",
    "yp=[10,50]\n",
    "z=np.interp(x,xp,yp)"
   ]
  },
  {
   "cell_type": "code",
   "execution_count": 65,
   "metadata": {},
   "outputs": [
    {
     "data": {
      "text/plain": [
       "array([20., 30., 40.])"
      ]
     },
     "execution_count": 65,
     "metadata": {},
     "output_type": "execute_result"
    }
   ],
   "source": [
    "z"
   ]
  },
  {
   "cell_type": "code",
   "execution_count": 71,
   "metadata": {},
   "outputs": [
    {
     "data": {
      "text/plain": [
       "pandas.core.series.Series"
      ]
     },
     "execution_count": 71,
     "metadata": {},
     "output_type": "execute_result"
    }
   ],
   "source": [
    "type(by_day['temp'])"
   ]
  },
  {
   "cell_type": "code",
   "execution_count": 75,
   "metadata": {},
   "outputs": [],
   "source": [
    "aux=nyc['temp']"
   ]
  },
  {
   "cell_type": "code",
   "execution_count": 120,
   "metadata": {},
   "outputs": [
    {
     "name": "stdout",
     "output_type": "stream",
     "text": [
      "Series([], Name: temp, dtype: float64)\n"
     ]
    }
   ],
   "source": [
    "print(aux[aux.isnull()])"
   ]
  },
  {
   "cell_type": "markdown",
   "metadata": {},
   "source": [
    "We check how to use the interpolating function."
   ]
  },
  {
   "cell_type": "code",
   "execution_count": 103,
   "metadata": {},
   "outputs": [],
   "source": [
    "d=pd.Series([10,np.nan,30,40])"
   ]
  },
  {
   "cell_type": "code",
   "execution_count": 104,
   "metadata": {},
   "outputs": [
    {
     "data": {
      "text/plain": [
       "0    10.0\n",
       "1     NaN\n",
       "2    30.0\n",
       "3    40.0\n",
       "dtype: float64"
      ]
     },
     "execution_count": 104,
     "metadata": {},
     "output_type": "execute_result"
    }
   ],
   "source": [
    "d"
   ]
  },
  {
   "cell_type": "code",
   "execution_count": 105,
   "metadata": {
    "scrolled": true
   },
   "outputs": [
    {
     "data": {
      "text/plain": [
       "0    10.0\n",
       "1    20.0\n",
       "2    30.0\n",
       "3    40.0\n",
       "dtype: float64"
      ]
     },
     "execution_count": 105,
     "metadata": {},
     "output_type": "execute_result"
    }
   ],
   "source": [
    "d.interpolate('linear')"
   ]
  },
  {
   "cell_type": "markdown",
   "metadata": {},
   "source": [
    "We linearly interpolated in order to fill the missing data."
   ]
  },
  {
   "cell_type": "code",
   "execution_count": 113,
   "metadata": {},
   "outputs": [],
   "source": [
    "nyc['temp']=nyc['temp'].interpolate('linear')"
   ]
  },
  {
   "cell_type": "code",
   "execution_count": 115,
   "metadata": {},
   "outputs": [
    {
     "data": {
      "text/plain": [
       "23.5"
      ]
     },
     "execution_count": 115,
     "metadata": {},
     "output_type": "execute_result"
    }
   ],
   "source": [
    "nyc['temp'][5596]"
   ]
  },
  {
   "cell_type": "code",
   "execution_count": 116,
   "metadata": {},
   "outputs": [
    {
     "data": {
      "text/plain": [
       "24.0"
      ]
     },
     "execution_count": 116,
     "metadata": {},
     "output_type": "execute_result"
    }
   ],
   "source": [
    "nyc['temp'][5595]"
   ]
  },
  {
   "cell_type": "code",
   "execution_count": 117,
   "metadata": {},
   "outputs": [
    {
     "data": {
      "text/plain": [
       "23.000000000000004"
      ]
     },
     "execution_count": 117,
     "metadata": {},
     "output_type": "execute_result"
    }
   ],
   "source": [
    "nyc['temp'][5597]"
   ]
  },
  {
   "cell_type": "code",
   "execution_count": 122,
   "metadata": {},
   "outputs": [],
   "source": [
    "After we checked that interpolation works well, we computed the mean of the daily temperatures."
   ]
  },
  {
   "cell_type": "code",
   "execution_count": 126,
   "metadata": {},
   "outputs": [],
   "source": [
    "by_day=nyc.groupby(['month','day'])['temp'].mean()"
   ]
  },
  {
   "cell_type": "code",
   "execution_count": 130,
   "metadata": {},
   "outputs": [],
   "source": [
    "new=pd.DataFrame(by_day)"
   ]
  },
  {
   "cell_type": "markdown",
   "metadata": {},
   "source": [
    "We want to create a new column with the dates on a special form."
   ]
  },
  {
   "cell_type": "code",
   "execution_count": 134,
   "metadata": {},
   "outputs": [
    {
     "ename": "SyntaxError",
     "evalue": "invalid syntax (<ipython-input-134-ae8967dc3c8c>, line 1)",
     "output_type": "error",
     "traceback": [
      "\u001b[0;36m  File \u001b[0;32m\"<ipython-input-134-ae8967dc3c8c>\"\u001b[0;36m, line \u001b[0;32m1\u001b[0m\n\u001b[0;31m    date_new=['nyc['day'][i]/nyc['month'][i]/nyc['year'].[i]'  in range len(nyc['day'])]\u001b[0m\n\u001b[0m                      ^\u001b[0m\n\u001b[0;31mSyntaxError\u001b[0m\u001b[0;31m:\u001b[0m invalid syntax\n"
     ]
    }
   ],
   "source": [
    "date_new=['nyc['day'][i]/nyc['month'][i]/nyc['year'].[i]'  in range len(nyc['day'])]"
   ]
  },
  {
   "cell_type": "code",
   "execution_count": 138,
   "metadata": {},
   "outputs": [
    {
     "data": {
      "text/plain": [
       "pandas.core.series.Series"
      ]
     },
     "execution_count": 138,
     "metadata": {},
     "output_type": "execute_result"
    }
   ],
   "source": [
    "type(by_day)"
   ]
  },
  {
   "cell_type": "markdown",
   "metadata": {},
   "source": [
    "## EXERCISE 2\n",
    "\n",
    "\n"
   ]
  },
  {
   "cell_type": "code",
   "execution_count": 1,
   "metadata": {},
   "outputs": [
    {
     "name": "stdout",
     "output_type": "stream",
     "text": [
      "total 7064\n",
      "-rw-r--r--@  1 luchino_prince  staff    44507 Sep 26 16:57 Lezione1.ipynb\n",
      "-rw-r--r--   1 luchino_prince  staff      555 Sep 27 08:59 Untitled.ipynb\n",
      "drwxr-xr-x  12 luchino_prince  staff      384 Oct  1 11:50 \u001b[34mProbabilityAndStatistics\u001b[m\u001b[m\n",
      "-rw-r--r--   1 luchino_prince  staff   125676 Oct  2 10:58 Untitled1.ipynb\n",
      "-rw-r--r--   1 luchino_prince  staff       72 Oct  2 11:40 Untitled2.ipynb\n",
      "-rw-r--r--   1 luchino_prince  staff   406086 Oct  2 11:41 lez_seaborn.ipynb\n",
      "-rw-r--r--@  1 luchino_prince  staff  2819379 Oct  2 12:16 temp-plot.html\n",
      "-rw-r--r--   1 luchino_prince  staff       72 Oct  2 12:17 Untitled3.ipynb\n",
      "-rw-r--r--   1 luchino_prince  staff    21276 Oct  2 12:17 plotly.ipynb\n",
      "-rw-r--r--   1 luchino_prince  staff    16040 Oct  3 11:17 Untitled4.ipynb\n",
      "-rw-r--r--   1 luchino_prince  staff     2538 Oct  3 12:14 Untitled5.ipynb\n",
      "drwxr-xr-x  12 luchino_prince  staff      384 Oct  3 12:20 \u001b[34mdata_assignment\u001b[m\u001b[m\n",
      "-rw-r--r--   1 luchino_prince  staff    43606 Oct  3 13:36 Untitled6.ipynb\n",
      "-rw-r--r--   1 luchino_prince  staff       72 Oct  3 17:17 Untitled7.ipynb\n",
      "-rw-r--r--   1 luchino_prince  staff    55940 Oct  3 17:18 PCA.ipynb\n",
      "-rw-r--r--   1 luchino_prince  staff     3436 Oct  3 17:43 Custer_analysis.ipynb\n",
      "-rw-r--r--@  1 luchino_prince  staff    17188 Oct  4 15:27 NUMPY, Exercises_stat.ipynb\n",
      "-rw-r--r--   1 luchino_prince  staff    21851 Oct  4 15:29 assesment_pandas.ipynb\n"
     ]
    }
   ],
   "source": [
    "!ls -lrt\n"
   ]
  },
  {
   "cell_type": "code",
   "execution_count": 2,
   "metadata": {},
   "outputs": [
    {
     "name": "stdout",
     "output_type": "stream",
     "text": [
      "/Users/luchino_prince/Desktop/statistics/data_assignment\n"
     ]
    }
   ],
   "source": [
    "%cd ./data_assignment\n"
   ]
  },
  {
   "cell_type": "code",
   "execution_count": 1,
   "metadata": {},
   "outputs": [
    {
     "name": "stdout",
     "output_type": "stream",
     "text": [
      "total 7072\n",
      "-rw-r--r--@  1 luchino_prince  staff    44507 Sep 26 16:57 Lezione1.ipynb\n",
      "-rw-r--r--   1 luchino_prince  staff      555 Sep 27 08:59 Untitled.ipynb\n",
      "drwxr-xr-x  12 luchino_prince  staff      384 Oct  1 11:50 \u001b[34mProbabilityAndStatistics\u001b[m\u001b[m\n",
      "-rw-r--r--   1 luchino_prince  staff   125676 Oct  2 10:58 Untitled1.ipynb\n",
      "-rw-r--r--   1 luchino_prince  staff       72 Oct  2 11:40 Untitled2.ipynb\n",
      "-rw-r--r--   1 luchino_prince  staff   406086 Oct  2 11:41 lez_seaborn.ipynb\n",
      "-rw-r--r--@  1 luchino_prince  staff  2819379 Oct  2 12:16 temp-plot.html\n",
      "-rw-r--r--   1 luchino_prince  staff       72 Oct  2 12:17 Untitled3.ipynb\n",
      "-rw-r--r--   1 luchino_prince  staff    21276 Oct  2 12:17 plotly.ipynb\n",
      "-rw-r--r--   1 luchino_prince  staff    16040 Oct  3 11:17 Untitled4.ipynb\n",
      "-rw-r--r--   1 luchino_prince  staff     2538 Oct  3 12:14 Untitled5.ipynb\n",
      "drwxr-xr-x  12 luchino_prince  staff      384 Oct  3 12:20 \u001b[34mdata_assignment\u001b[m\u001b[m\n",
      "-rw-r--r--   1 luchino_prince  staff    43606 Oct  3 13:36 Untitled6.ipynb\n",
      "-rw-r--r--   1 luchino_prince  staff       72 Oct  3 17:17 Untitled7.ipynb\n",
      "-rw-r--r--   1 luchino_prince  staff    55940 Oct  3 17:18 PCA.ipynb\n",
      "-rw-r--r--   1 luchino_prince  staff     3436 Oct  3 17:43 Custer_analysis.ipynb\n",
      "-rw-r--r--@  1 luchino_prince  staff    17188 Oct  4 15:27 NUMPY, Exercises_stat.ipynb\n",
      "-rw-r--r--   1 luchino_prince  staff    25691 Oct  4 15:33 assesment_pandas.ipynb\n"
     ]
    }
   ],
   "source": [
    "!ls -lrt\n"
   ]
  },
  {
   "cell_type": "code",
   "execution_count": 3,
   "metadata": {},
   "outputs": [
    {
     "name": "stdout",
     "output_type": "stream",
     "text": [
      "/Users/luchino_prince/Desktop/statistics/data_assignment\n"
     ]
    }
   ],
   "source": [
    "%cd ./data_assignment"
   ]
  },
  {
   "cell_type": "code",
   "execution_count": 4,
   "metadata": {},
   "outputs": [
    {
     "name": "stdout",
     "output_type": "stream",
     "text": [
      "total 1792\n",
      "-rwxr-xr-x@  1 luchino_prince  staff  509378 Oct  2 00:27 \u001b[31mprob_stat_lect_1_2.pdf\u001b[m\u001b[m\n",
      "-rwxr-xr-x@  1 luchino_prince  staff      86 Oct  2 00:27 \u001b[31mREADME.md\u001b[m\u001b[m\n",
      "-rwxr-xr-x@  1 luchino_prince  staff  166574 Oct  2 00:27 \u001b[31m20180926_numpy_intro_2.ipynb\u001b[m\u001b[m\n",
      "-rwxr-xr-x@  1 luchino_prince  staff   58550 Oct  2 00:27 \u001b[31m20180926_numpy_intro.ipynb\u001b[m\u001b[m\n",
      "-rwxr-xr-x@  1 luchino_prince  staff  110683 Oct  2 00:27 \u001b[31m20180926_intro-to-pandas-2-Working-With-DataFrames.ipynb\u001b[m\u001b[m\n",
      "-rwxr-xr-x@  1 luchino_prince  staff   53590 Oct  2 00:27 \u001b[31m20180926_intro-to-pandas-1-Data-Structures.ipynb\u001b[m\u001b[m\n",
      "drwxr-xr-x  10 luchino_prince  staff     320 Oct  3 12:19 \u001b[34mdata\u001b[m\u001b[m\n",
      "drwxr-xr-x   4 luchino_prince  staff     128 Oct  3 12:19 \u001b[34mAssignment_1\u001b[m\u001b[m\n"
     ]
    }
   ],
   "source": [
    "!ls -lrt"
   ]
  },
  {
   "cell_type": "code",
   "execution_count": 5,
   "metadata": {},
   "outputs": [
    {
     "name": "stdout",
     "output_type": "stream",
     "text": [
      "/Users/luchino_prince/Desktop/statistics/data_assignment/Assignment_1\n"
     ]
    }
   ],
   "source": [
    "%cd ./Assignment_1\n"
   ]
  },
  {
   "cell_type": "code",
   "execution_count": 1,
   "metadata": {},
   "outputs": [
    {
     "name": "stdout",
     "output_type": "stream",
     "text": [
      "total 7072\n",
      "-rw-r--r--@  1 luchino_prince  staff    44507 Sep 26 16:57 Lezione1.ipynb\n",
      "-rw-r--r--   1 luchino_prince  staff      555 Sep 27 08:59 Untitled.ipynb\n",
      "drwxr-xr-x  12 luchino_prince  staff      384 Oct  1 11:50 \u001b[34mProbabilityAndStatistics\u001b[m\u001b[m\n",
      "-rw-r--r--   1 luchino_prince  staff   125676 Oct  2 10:58 Untitled1.ipynb\n",
      "-rw-r--r--   1 luchino_prince  staff       72 Oct  2 11:40 Untitled2.ipynb\n",
      "-rw-r--r--   1 luchino_prince  staff   406086 Oct  2 11:41 lez_seaborn.ipynb\n",
      "-rw-r--r--@  1 luchino_prince  staff  2819379 Oct  2 12:16 temp-plot.html\n",
      "-rw-r--r--   1 luchino_prince  staff       72 Oct  2 12:17 Untitled3.ipynb\n",
      "-rw-r--r--   1 luchino_prince  staff    21276 Oct  2 12:17 plotly.ipynb\n",
      "-rw-r--r--   1 luchino_prince  staff    16040 Oct  3 11:17 Untitled4.ipynb\n",
      "-rw-r--r--   1 luchino_prince  staff     2538 Oct  3 12:14 Untitled5.ipynb\n",
      "drwxr-xr-x  12 luchino_prince  staff      384 Oct  3 12:20 \u001b[34mdata_assignment\u001b[m\u001b[m\n",
      "-rw-r--r--   1 luchino_prince  staff    43606 Oct  3 13:36 Untitled6.ipynb\n",
      "-rw-r--r--   1 luchino_prince  staff       72 Oct  3 17:17 Untitled7.ipynb\n",
      "-rw-r--r--   1 luchino_prince  staff    55940 Oct  3 17:18 PCA.ipynb\n",
      "-rw-r--r--   1 luchino_prince  staff     3436 Oct  3 17:43 Custer_analysis.ipynb\n",
      "-rw-r--r--@  1 luchino_prince  staff    17188 Oct  4 15:27 NUMPY, Exercises_stat.ipynb\n",
      "-rw-r--r--   1 luchino_prince  staff    28146 Oct  4 15:36 assesment_pandas.ipynb\n"
     ]
    }
   ],
   "source": [
    "!ls -lrt\n"
   ]
  },
  {
   "cell_type": "code",
   "execution_count": 2,
   "metadata": {},
   "outputs": [
    {
     "name": "stdout",
     "output_type": "stream",
     "text": [
      "/Users/luchino_prince/Desktop/statistics/data_assignment\n"
     ]
    }
   ],
   "source": [
    "%cd ./data_assignment"
   ]
  },
  {
   "cell_type": "code",
   "execution_count": 3,
   "metadata": {},
   "outputs": [
    {
     "name": "stdout",
     "output_type": "stream",
     "text": [
      "[Errno 2] No such file or directory: './Assigment_1'\n",
      "/Users/luchino_prince/Desktop/statistics/data_assignment\n"
     ]
    }
   ],
   "source": [
    "%cd ./Assigment_1"
   ]
  },
  {
   "cell_type": "code",
   "execution_count": 4,
   "metadata": {},
   "outputs": [
    {
     "name": "stdout",
     "output_type": "stream",
     "text": [
      "[Errno 2] No such file or directory: './Assignment'\n",
      "/Users/luchino_prince/Desktop/statistics/data_assignment\n"
     ]
    }
   ],
   "source": [
    "%cd ./Assignment"
   ]
  },
  {
   "cell_type": "code",
   "execution_count": 5,
   "metadata": {},
   "outputs": [
    {
     "name": "stdout",
     "output_type": "stream",
     "text": [
      "/Users/luchino_prince/Desktop/statistics/data_assignment/Assignment_1\n"
     ]
    }
   ],
   "source": [
    "%cd ./Assignment_1"
   ]
  },
  {
   "cell_type": "code",
   "execution_count": 6,
   "metadata": {},
   "outputs": [
    {
     "name": "stdout",
     "output_type": "stream",
     "text": [
      "/Users/luchino_prince/Desktop/statistics/data_assignment/Assignment_1/data\n"
     ]
    }
   ],
   "source": [
    "%cd ./data"
   ]
  },
  {
   "cell_type": "code",
   "execution_count": 7,
   "metadata": {},
   "outputs": [
    {
     "name": "stdout",
     "output_type": "stream",
     "text": [
      "/Users/luchino_prince/Desktop/statistics/data_assignment/Assignment_1/data/nycflights13\n"
     ]
    }
   ],
   "source": [
    "%cd ./nycflights13"
   ]
  },
  {
   "cell_type": "code",
   "execution_count": 8,
   "metadata": {},
   "outputs": [
    {
     "name": "stdout",
     "output_type": "stream",
     "text": [
      "# flights              package:nycflights13              R Documentation\n",
      "#\n",
      "# Flights data\n",
      "#\n",
      "# Description:\n"
     ]
    }
   ],
   "source": [
    "!head -n 5 nycflights13_flights.csv"
   ]
  },
  {
   "cell_type": "code",
   "execution_count": 21,
   "metadata": {},
   "outputs": [],
   "source": [
    "flights=pd.read_csv(\"nycflights13_flights.csv\",skiprows=54)"
   ]
  },
  {
   "cell_type": "code",
   "execution_count": 22,
   "metadata": {},
   "outputs": [
    {
     "data": {
      "text/html": [
       "<div>\n",
       "<style scoped>\n",
       "    .dataframe tbody tr th:only-of-type {\n",
       "        vertical-align: middle;\n",
       "    }\n",
       "\n",
       "    .dataframe tbody tr th {\n",
       "        vertical-align: top;\n",
       "    }\n",
       "\n",
       "    .dataframe thead th {\n",
       "        text-align: right;\n",
       "    }\n",
       "</style>\n",
       "<table border=\"1\" class=\"dataframe\">\n",
       "  <thead>\n",
       "    <tr style=\"text-align: right;\">\n",
       "      <th></th>\n",
       "      <th>year</th>\n",
       "      <th>month</th>\n",
       "      <th>day</th>\n",
       "      <th>dep_time</th>\n",
       "      <th>sched_dep_time</th>\n",
       "      <th>dep_delay</th>\n",
       "      <th>arr_time</th>\n",
       "      <th>sched_arr_time</th>\n",
       "      <th>arr_delay</th>\n",
       "      <th>carrier</th>\n",
       "      <th>flight</th>\n",
       "      <th>tailnum</th>\n",
       "      <th>origin</th>\n",
       "      <th>dest</th>\n",
       "      <th>air_time</th>\n",
       "      <th>distance</th>\n",
       "      <th>hour</th>\n",
       "      <th>minute</th>\n",
       "      <th>time_hour</th>\n",
       "    </tr>\n",
       "  </thead>\n",
       "  <tbody>\n",
       "    <tr>\n",
       "      <th>0</th>\n",
       "      <td>2013</td>\n",
       "      <td>1</td>\n",
       "      <td>1</td>\n",
       "      <td>517.0</td>\n",
       "      <td>515</td>\n",
       "      <td>2.0</td>\n",
       "      <td>830.0</td>\n",
       "      <td>819</td>\n",
       "      <td>11.0</td>\n",
       "      <td>UA</td>\n",
       "      <td>1545</td>\n",
       "      <td>N14228</td>\n",
       "      <td>EWR</td>\n",
       "      <td>IAH</td>\n",
       "      <td>227.0</td>\n",
       "      <td>1400</td>\n",
       "      <td>5</td>\n",
       "      <td>15</td>\n",
       "      <td>2013-01-01 05:00:00</td>\n",
       "    </tr>\n",
       "    <tr>\n",
       "      <th>1</th>\n",
       "      <td>2013</td>\n",
       "      <td>1</td>\n",
       "      <td>1</td>\n",
       "      <td>533.0</td>\n",
       "      <td>529</td>\n",
       "      <td>4.0</td>\n",
       "      <td>850.0</td>\n",
       "      <td>830</td>\n",
       "      <td>20.0</td>\n",
       "      <td>UA</td>\n",
       "      <td>1714</td>\n",
       "      <td>N24211</td>\n",
       "      <td>LGA</td>\n",
       "      <td>IAH</td>\n",
       "      <td>227.0</td>\n",
       "      <td>1416</td>\n",
       "      <td>5</td>\n",
       "      <td>29</td>\n",
       "      <td>2013-01-01 05:00:00</td>\n",
       "    </tr>\n",
       "    <tr>\n",
       "      <th>2</th>\n",
       "      <td>2013</td>\n",
       "      <td>1</td>\n",
       "      <td>1</td>\n",
       "      <td>542.0</td>\n",
       "      <td>540</td>\n",
       "      <td>2.0</td>\n",
       "      <td>923.0</td>\n",
       "      <td>850</td>\n",
       "      <td>33.0</td>\n",
       "      <td>AA</td>\n",
       "      <td>1141</td>\n",
       "      <td>N619AA</td>\n",
       "      <td>JFK</td>\n",
       "      <td>MIA</td>\n",
       "      <td>160.0</td>\n",
       "      <td>1089</td>\n",
       "      <td>5</td>\n",
       "      <td>40</td>\n",
       "      <td>2013-01-01 05:00:00</td>\n",
       "    </tr>\n",
       "    <tr>\n",
       "      <th>3</th>\n",
       "      <td>2013</td>\n",
       "      <td>1</td>\n",
       "      <td>1</td>\n",
       "      <td>544.0</td>\n",
       "      <td>545</td>\n",
       "      <td>-1.0</td>\n",
       "      <td>1004.0</td>\n",
       "      <td>1022</td>\n",
       "      <td>-18.0</td>\n",
       "      <td>B6</td>\n",
       "      <td>725</td>\n",
       "      <td>N804JB</td>\n",
       "      <td>JFK</td>\n",
       "      <td>BQN</td>\n",
       "      <td>183.0</td>\n",
       "      <td>1576</td>\n",
       "      <td>5</td>\n",
       "      <td>45</td>\n",
       "      <td>2013-01-01 05:00:00</td>\n",
       "    </tr>\n",
       "    <tr>\n",
       "      <th>4</th>\n",
       "      <td>2013</td>\n",
       "      <td>1</td>\n",
       "      <td>1</td>\n",
       "      <td>554.0</td>\n",
       "      <td>600</td>\n",
       "      <td>-6.0</td>\n",
       "      <td>812.0</td>\n",
       "      <td>837</td>\n",
       "      <td>-25.0</td>\n",
       "      <td>DL</td>\n",
       "      <td>461</td>\n",
       "      <td>N668DN</td>\n",
       "      <td>LGA</td>\n",
       "      <td>ATL</td>\n",
       "      <td>116.0</td>\n",
       "      <td>762</td>\n",
       "      <td>6</td>\n",
       "      <td>0</td>\n",
       "      <td>2013-01-01 06:00:00</td>\n",
       "    </tr>\n",
       "  </tbody>\n",
       "</table>\n",
       "</div>"
      ],
      "text/plain": [
       "   year  month  day  dep_time  sched_dep_time  dep_delay  arr_time  \\\n",
       "0  2013      1    1     517.0             515        2.0     830.0   \n",
       "1  2013      1    1     533.0             529        4.0     850.0   \n",
       "2  2013      1    1     542.0             540        2.0     923.0   \n",
       "3  2013      1    1     544.0             545       -1.0    1004.0   \n",
       "4  2013      1    1     554.0             600       -6.0     812.0   \n",
       "\n",
       "   sched_arr_time  arr_delay carrier  flight tailnum origin dest  air_time  \\\n",
       "0             819       11.0      UA    1545  N14228    EWR  IAH     227.0   \n",
       "1             830       20.0      UA    1714  N24211    LGA  IAH     227.0   \n",
       "2             850       33.0      AA    1141  N619AA    JFK  MIA     160.0   \n",
       "3            1022      -18.0      B6     725  N804JB    JFK  BQN     183.0   \n",
       "4             837      -25.0      DL     461  N668DN    LGA  ATL     116.0   \n",
       "\n",
       "   distance  hour  minute            time_hour  \n",
       "0      1400     5      15  2013-01-01 05:00:00  \n",
       "1      1416     5      29  2013-01-01 05:00:00  \n",
       "2      1089     5      40  2013-01-01 05:00:00  \n",
       "3      1576     5      45  2013-01-01 05:00:00  \n",
       "4       762     6       0  2013-01-01 06:00:00  "
      ]
     },
     "execution_count": 22,
     "metadata": {},
     "output_type": "execute_result"
    }
   ],
   "source": [
    "flights.head()"
   ]
  },
  {
   "cell_type": "markdown",
   "metadata": {},
   "source": [
    "It is not possible to directly compute indexing slicing with strings."
   ]
  },
  {
   "cell_type": "markdown",
   "metadata": {},
   "source": [
    "We also have to deal with the possibility that the labels are in the wrong order."
   ]
  },
  {
   "cell_type": "code",
   "execution_count": 44,
   "metadata": {},
   "outputs": [
    {
     "name": "stdout",
     "output_type": "stream",
     "text": [
      "        year  month  day\n",
      "0       2013      1    1\n",
      "1       2013      1    1\n",
      "2       2013      1    1\n",
      "3       2013      1    1\n",
      "4       2013      1    1\n",
      "5       2013      1    1\n",
      "6       2013      1    1\n",
      "7       2013      1    1\n",
      "8       2013      1    1\n",
      "9       2013      1    1\n",
      "10      2013      1    1\n",
      "11      2013      1    1\n",
      "12      2013      1    1\n",
      "13      2013      1    1\n",
      "14      2013      1    1\n",
      "15      2013      1    1\n",
      "16      2013      1    1\n",
      "17      2013      1    1\n",
      "18      2013      1    1\n",
      "19      2013      1    1\n",
      "20      2013      1    1\n",
      "21      2013      1    1\n",
      "22      2013      1    1\n",
      "23      2013      1    1\n",
      "24      2013      1    1\n",
      "25      2013      1    1\n",
      "26      2013      1    1\n",
      "27      2013      1    1\n",
      "28      2013      1    1\n",
      "29      2013      1    1\n",
      "...      ...    ...  ...\n",
      "336746  2013      9   30\n",
      "336747  2013      9   30\n",
      "336748  2013      9   30\n",
      "336749  2013      9   30\n",
      "336750  2013      9   30\n",
      "336751  2013      9   30\n",
      "336752  2013      9   30\n",
      "336753  2013      9   30\n",
      "336754  2013      9   30\n",
      "336755  2013      9   30\n",
      "336756  2013      9   30\n",
      "336757  2013      9   30\n",
      "336758  2013      9   30\n",
      "336759  2013      9   30\n",
      "336760  2013      9   30\n",
      "336761  2013      9   30\n",
      "336762  2013      9   30\n",
      "336763  2013      9   30\n",
      "336764  2013      9   30\n",
      "336765  2013      9   30\n",
      "336766  2013      9   30\n",
      "336767  2013      9   30\n",
      "336768  2013      9   30\n",
      "336769  2013      9   30\n",
      "336770  2013      9   30\n",
      "336771  2013      9   30\n",
      "336772  2013      9   30\n",
      "336773  2013      9   30\n",
      "336774  2013      9   30\n",
      "336775  2013      9   30\n",
      "\n",
      "[336776 rows x 3 columns]\n"
     ]
    }
   ],
   "source": [
    "if flights.loc[:,'year':'day'].shape[1]:\n",
    "    selez=flights.loc[:,'year':'day']\n",
    "else:\n",
    "    selez=flights.loc[:,'day':'year']\n",
    "print(selez)"
   ]
  },
  {
   "cell_type": "code",
   "execution_count": 56,
   "metadata": {},
   "outputs": [
    {
     "data": {
      "text/plain": [
       "Index(['year', 'month', 'day', 'dep_time', 'sched_dep_time', 'dep_delay',\n",
       "       'arr_time', 'sched_arr_time', 'arr_delay', 'carrier', 'flight',\n",
       "       'tailnum', 'origin', 'dest', 'air_time', 'distance', 'hour', 'minute',\n",
       "       'time_hour'],\n",
       "      dtype='object')"
      ]
     },
     "execution_count": 56,
     "metadata": {},
     "output_type": "execute_result"
    }
   ],
   "source": [
    "flights.columns"
   ]
  },
  {
   "cell_type": "code",
   "execution_count": 60,
   "metadata": {},
   "outputs": [
    {
     "data": {
      "text/plain": [
       "Index(['year', 'month', 'day', 'dep_time', 'sched_dep_time', 'dep_delay',\n",
       "       'arr_time', 'sched_arr_time', 'arr_delay', 'carrier', 'flight',\n",
       "       'tailnum', 'origin', 'dest', 'air_time', 'distance', 'hour', 'minute',\n",
       "       'time_hour'],\n",
       "      dtype='object')"
      ]
     },
     "execution_count": 60,
     "metadata": {},
     "output_type": "execute_result"
    }
   ],
   "source": [
    "flights.columns"
   ]
  },
  {
   "cell_type": "code",
   "execution_count": 67,
   "metadata": {},
   "outputs": [],
   "source": [
    "aux=(flights.columns[:]=='year')"
   ]
  },
  {
   "cell_type": "code",
   "execution_count": 81,
   "metadata": {},
   "outputs": [],
   "source": [
    "x=list(flights)"
   ]
  },
  {
   "cell_type": "code",
   "execution_count": 83,
   "metadata": {},
   "outputs": [],
   "source": [
    "lx=x.index('year')"
   ]
  },
  {
   "cell_type": "code",
   "execution_count": 84,
   "metadata": {},
   "outputs": [],
   "source": [
    "dx=x.index('day')"
   ]
  },
  {
   "cell_type": "code",
   "execution_count": 87,
   "metadata": {},
   "outputs": [
    {
     "data": {
      "text/html": [
       "<div>\n",
       "<style scoped>\n",
       "    .dataframe tbody tr th:only-of-type {\n",
       "        vertical-align: middle;\n",
       "    }\n",
       "\n",
       "    .dataframe tbody tr th {\n",
       "        vertical-align: top;\n",
       "    }\n",
       "\n",
       "    .dataframe thead th {\n",
       "        text-align: right;\n",
       "    }\n",
       "</style>\n",
       "<table border=\"1\" class=\"dataframe\">\n",
       "  <thead>\n",
       "    <tr style=\"text-align: right;\">\n",
       "      <th></th>\n",
       "      <th>dep_time</th>\n",
       "      <th>sched_dep_time</th>\n",
       "      <th>dep_delay</th>\n",
       "      <th>arr_time</th>\n",
       "      <th>sched_arr_time</th>\n",
       "      <th>arr_delay</th>\n",
       "      <th>carrier</th>\n",
       "      <th>flight</th>\n",
       "      <th>tailnum</th>\n",
       "      <th>origin</th>\n",
       "      <th>dest</th>\n",
       "      <th>air_time</th>\n",
       "      <th>distance</th>\n",
       "      <th>hour</th>\n",
       "      <th>minute</th>\n",
       "      <th>time_hour</th>\n",
       "    </tr>\n",
       "  </thead>\n",
       "  <tbody>\n",
       "    <tr>\n",
       "      <th>0</th>\n",
       "      <td>517.0</td>\n",
       "      <td>515</td>\n",
       "      <td>2.0</td>\n",
       "      <td>830.0</td>\n",
       "      <td>819</td>\n",
       "      <td>11.0</td>\n",
       "      <td>UA</td>\n",
       "      <td>1545</td>\n",
       "      <td>N14228</td>\n",
       "      <td>EWR</td>\n",
       "      <td>IAH</td>\n",
       "      <td>227.0</td>\n",
       "      <td>1400</td>\n",
       "      <td>5</td>\n",
       "      <td>15</td>\n",
       "      <td>2013-01-01 05:00:00</td>\n",
       "    </tr>\n",
       "    <tr>\n",
       "      <th>1</th>\n",
       "      <td>533.0</td>\n",
       "      <td>529</td>\n",
       "      <td>4.0</td>\n",
       "      <td>850.0</td>\n",
       "      <td>830</td>\n",
       "      <td>20.0</td>\n",
       "      <td>UA</td>\n",
       "      <td>1714</td>\n",
       "      <td>N24211</td>\n",
       "      <td>LGA</td>\n",
       "      <td>IAH</td>\n",
       "      <td>227.0</td>\n",
       "      <td>1416</td>\n",
       "      <td>5</td>\n",
       "      <td>29</td>\n",
       "      <td>2013-01-01 05:00:00</td>\n",
       "    </tr>\n",
       "    <tr>\n",
       "      <th>2</th>\n",
       "      <td>542.0</td>\n",
       "      <td>540</td>\n",
       "      <td>2.0</td>\n",
       "      <td>923.0</td>\n",
       "      <td>850</td>\n",
       "      <td>33.0</td>\n",
       "      <td>AA</td>\n",
       "      <td>1141</td>\n",
       "      <td>N619AA</td>\n",
       "      <td>JFK</td>\n",
       "      <td>MIA</td>\n",
       "      <td>160.0</td>\n",
       "      <td>1089</td>\n",
       "      <td>5</td>\n",
       "      <td>40</td>\n",
       "      <td>2013-01-01 05:00:00</td>\n",
       "    </tr>\n",
       "    <tr>\n",
       "      <th>3</th>\n",
       "      <td>544.0</td>\n",
       "      <td>545</td>\n",
       "      <td>-1.0</td>\n",
       "      <td>1004.0</td>\n",
       "      <td>1022</td>\n",
       "      <td>-18.0</td>\n",
       "      <td>B6</td>\n",
       "      <td>725</td>\n",
       "      <td>N804JB</td>\n",
       "      <td>JFK</td>\n",
       "      <td>BQN</td>\n",
       "      <td>183.0</td>\n",
       "      <td>1576</td>\n",
       "      <td>5</td>\n",
       "      <td>45</td>\n",
       "      <td>2013-01-01 05:00:00</td>\n",
       "    </tr>\n",
       "    <tr>\n",
       "      <th>4</th>\n",
       "      <td>554.0</td>\n",
       "      <td>600</td>\n",
       "      <td>-6.0</td>\n",
       "      <td>812.0</td>\n",
       "      <td>837</td>\n",
       "      <td>-25.0</td>\n",
       "      <td>DL</td>\n",
       "      <td>461</td>\n",
       "      <td>N668DN</td>\n",
       "      <td>LGA</td>\n",
       "      <td>ATL</td>\n",
       "      <td>116.0</td>\n",
       "      <td>762</td>\n",
       "      <td>6</td>\n",
       "      <td>0</td>\n",
       "      <td>2013-01-01 06:00:00</td>\n",
       "    </tr>\n",
       "    <tr>\n",
       "      <th>5</th>\n",
       "      <td>554.0</td>\n",
       "      <td>558</td>\n",
       "      <td>-4.0</td>\n",
       "      <td>740.0</td>\n",
       "      <td>728</td>\n",
       "      <td>12.0</td>\n",
       "      <td>UA</td>\n",
       "      <td>1696</td>\n",
       "      <td>N39463</td>\n",
       "      <td>EWR</td>\n",
       "      <td>ORD</td>\n",
       "      <td>150.0</td>\n",
       "      <td>719</td>\n",
       "      <td>5</td>\n",
       "      <td>58</td>\n",
       "      <td>2013-01-01 05:00:00</td>\n",
       "    </tr>\n",
       "    <tr>\n",
       "      <th>6</th>\n",
       "      <td>555.0</td>\n",
       "      <td>600</td>\n",
       "      <td>-5.0</td>\n",
       "      <td>913.0</td>\n",
       "      <td>854</td>\n",
       "      <td>19.0</td>\n",
       "      <td>B6</td>\n",
       "      <td>507</td>\n",
       "      <td>N516JB</td>\n",
       "      <td>EWR</td>\n",
       "      <td>FLL</td>\n",
       "      <td>158.0</td>\n",
       "      <td>1065</td>\n",
       "      <td>6</td>\n",
       "      <td>0</td>\n",
       "      <td>2013-01-01 06:00:00</td>\n",
       "    </tr>\n",
       "    <tr>\n",
       "      <th>7</th>\n",
       "      <td>557.0</td>\n",
       "      <td>600</td>\n",
       "      <td>-3.0</td>\n",
       "      <td>709.0</td>\n",
       "      <td>723</td>\n",
       "      <td>-14.0</td>\n",
       "      <td>EV</td>\n",
       "      <td>5708</td>\n",
       "      <td>N829AS</td>\n",
       "      <td>LGA</td>\n",
       "      <td>IAD</td>\n",
       "      <td>53.0</td>\n",
       "      <td>229</td>\n",
       "      <td>6</td>\n",
       "      <td>0</td>\n",
       "      <td>2013-01-01 06:00:00</td>\n",
       "    </tr>\n",
       "    <tr>\n",
       "      <th>8</th>\n",
       "      <td>557.0</td>\n",
       "      <td>600</td>\n",
       "      <td>-3.0</td>\n",
       "      <td>838.0</td>\n",
       "      <td>846</td>\n",
       "      <td>-8.0</td>\n",
       "      <td>B6</td>\n",
       "      <td>79</td>\n",
       "      <td>N593JB</td>\n",
       "      <td>JFK</td>\n",
       "      <td>MCO</td>\n",
       "      <td>140.0</td>\n",
       "      <td>944</td>\n",
       "      <td>6</td>\n",
       "      <td>0</td>\n",
       "      <td>2013-01-01 06:00:00</td>\n",
       "    </tr>\n",
       "    <tr>\n",
       "      <th>9</th>\n",
       "      <td>558.0</td>\n",
       "      <td>600</td>\n",
       "      <td>-2.0</td>\n",
       "      <td>753.0</td>\n",
       "      <td>745</td>\n",
       "      <td>8.0</td>\n",
       "      <td>AA</td>\n",
       "      <td>301</td>\n",
       "      <td>N3ALAA</td>\n",
       "      <td>LGA</td>\n",
       "      <td>ORD</td>\n",
       "      <td>138.0</td>\n",
       "      <td>733</td>\n",
       "      <td>6</td>\n",
       "      <td>0</td>\n",
       "      <td>2013-01-01 06:00:00</td>\n",
       "    </tr>\n",
       "    <tr>\n",
       "      <th>10</th>\n",
       "      <td>558.0</td>\n",
       "      <td>600</td>\n",
       "      <td>-2.0</td>\n",
       "      <td>849.0</td>\n",
       "      <td>851</td>\n",
       "      <td>-2.0</td>\n",
       "      <td>B6</td>\n",
       "      <td>49</td>\n",
       "      <td>N793JB</td>\n",
       "      <td>JFK</td>\n",
       "      <td>PBI</td>\n",
       "      <td>149.0</td>\n",
       "      <td>1028</td>\n",
       "      <td>6</td>\n",
       "      <td>0</td>\n",
       "      <td>2013-01-01 06:00:00</td>\n",
       "    </tr>\n",
       "    <tr>\n",
       "      <th>11</th>\n",
       "      <td>558.0</td>\n",
       "      <td>600</td>\n",
       "      <td>-2.0</td>\n",
       "      <td>853.0</td>\n",
       "      <td>856</td>\n",
       "      <td>-3.0</td>\n",
       "      <td>B6</td>\n",
       "      <td>71</td>\n",
       "      <td>N657JB</td>\n",
       "      <td>JFK</td>\n",
       "      <td>TPA</td>\n",
       "      <td>158.0</td>\n",
       "      <td>1005</td>\n",
       "      <td>6</td>\n",
       "      <td>0</td>\n",
       "      <td>2013-01-01 06:00:00</td>\n",
       "    </tr>\n",
       "    <tr>\n",
       "      <th>12</th>\n",
       "      <td>558.0</td>\n",
       "      <td>600</td>\n",
       "      <td>-2.0</td>\n",
       "      <td>924.0</td>\n",
       "      <td>917</td>\n",
       "      <td>7.0</td>\n",
       "      <td>UA</td>\n",
       "      <td>194</td>\n",
       "      <td>N29129</td>\n",
       "      <td>JFK</td>\n",
       "      <td>LAX</td>\n",
       "      <td>345.0</td>\n",
       "      <td>2475</td>\n",
       "      <td>6</td>\n",
       "      <td>0</td>\n",
       "      <td>2013-01-01 06:00:00</td>\n",
       "    </tr>\n",
       "    <tr>\n",
       "      <th>13</th>\n",
       "      <td>558.0</td>\n",
       "      <td>600</td>\n",
       "      <td>-2.0</td>\n",
       "      <td>923.0</td>\n",
       "      <td>937</td>\n",
       "      <td>-14.0</td>\n",
       "      <td>UA</td>\n",
       "      <td>1124</td>\n",
       "      <td>N53441</td>\n",
       "      <td>EWR</td>\n",
       "      <td>SFO</td>\n",
       "      <td>361.0</td>\n",
       "      <td>2565</td>\n",
       "      <td>6</td>\n",
       "      <td>0</td>\n",
       "      <td>2013-01-01 06:00:00</td>\n",
       "    </tr>\n",
       "    <tr>\n",
       "      <th>14</th>\n",
       "      <td>559.0</td>\n",
       "      <td>600</td>\n",
       "      <td>-1.0</td>\n",
       "      <td>941.0</td>\n",
       "      <td>910</td>\n",
       "      <td>31.0</td>\n",
       "      <td>AA</td>\n",
       "      <td>707</td>\n",
       "      <td>N3DUAA</td>\n",
       "      <td>LGA</td>\n",
       "      <td>DFW</td>\n",
       "      <td>257.0</td>\n",
       "      <td>1389</td>\n",
       "      <td>6</td>\n",
       "      <td>0</td>\n",
       "      <td>2013-01-01 06:00:00</td>\n",
       "    </tr>\n",
       "    <tr>\n",
       "      <th>15</th>\n",
       "      <td>559.0</td>\n",
       "      <td>559</td>\n",
       "      <td>0.0</td>\n",
       "      <td>702.0</td>\n",
       "      <td>706</td>\n",
       "      <td>-4.0</td>\n",
       "      <td>B6</td>\n",
       "      <td>1806</td>\n",
       "      <td>N708JB</td>\n",
       "      <td>JFK</td>\n",
       "      <td>BOS</td>\n",
       "      <td>44.0</td>\n",
       "      <td>187</td>\n",
       "      <td>5</td>\n",
       "      <td>59</td>\n",
       "      <td>2013-01-01 05:00:00</td>\n",
       "    </tr>\n",
       "    <tr>\n",
       "      <th>16</th>\n",
       "      <td>559.0</td>\n",
       "      <td>600</td>\n",
       "      <td>-1.0</td>\n",
       "      <td>854.0</td>\n",
       "      <td>902</td>\n",
       "      <td>-8.0</td>\n",
       "      <td>UA</td>\n",
       "      <td>1187</td>\n",
       "      <td>N76515</td>\n",
       "      <td>EWR</td>\n",
       "      <td>LAS</td>\n",
       "      <td>337.0</td>\n",
       "      <td>2227</td>\n",
       "      <td>6</td>\n",
       "      <td>0</td>\n",
       "      <td>2013-01-01 06:00:00</td>\n",
       "    </tr>\n",
       "    <tr>\n",
       "      <th>17</th>\n",
       "      <td>600.0</td>\n",
       "      <td>600</td>\n",
       "      <td>0.0</td>\n",
       "      <td>851.0</td>\n",
       "      <td>858</td>\n",
       "      <td>-7.0</td>\n",
       "      <td>B6</td>\n",
       "      <td>371</td>\n",
       "      <td>N595JB</td>\n",
       "      <td>LGA</td>\n",
       "      <td>FLL</td>\n",
       "      <td>152.0</td>\n",
       "      <td>1076</td>\n",
       "      <td>6</td>\n",
       "      <td>0</td>\n",
       "      <td>2013-01-01 06:00:00</td>\n",
       "    </tr>\n",
       "    <tr>\n",
       "      <th>18</th>\n",
       "      <td>600.0</td>\n",
       "      <td>600</td>\n",
       "      <td>0.0</td>\n",
       "      <td>837.0</td>\n",
       "      <td>825</td>\n",
       "      <td>12.0</td>\n",
       "      <td>MQ</td>\n",
       "      <td>4650</td>\n",
       "      <td>N542MQ</td>\n",
       "      <td>LGA</td>\n",
       "      <td>ATL</td>\n",
       "      <td>134.0</td>\n",
       "      <td>762</td>\n",
       "      <td>6</td>\n",
       "      <td>0</td>\n",
       "      <td>2013-01-01 06:00:00</td>\n",
       "    </tr>\n",
       "    <tr>\n",
       "      <th>19</th>\n",
       "      <td>601.0</td>\n",
       "      <td>600</td>\n",
       "      <td>1.0</td>\n",
       "      <td>844.0</td>\n",
       "      <td>850</td>\n",
       "      <td>-6.0</td>\n",
       "      <td>B6</td>\n",
       "      <td>343</td>\n",
       "      <td>N644JB</td>\n",
       "      <td>EWR</td>\n",
       "      <td>PBI</td>\n",
       "      <td>147.0</td>\n",
       "      <td>1023</td>\n",
       "      <td>6</td>\n",
       "      <td>0</td>\n",
       "      <td>2013-01-01 06:00:00</td>\n",
       "    </tr>\n",
       "    <tr>\n",
       "      <th>20</th>\n",
       "      <td>602.0</td>\n",
       "      <td>610</td>\n",
       "      <td>-8.0</td>\n",
       "      <td>812.0</td>\n",
       "      <td>820</td>\n",
       "      <td>-8.0</td>\n",
       "      <td>DL</td>\n",
       "      <td>1919</td>\n",
       "      <td>N971DL</td>\n",
       "      <td>LGA</td>\n",
       "      <td>MSP</td>\n",
       "      <td>170.0</td>\n",
       "      <td>1020</td>\n",
       "      <td>6</td>\n",
       "      <td>10</td>\n",
       "      <td>2013-01-01 06:00:00</td>\n",
       "    </tr>\n",
       "    <tr>\n",
       "      <th>21</th>\n",
       "      <td>602.0</td>\n",
       "      <td>605</td>\n",
       "      <td>-3.0</td>\n",
       "      <td>821.0</td>\n",
       "      <td>805</td>\n",
       "      <td>16.0</td>\n",
       "      <td>MQ</td>\n",
       "      <td>4401</td>\n",
       "      <td>N730MQ</td>\n",
       "      <td>LGA</td>\n",
       "      <td>DTW</td>\n",
       "      <td>105.0</td>\n",
       "      <td>502</td>\n",
       "      <td>6</td>\n",
       "      <td>5</td>\n",
       "      <td>2013-01-01 06:00:00</td>\n",
       "    </tr>\n",
       "    <tr>\n",
       "      <th>22</th>\n",
       "      <td>606.0</td>\n",
       "      <td>610</td>\n",
       "      <td>-4.0</td>\n",
       "      <td>858.0</td>\n",
       "      <td>910</td>\n",
       "      <td>-12.0</td>\n",
       "      <td>AA</td>\n",
       "      <td>1895</td>\n",
       "      <td>N633AA</td>\n",
       "      <td>EWR</td>\n",
       "      <td>MIA</td>\n",
       "      <td>152.0</td>\n",
       "      <td>1085</td>\n",
       "      <td>6</td>\n",
       "      <td>10</td>\n",
       "      <td>2013-01-01 06:00:00</td>\n",
       "    </tr>\n",
       "    <tr>\n",
       "      <th>23</th>\n",
       "      <td>606.0</td>\n",
       "      <td>610</td>\n",
       "      <td>-4.0</td>\n",
       "      <td>837.0</td>\n",
       "      <td>845</td>\n",
       "      <td>-8.0</td>\n",
       "      <td>DL</td>\n",
       "      <td>1743</td>\n",
       "      <td>N3739P</td>\n",
       "      <td>JFK</td>\n",
       "      <td>ATL</td>\n",
       "      <td>128.0</td>\n",
       "      <td>760</td>\n",
       "      <td>6</td>\n",
       "      <td>10</td>\n",
       "      <td>2013-01-01 06:00:00</td>\n",
       "    </tr>\n",
       "    <tr>\n",
       "      <th>24</th>\n",
       "      <td>607.0</td>\n",
       "      <td>607</td>\n",
       "      <td>0.0</td>\n",
       "      <td>858.0</td>\n",
       "      <td>915</td>\n",
       "      <td>-17.0</td>\n",
       "      <td>UA</td>\n",
       "      <td>1077</td>\n",
       "      <td>N53442</td>\n",
       "      <td>EWR</td>\n",
       "      <td>MIA</td>\n",
       "      <td>157.0</td>\n",
       "      <td>1085</td>\n",
       "      <td>6</td>\n",
       "      <td>7</td>\n",
       "      <td>2013-01-01 06:00:00</td>\n",
       "    </tr>\n",
       "    <tr>\n",
       "      <th>25</th>\n",
       "      <td>608.0</td>\n",
       "      <td>600</td>\n",
       "      <td>8.0</td>\n",
       "      <td>807.0</td>\n",
       "      <td>735</td>\n",
       "      <td>32.0</td>\n",
       "      <td>MQ</td>\n",
       "      <td>3768</td>\n",
       "      <td>N9EAMQ</td>\n",
       "      <td>EWR</td>\n",
       "      <td>ORD</td>\n",
       "      <td>139.0</td>\n",
       "      <td>719</td>\n",
       "      <td>6</td>\n",
       "      <td>0</td>\n",
       "      <td>2013-01-01 06:00:00</td>\n",
       "    </tr>\n",
       "    <tr>\n",
       "      <th>26</th>\n",
       "      <td>611.0</td>\n",
       "      <td>600</td>\n",
       "      <td>11.0</td>\n",
       "      <td>945.0</td>\n",
       "      <td>931</td>\n",
       "      <td>14.0</td>\n",
       "      <td>UA</td>\n",
       "      <td>303</td>\n",
       "      <td>N532UA</td>\n",
       "      <td>JFK</td>\n",
       "      <td>SFO</td>\n",
       "      <td>366.0</td>\n",
       "      <td>2586</td>\n",
       "      <td>6</td>\n",
       "      <td>0</td>\n",
       "      <td>2013-01-01 06:00:00</td>\n",
       "    </tr>\n",
       "    <tr>\n",
       "      <th>27</th>\n",
       "      <td>613.0</td>\n",
       "      <td>610</td>\n",
       "      <td>3.0</td>\n",
       "      <td>925.0</td>\n",
       "      <td>921</td>\n",
       "      <td>4.0</td>\n",
       "      <td>B6</td>\n",
       "      <td>135</td>\n",
       "      <td>N635JB</td>\n",
       "      <td>JFK</td>\n",
       "      <td>RSW</td>\n",
       "      <td>175.0</td>\n",
       "      <td>1074</td>\n",
       "      <td>6</td>\n",
       "      <td>10</td>\n",
       "      <td>2013-01-01 06:00:00</td>\n",
       "    </tr>\n",
       "    <tr>\n",
       "      <th>28</th>\n",
       "      <td>615.0</td>\n",
       "      <td>615</td>\n",
       "      <td>0.0</td>\n",
       "      <td>1039.0</td>\n",
       "      <td>1100</td>\n",
       "      <td>-21.0</td>\n",
       "      <td>B6</td>\n",
       "      <td>709</td>\n",
       "      <td>N794JB</td>\n",
       "      <td>JFK</td>\n",
       "      <td>SJU</td>\n",
       "      <td>182.0</td>\n",
       "      <td>1598</td>\n",
       "      <td>6</td>\n",
       "      <td>15</td>\n",
       "      <td>2013-01-01 06:00:00</td>\n",
       "    </tr>\n",
       "    <tr>\n",
       "      <th>29</th>\n",
       "      <td>615.0</td>\n",
       "      <td>615</td>\n",
       "      <td>0.0</td>\n",
       "      <td>833.0</td>\n",
       "      <td>842</td>\n",
       "      <td>-9.0</td>\n",
       "      <td>DL</td>\n",
       "      <td>575</td>\n",
       "      <td>N326NB</td>\n",
       "      <td>EWR</td>\n",
       "      <td>ATL</td>\n",
       "      <td>120.0</td>\n",
       "      <td>746</td>\n",
       "      <td>6</td>\n",
       "      <td>15</td>\n",
       "      <td>2013-01-01 06:00:00</td>\n",
       "    </tr>\n",
       "    <tr>\n",
       "      <th>...</th>\n",
       "      <td>...</td>\n",
       "      <td>...</td>\n",
       "      <td>...</td>\n",
       "      <td>...</td>\n",
       "      <td>...</td>\n",
       "      <td>...</td>\n",
       "      <td>...</td>\n",
       "      <td>...</td>\n",
       "      <td>...</td>\n",
       "      <td>...</td>\n",
       "      <td>...</td>\n",
       "      <td>...</td>\n",
       "      <td>...</td>\n",
       "      <td>...</td>\n",
       "      <td>...</td>\n",
       "      <td>...</td>\n",
       "    </tr>\n",
       "    <tr>\n",
       "      <th>336746</th>\n",
       "      <td>2123.0</td>\n",
       "      <td>2125</td>\n",
       "      <td>-2.0</td>\n",
       "      <td>2223.0</td>\n",
       "      <td>2247</td>\n",
       "      <td>-24.0</td>\n",
       "      <td>EV</td>\n",
       "      <td>5489</td>\n",
       "      <td>N712EV</td>\n",
       "      <td>LGA</td>\n",
       "      <td>CHO</td>\n",
       "      <td>45.0</td>\n",
       "      <td>305</td>\n",
       "      <td>21</td>\n",
       "      <td>25</td>\n",
       "      <td>2013-09-30 21:00:00</td>\n",
       "    </tr>\n",
       "    <tr>\n",
       "      <th>336747</th>\n",
       "      <td>2127.0</td>\n",
       "      <td>2129</td>\n",
       "      <td>-2.0</td>\n",
       "      <td>2314.0</td>\n",
       "      <td>2323</td>\n",
       "      <td>-9.0</td>\n",
       "      <td>EV</td>\n",
       "      <td>3833</td>\n",
       "      <td>N16546</td>\n",
       "      <td>EWR</td>\n",
       "      <td>CLT</td>\n",
       "      <td>72.0</td>\n",
       "      <td>529</td>\n",
       "      <td>21</td>\n",
       "      <td>29</td>\n",
       "      <td>2013-09-30 21:00:00</td>\n",
       "    </tr>\n",
       "    <tr>\n",
       "      <th>336748</th>\n",
       "      <td>2128.0</td>\n",
       "      <td>2130</td>\n",
       "      <td>-2.0</td>\n",
       "      <td>2328.0</td>\n",
       "      <td>2359</td>\n",
       "      <td>-31.0</td>\n",
       "      <td>B6</td>\n",
       "      <td>97</td>\n",
       "      <td>N807JB</td>\n",
       "      <td>JFK</td>\n",
       "      <td>DEN</td>\n",
       "      <td>213.0</td>\n",
       "      <td>1626</td>\n",
       "      <td>21</td>\n",
       "      <td>30</td>\n",
       "      <td>2013-09-30 21:00:00</td>\n",
       "    </tr>\n",
       "    <tr>\n",
       "      <th>336749</th>\n",
       "      <td>2129.0</td>\n",
       "      <td>2059</td>\n",
       "      <td>30.0</td>\n",
       "      <td>2230.0</td>\n",
       "      <td>2232</td>\n",
       "      <td>-2.0</td>\n",
       "      <td>EV</td>\n",
       "      <td>5048</td>\n",
       "      <td>N751EV</td>\n",
       "      <td>LGA</td>\n",
       "      <td>RIC</td>\n",
       "      <td>45.0</td>\n",
       "      <td>292</td>\n",
       "      <td>20</td>\n",
       "      <td>59</td>\n",
       "      <td>2013-09-30 20:00:00</td>\n",
       "    </tr>\n",
       "    <tr>\n",
       "      <th>336750</th>\n",
       "      <td>2131.0</td>\n",
       "      <td>2140</td>\n",
       "      <td>-9.0</td>\n",
       "      <td>2225.0</td>\n",
       "      <td>2255</td>\n",
       "      <td>-30.0</td>\n",
       "      <td>MQ</td>\n",
       "      <td>3621</td>\n",
       "      <td>N807MQ</td>\n",
       "      <td>JFK</td>\n",
       "      <td>DCA</td>\n",
       "      <td>36.0</td>\n",
       "      <td>213</td>\n",
       "      <td>21</td>\n",
       "      <td>40</td>\n",
       "      <td>2013-09-30 21:00:00</td>\n",
       "    </tr>\n",
       "    <tr>\n",
       "      <th>336751</th>\n",
       "      <td>2140.0</td>\n",
       "      <td>2140</td>\n",
       "      <td>0.0</td>\n",
       "      <td>10.0</td>\n",
       "      <td>40</td>\n",
       "      <td>-30.0</td>\n",
       "      <td>AA</td>\n",
       "      <td>185</td>\n",
       "      <td>N335AA</td>\n",
       "      <td>JFK</td>\n",
       "      <td>LAX</td>\n",
       "      <td>298.0</td>\n",
       "      <td>2475</td>\n",
       "      <td>21</td>\n",
       "      <td>40</td>\n",
       "      <td>2013-09-30 21:00:00</td>\n",
       "    </tr>\n",
       "    <tr>\n",
       "      <th>336752</th>\n",
       "      <td>2142.0</td>\n",
       "      <td>2129</td>\n",
       "      <td>13.0</td>\n",
       "      <td>2250.0</td>\n",
       "      <td>2239</td>\n",
       "      <td>11.0</td>\n",
       "      <td>EV</td>\n",
       "      <td>4509</td>\n",
       "      <td>N12957</td>\n",
       "      <td>EWR</td>\n",
       "      <td>PWM</td>\n",
       "      <td>47.0</td>\n",
       "      <td>284</td>\n",
       "      <td>21</td>\n",
       "      <td>29</td>\n",
       "      <td>2013-09-30 21:00:00</td>\n",
       "    </tr>\n",
       "    <tr>\n",
       "      <th>336753</th>\n",
       "      <td>2145.0</td>\n",
       "      <td>2145</td>\n",
       "      <td>0.0</td>\n",
       "      <td>115.0</td>\n",
       "      <td>140</td>\n",
       "      <td>-25.0</td>\n",
       "      <td>B6</td>\n",
       "      <td>1103</td>\n",
       "      <td>N633JB</td>\n",
       "      <td>JFK</td>\n",
       "      <td>SJU</td>\n",
       "      <td>192.0</td>\n",
       "      <td>1598</td>\n",
       "      <td>21</td>\n",
       "      <td>45</td>\n",
       "      <td>2013-09-30 21:00:00</td>\n",
       "    </tr>\n",
       "    <tr>\n",
       "      <th>336754</th>\n",
       "      <td>2147.0</td>\n",
       "      <td>2137</td>\n",
       "      <td>10.0</td>\n",
       "      <td>30.0</td>\n",
       "      <td>27</td>\n",
       "      <td>3.0</td>\n",
       "      <td>B6</td>\n",
       "      <td>1371</td>\n",
       "      <td>N627JB</td>\n",
       "      <td>LGA</td>\n",
       "      <td>FLL</td>\n",
       "      <td>139.0</td>\n",
       "      <td>1076</td>\n",
       "      <td>21</td>\n",
       "      <td>37</td>\n",
       "      <td>2013-09-30 21:00:00</td>\n",
       "    </tr>\n",
       "    <tr>\n",
       "      <th>336755</th>\n",
       "      <td>2149.0</td>\n",
       "      <td>2156</td>\n",
       "      <td>-7.0</td>\n",
       "      <td>2245.0</td>\n",
       "      <td>2308</td>\n",
       "      <td>-23.0</td>\n",
       "      <td>UA</td>\n",
       "      <td>523</td>\n",
       "      <td>N813UA</td>\n",
       "      <td>EWR</td>\n",
       "      <td>BOS</td>\n",
       "      <td>37.0</td>\n",
       "      <td>200</td>\n",
       "      <td>21</td>\n",
       "      <td>56</td>\n",
       "      <td>2013-09-30 21:00:00</td>\n",
       "    </tr>\n",
       "    <tr>\n",
       "      <th>336756</th>\n",
       "      <td>2150.0</td>\n",
       "      <td>2159</td>\n",
       "      <td>-9.0</td>\n",
       "      <td>2250.0</td>\n",
       "      <td>2306</td>\n",
       "      <td>-16.0</td>\n",
       "      <td>EV</td>\n",
       "      <td>3842</td>\n",
       "      <td>N10575</td>\n",
       "      <td>EWR</td>\n",
       "      <td>MHT</td>\n",
       "      <td>39.0</td>\n",
       "      <td>209</td>\n",
       "      <td>21</td>\n",
       "      <td>59</td>\n",
       "      <td>2013-09-30 21:00:00</td>\n",
       "    </tr>\n",
       "    <tr>\n",
       "      <th>336757</th>\n",
       "      <td>2159.0</td>\n",
       "      <td>1845</td>\n",
       "      <td>194.0</td>\n",
       "      <td>2344.0</td>\n",
       "      <td>2030</td>\n",
       "      <td>194.0</td>\n",
       "      <td>9E</td>\n",
       "      <td>3320</td>\n",
       "      <td>N906XJ</td>\n",
       "      <td>JFK</td>\n",
       "      <td>BUF</td>\n",
       "      <td>50.0</td>\n",
       "      <td>301</td>\n",
       "      <td>18</td>\n",
       "      <td>45</td>\n",
       "      <td>2013-09-30 18:00:00</td>\n",
       "    </tr>\n",
       "    <tr>\n",
       "      <th>336758</th>\n",
       "      <td>2203.0</td>\n",
       "      <td>2205</td>\n",
       "      <td>-2.0</td>\n",
       "      <td>2339.0</td>\n",
       "      <td>2331</td>\n",
       "      <td>8.0</td>\n",
       "      <td>EV</td>\n",
       "      <td>5311</td>\n",
       "      <td>N722EV</td>\n",
       "      <td>LGA</td>\n",
       "      <td>BGR</td>\n",
       "      <td>61.0</td>\n",
       "      <td>378</td>\n",
       "      <td>22</td>\n",
       "      <td>5</td>\n",
       "      <td>2013-09-30 22:00:00</td>\n",
       "    </tr>\n",
       "    <tr>\n",
       "      <th>336759</th>\n",
       "      <td>2207.0</td>\n",
       "      <td>2140</td>\n",
       "      <td>27.0</td>\n",
       "      <td>2257.0</td>\n",
       "      <td>2250</td>\n",
       "      <td>7.0</td>\n",
       "      <td>MQ</td>\n",
       "      <td>3660</td>\n",
       "      <td>N532MQ</td>\n",
       "      <td>LGA</td>\n",
       "      <td>BNA</td>\n",
       "      <td>97.0</td>\n",
       "      <td>764</td>\n",
       "      <td>21</td>\n",
       "      <td>40</td>\n",
       "      <td>2013-09-30 21:00:00</td>\n",
       "    </tr>\n",
       "    <tr>\n",
       "      <th>336760</th>\n",
       "      <td>2211.0</td>\n",
       "      <td>2059</td>\n",
       "      <td>72.0</td>\n",
       "      <td>2339.0</td>\n",
       "      <td>2242</td>\n",
       "      <td>57.0</td>\n",
       "      <td>EV</td>\n",
       "      <td>4672</td>\n",
       "      <td>N12145</td>\n",
       "      <td>EWR</td>\n",
       "      <td>STL</td>\n",
       "      <td>120.0</td>\n",
       "      <td>872</td>\n",
       "      <td>20</td>\n",
       "      <td>59</td>\n",
       "      <td>2013-09-30 20:00:00</td>\n",
       "    </tr>\n",
       "    <tr>\n",
       "      <th>336761</th>\n",
       "      <td>2231.0</td>\n",
       "      <td>2245</td>\n",
       "      <td>-14.0</td>\n",
       "      <td>2335.0</td>\n",
       "      <td>2356</td>\n",
       "      <td>-21.0</td>\n",
       "      <td>B6</td>\n",
       "      <td>108</td>\n",
       "      <td>N193JB</td>\n",
       "      <td>JFK</td>\n",
       "      <td>PWM</td>\n",
       "      <td>48.0</td>\n",
       "      <td>273</td>\n",
       "      <td>22</td>\n",
       "      <td>45</td>\n",
       "      <td>2013-09-30 22:00:00</td>\n",
       "    </tr>\n",
       "    <tr>\n",
       "      <th>336762</th>\n",
       "      <td>2233.0</td>\n",
       "      <td>2113</td>\n",
       "      <td>80.0</td>\n",
       "      <td>112.0</td>\n",
       "      <td>30</td>\n",
       "      <td>42.0</td>\n",
       "      <td>UA</td>\n",
       "      <td>471</td>\n",
       "      <td>N578UA</td>\n",
       "      <td>EWR</td>\n",
       "      <td>SFO</td>\n",
       "      <td>318.0</td>\n",
       "      <td>2565</td>\n",
       "      <td>21</td>\n",
       "      <td>13</td>\n",
       "      <td>2013-09-30 21:00:00</td>\n",
       "    </tr>\n",
       "    <tr>\n",
       "      <th>336763</th>\n",
       "      <td>2235.0</td>\n",
       "      <td>2001</td>\n",
       "      <td>154.0</td>\n",
       "      <td>59.0</td>\n",
       "      <td>2249</td>\n",
       "      <td>130.0</td>\n",
       "      <td>B6</td>\n",
       "      <td>1083</td>\n",
       "      <td>N804JB</td>\n",
       "      <td>JFK</td>\n",
       "      <td>MCO</td>\n",
       "      <td>123.0</td>\n",
       "      <td>944</td>\n",
       "      <td>20</td>\n",
       "      <td>1</td>\n",
       "      <td>2013-09-30 20:00:00</td>\n",
       "    </tr>\n",
       "    <tr>\n",
       "      <th>336764</th>\n",
       "      <td>2237.0</td>\n",
       "      <td>2245</td>\n",
       "      <td>-8.0</td>\n",
       "      <td>2345.0</td>\n",
       "      <td>2353</td>\n",
       "      <td>-8.0</td>\n",
       "      <td>B6</td>\n",
       "      <td>234</td>\n",
       "      <td>N318JB</td>\n",
       "      <td>JFK</td>\n",
       "      <td>BTV</td>\n",
       "      <td>43.0</td>\n",
       "      <td>266</td>\n",
       "      <td>22</td>\n",
       "      <td>45</td>\n",
       "      <td>2013-09-30 22:00:00</td>\n",
       "    </tr>\n",
       "    <tr>\n",
       "      <th>336765</th>\n",
       "      <td>2240.0</td>\n",
       "      <td>2245</td>\n",
       "      <td>-5.0</td>\n",
       "      <td>2334.0</td>\n",
       "      <td>2351</td>\n",
       "      <td>-17.0</td>\n",
       "      <td>B6</td>\n",
       "      <td>1816</td>\n",
       "      <td>N354JB</td>\n",
       "      <td>JFK</td>\n",
       "      <td>SYR</td>\n",
       "      <td>41.0</td>\n",
       "      <td>209</td>\n",
       "      <td>22</td>\n",
       "      <td>45</td>\n",
       "      <td>2013-09-30 22:00:00</td>\n",
       "    </tr>\n",
       "    <tr>\n",
       "      <th>336766</th>\n",
       "      <td>2240.0</td>\n",
       "      <td>2250</td>\n",
       "      <td>-10.0</td>\n",
       "      <td>2347.0</td>\n",
       "      <td>7</td>\n",
       "      <td>-20.0</td>\n",
       "      <td>B6</td>\n",
       "      <td>2002</td>\n",
       "      <td>N281JB</td>\n",
       "      <td>JFK</td>\n",
       "      <td>BUF</td>\n",
       "      <td>52.0</td>\n",
       "      <td>301</td>\n",
       "      <td>22</td>\n",
       "      <td>50</td>\n",
       "      <td>2013-09-30 22:00:00</td>\n",
       "    </tr>\n",
       "    <tr>\n",
       "      <th>336767</th>\n",
       "      <td>2241.0</td>\n",
       "      <td>2246</td>\n",
       "      <td>-5.0</td>\n",
       "      <td>2345.0</td>\n",
       "      <td>1</td>\n",
       "      <td>-16.0</td>\n",
       "      <td>B6</td>\n",
       "      <td>486</td>\n",
       "      <td>N346JB</td>\n",
       "      <td>JFK</td>\n",
       "      <td>ROC</td>\n",
       "      <td>47.0</td>\n",
       "      <td>264</td>\n",
       "      <td>22</td>\n",
       "      <td>46</td>\n",
       "      <td>2013-09-30 22:00:00</td>\n",
       "    </tr>\n",
       "    <tr>\n",
       "      <th>336768</th>\n",
       "      <td>2307.0</td>\n",
       "      <td>2255</td>\n",
       "      <td>12.0</td>\n",
       "      <td>2359.0</td>\n",
       "      <td>2358</td>\n",
       "      <td>1.0</td>\n",
       "      <td>B6</td>\n",
       "      <td>718</td>\n",
       "      <td>N565JB</td>\n",
       "      <td>JFK</td>\n",
       "      <td>BOS</td>\n",
       "      <td>33.0</td>\n",
       "      <td>187</td>\n",
       "      <td>22</td>\n",
       "      <td>55</td>\n",
       "      <td>2013-09-30 22:00:00</td>\n",
       "    </tr>\n",
       "    <tr>\n",
       "      <th>336769</th>\n",
       "      <td>2349.0</td>\n",
       "      <td>2359</td>\n",
       "      <td>-10.0</td>\n",
       "      <td>325.0</td>\n",
       "      <td>350</td>\n",
       "      <td>-25.0</td>\n",
       "      <td>B6</td>\n",
       "      <td>745</td>\n",
       "      <td>N516JB</td>\n",
       "      <td>JFK</td>\n",
       "      <td>PSE</td>\n",
       "      <td>196.0</td>\n",
       "      <td>1617</td>\n",
       "      <td>23</td>\n",
       "      <td>59</td>\n",
       "      <td>2013-09-30 23:00:00</td>\n",
       "    </tr>\n",
       "    <tr>\n",
       "      <th>336770</th>\n",
       "      <td>NaN</td>\n",
       "      <td>1842</td>\n",
       "      <td>NaN</td>\n",
       "      <td>NaN</td>\n",
       "      <td>2019</td>\n",
       "      <td>NaN</td>\n",
       "      <td>EV</td>\n",
       "      <td>5274</td>\n",
       "      <td>N740EV</td>\n",
       "      <td>LGA</td>\n",
       "      <td>BNA</td>\n",
       "      <td>NaN</td>\n",
       "      <td>764</td>\n",
       "      <td>18</td>\n",
       "      <td>42</td>\n",
       "      <td>2013-09-30 18:00:00</td>\n",
       "    </tr>\n",
       "    <tr>\n",
       "      <th>336771</th>\n",
       "      <td>NaN</td>\n",
       "      <td>1455</td>\n",
       "      <td>NaN</td>\n",
       "      <td>NaN</td>\n",
       "      <td>1634</td>\n",
       "      <td>NaN</td>\n",
       "      <td>9E</td>\n",
       "      <td>3393</td>\n",
       "      <td>NaN</td>\n",
       "      <td>JFK</td>\n",
       "      <td>DCA</td>\n",
       "      <td>NaN</td>\n",
       "      <td>213</td>\n",
       "      <td>14</td>\n",
       "      <td>55</td>\n",
       "      <td>2013-09-30 14:00:00</td>\n",
       "    </tr>\n",
       "    <tr>\n",
       "      <th>336772</th>\n",
       "      <td>NaN</td>\n",
       "      <td>2200</td>\n",
       "      <td>NaN</td>\n",
       "      <td>NaN</td>\n",
       "      <td>2312</td>\n",
       "      <td>NaN</td>\n",
       "      <td>9E</td>\n",
       "      <td>3525</td>\n",
       "      <td>NaN</td>\n",
       "      <td>LGA</td>\n",
       "      <td>SYR</td>\n",
       "      <td>NaN</td>\n",
       "      <td>198</td>\n",
       "      <td>22</td>\n",
       "      <td>0</td>\n",
       "      <td>2013-09-30 22:00:00</td>\n",
       "    </tr>\n",
       "    <tr>\n",
       "      <th>336773</th>\n",
       "      <td>NaN</td>\n",
       "      <td>1210</td>\n",
       "      <td>NaN</td>\n",
       "      <td>NaN</td>\n",
       "      <td>1330</td>\n",
       "      <td>NaN</td>\n",
       "      <td>MQ</td>\n",
       "      <td>3461</td>\n",
       "      <td>N535MQ</td>\n",
       "      <td>LGA</td>\n",
       "      <td>BNA</td>\n",
       "      <td>NaN</td>\n",
       "      <td>764</td>\n",
       "      <td>12</td>\n",
       "      <td>10</td>\n",
       "      <td>2013-09-30 12:00:00</td>\n",
       "    </tr>\n",
       "    <tr>\n",
       "      <th>336774</th>\n",
       "      <td>NaN</td>\n",
       "      <td>1159</td>\n",
       "      <td>NaN</td>\n",
       "      <td>NaN</td>\n",
       "      <td>1344</td>\n",
       "      <td>NaN</td>\n",
       "      <td>MQ</td>\n",
       "      <td>3572</td>\n",
       "      <td>N511MQ</td>\n",
       "      <td>LGA</td>\n",
       "      <td>CLE</td>\n",
       "      <td>NaN</td>\n",
       "      <td>419</td>\n",
       "      <td>11</td>\n",
       "      <td>59</td>\n",
       "      <td>2013-09-30 11:00:00</td>\n",
       "    </tr>\n",
       "    <tr>\n",
       "      <th>336775</th>\n",
       "      <td>NaN</td>\n",
       "      <td>840</td>\n",
       "      <td>NaN</td>\n",
       "      <td>NaN</td>\n",
       "      <td>1020</td>\n",
       "      <td>NaN</td>\n",
       "      <td>MQ</td>\n",
       "      <td>3531</td>\n",
       "      <td>N839MQ</td>\n",
       "      <td>LGA</td>\n",
       "      <td>RDU</td>\n",
       "      <td>NaN</td>\n",
       "      <td>431</td>\n",
       "      <td>8</td>\n",
       "      <td>40</td>\n",
       "      <td>2013-09-30 08:00:00</td>\n",
       "    </tr>\n",
       "  </tbody>\n",
       "</table>\n",
       "<p>336776 rows × 16 columns</p>\n",
       "</div>"
      ],
      "text/plain": [
       "        dep_time  sched_dep_time  dep_delay  arr_time  sched_arr_time  \\\n",
       "0          517.0             515        2.0     830.0             819   \n",
       "1          533.0             529        4.0     850.0             830   \n",
       "2          542.0             540        2.0     923.0             850   \n",
       "3          544.0             545       -1.0    1004.0            1022   \n",
       "4          554.0             600       -6.0     812.0             837   \n",
       "5          554.0             558       -4.0     740.0             728   \n",
       "6          555.0             600       -5.0     913.0             854   \n",
       "7          557.0             600       -3.0     709.0             723   \n",
       "8          557.0             600       -3.0     838.0             846   \n",
       "9          558.0             600       -2.0     753.0             745   \n",
       "10         558.0             600       -2.0     849.0             851   \n",
       "11         558.0             600       -2.0     853.0             856   \n",
       "12         558.0             600       -2.0     924.0             917   \n",
       "13         558.0             600       -2.0     923.0             937   \n",
       "14         559.0             600       -1.0     941.0             910   \n",
       "15         559.0             559        0.0     702.0             706   \n",
       "16         559.0             600       -1.0     854.0             902   \n",
       "17         600.0             600        0.0     851.0             858   \n",
       "18         600.0             600        0.0     837.0             825   \n",
       "19         601.0             600        1.0     844.0             850   \n",
       "20         602.0             610       -8.0     812.0             820   \n",
       "21         602.0             605       -3.0     821.0             805   \n",
       "22         606.0             610       -4.0     858.0             910   \n",
       "23         606.0             610       -4.0     837.0             845   \n",
       "24         607.0             607        0.0     858.0             915   \n",
       "25         608.0             600        8.0     807.0             735   \n",
       "26         611.0             600       11.0     945.0             931   \n",
       "27         613.0             610        3.0     925.0             921   \n",
       "28         615.0             615        0.0    1039.0            1100   \n",
       "29         615.0             615        0.0     833.0             842   \n",
       "...          ...             ...        ...       ...             ...   \n",
       "336746    2123.0            2125       -2.0    2223.0            2247   \n",
       "336747    2127.0            2129       -2.0    2314.0            2323   \n",
       "336748    2128.0            2130       -2.0    2328.0            2359   \n",
       "336749    2129.0            2059       30.0    2230.0            2232   \n",
       "336750    2131.0            2140       -9.0    2225.0            2255   \n",
       "336751    2140.0            2140        0.0      10.0              40   \n",
       "336752    2142.0            2129       13.0    2250.0            2239   \n",
       "336753    2145.0            2145        0.0     115.0             140   \n",
       "336754    2147.0            2137       10.0      30.0              27   \n",
       "336755    2149.0            2156       -7.0    2245.0            2308   \n",
       "336756    2150.0            2159       -9.0    2250.0            2306   \n",
       "336757    2159.0            1845      194.0    2344.0            2030   \n",
       "336758    2203.0            2205       -2.0    2339.0            2331   \n",
       "336759    2207.0            2140       27.0    2257.0            2250   \n",
       "336760    2211.0            2059       72.0    2339.0            2242   \n",
       "336761    2231.0            2245      -14.0    2335.0            2356   \n",
       "336762    2233.0            2113       80.0     112.0              30   \n",
       "336763    2235.0            2001      154.0      59.0            2249   \n",
       "336764    2237.0            2245       -8.0    2345.0            2353   \n",
       "336765    2240.0            2245       -5.0    2334.0            2351   \n",
       "336766    2240.0            2250      -10.0    2347.0               7   \n",
       "336767    2241.0            2246       -5.0    2345.0               1   \n",
       "336768    2307.0            2255       12.0    2359.0            2358   \n",
       "336769    2349.0            2359      -10.0     325.0             350   \n",
       "336770       NaN            1842        NaN       NaN            2019   \n",
       "336771       NaN            1455        NaN       NaN            1634   \n",
       "336772       NaN            2200        NaN       NaN            2312   \n",
       "336773       NaN            1210        NaN       NaN            1330   \n",
       "336774       NaN            1159        NaN       NaN            1344   \n",
       "336775       NaN             840        NaN       NaN            1020   \n",
       "\n",
       "        arr_delay carrier  flight tailnum origin dest  air_time  distance  \\\n",
       "0            11.0      UA    1545  N14228    EWR  IAH     227.0      1400   \n",
       "1            20.0      UA    1714  N24211    LGA  IAH     227.0      1416   \n",
       "2            33.0      AA    1141  N619AA    JFK  MIA     160.0      1089   \n",
       "3           -18.0      B6     725  N804JB    JFK  BQN     183.0      1576   \n",
       "4           -25.0      DL     461  N668DN    LGA  ATL     116.0       762   \n",
       "5            12.0      UA    1696  N39463    EWR  ORD     150.0       719   \n",
       "6            19.0      B6     507  N516JB    EWR  FLL     158.0      1065   \n",
       "7           -14.0      EV    5708  N829AS    LGA  IAD      53.0       229   \n",
       "8            -8.0      B6      79  N593JB    JFK  MCO     140.0       944   \n",
       "9             8.0      AA     301  N3ALAA    LGA  ORD     138.0       733   \n",
       "10           -2.0      B6      49  N793JB    JFK  PBI     149.0      1028   \n",
       "11           -3.0      B6      71  N657JB    JFK  TPA     158.0      1005   \n",
       "12            7.0      UA     194  N29129    JFK  LAX     345.0      2475   \n",
       "13          -14.0      UA    1124  N53441    EWR  SFO     361.0      2565   \n",
       "14           31.0      AA     707  N3DUAA    LGA  DFW     257.0      1389   \n",
       "15           -4.0      B6    1806  N708JB    JFK  BOS      44.0       187   \n",
       "16           -8.0      UA    1187  N76515    EWR  LAS     337.0      2227   \n",
       "17           -7.0      B6     371  N595JB    LGA  FLL     152.0      1076   \n",
       "18           12.0      MQ    4650  N542MQ    LGA  ATL     134.0       762   \n",
       "19           -6.0      B6     343  N644JB    EWR  PBI     147.0      1023   \n",
       "20           -8.0      DL    1919  N971DL    LGA  MSP     170.0      1020   \n",
       "21           16.0      MQ    4401  N730MQ    LGA  DTW     105.0       502   \n",
       "22          -12.0      AA    1895  N633AA    EWR  MIA     152.0      1085   \n",
       "23           -8.0      DL    1743  N3739P    JFK  ATL     128.0       760   \n",
       "24          -17.0      UA    1077  N53442    EWR  MIA     157.0      1085   \n",
       "25           32.0      MQ    3768  N9EAMQ    EWR  ORD     139.0       719   \n",
       "26           14.0      UA     303  N532UA    JFK  SFO     366.0      2586   \n",
       "27            4.0      B6     135  N635JB    JFK  RSW     175.0      1074   \n",
       "28          -21.0      B6     709  N794JB    JFK  SJU     182.0      1598   \n",
       "29           -9.0      DL     575  N326NB    EWR  ATL     120.0       746   \n",
       "...           ...     ...     ...     ...    ...  ...       ...       ...   \n",
       "336746      -24.0      EV    5489  N712EV    LGA  CHO      45.0       305   \n",
       "336747       -9.0      EV    3833  N16546    EWR  CLT      72.0       529   \n",
       "336748      -31.0      B6      97  N807JB    JFK  DEN     213.0      1626   \n",
       "336749       -2.0      EV    5048  N751EV    LGA  RIC      45.0       292   \n",
       "336750      -30.0      MQ    3621  N807MQ    JFK  DCA      36.0       213   \n",
       "336751      -30.0      AA     185  N335AA    JFK  LAX     298.0      2475   \n",
       "336752       11.0      EV    4509  N12957    EWR  PWM      47.0       284   \n",
       "336753      -25.0      B6    1103  N633JB    JFK  SJU     192.0      1598   \n",
       "336754        3.0      B6    1371  N627JB    LGA  FLL     139.0      1076   \n",
       "336755      -23.0      UA     523  N813UA    EWR  BOS      37.0       200   \n",
       "336756      -16.0      EV    3842  N10575    EWR  MHT      39.0       209   \n",
       "336757      194.0      9E    3320  N906XJ    JFK  BUF      50.0       301   \n",
       "336758        8.0      EV    5311  N722EV    LGA  BGR      61.0       378   \n",
       "336759        7.0      MQ    3660  N532MQ    LGA  BNA      97.0       764   \n",
       "336760       57.0      EV    4672  N12145    EWR  STL     120.0       872   \n",
       "336761      -21.0      B6     108  N193JB    JFK  PWM      48.0       273   \n",
       "336762       42.0      UA     471  N578UA    EWR  SFO     318.0      2565   \n",
       "336763      130.0      B6    1083  N804JB    JFK  MCO     123.0       944   \n",
       "336764       -8.0      B6     234  N318JB    JFK  BTV      43.0       266   \n",
       "336765      -17.0      B6    1816  N354JB    JFK  SYR      41.0       209   \n",
       "336766      -20.0      B6    2002  N281JB    JFK  BUF      52.0       301   \n",
       "336767      -16.0      B6     486  N346JB    JFK  ROC      47.0       264   \n",
       "336768        1.0      B6     718  N565JB    JFK  BOS      33.0       187   \n",
       "336769      -25.0      B6     745  N516JB    JFK  PSE     196.0      1617   \n",
       "336770        NaN      EV    5274  N740EV    LGA  BNA       NaN       764   \n",
       "336771        NaN      9E    3393     NaN    JFK  DCA       NaN       213   \n",
       "336772        NaN      9E    3525     NaN    LGA  SYR       NaN       198   \n",
       "336773        NaN      MQ    3461  N535MQ    LGA  BNA       NaN       764   \n",
       "336774        NaN      MQ    3572  N511MQ    LGA  CLE       NaN       419   \n",
       "336775        NaN      MQ    3531  N839MQ    LGA  RDU       NaN       431   \n",
       "\n",
       "        hour  minute            time_hour  \n",
       "0          5      15  2013-01-01 05:00:00  \n",
       "1          5      29  2013-01-01 05:00:00  \n",
       "2          5      40  2013-01-01 05:00:00  \n",
       "3          5      45  2013-01-01 05:00:00  \n",
       "4          6       0  2013-01-01 06:00:00  \n",
       "5          5      58  2013-01-01 05:00:00  \n",
       "6          6       0  2013-01-01 06:00:00  \n",
       "7          6       0  2013-01-01 06:00:00  \n",
       "8          6       0  2013-01-01 06:00:00  \n",
       "9          6       0  2013-01-01 06:00:00  \n",
       "10         6       0  2013-01-01 06:00:00  \n",
       "11         6       0  2013-01-01 06:00:00  \n",
       "12         6       0  2013-01-01 06:00:00  \n",
       "13         6       0  2013-01-01 06:00:00  \n",
       "14         6       0  2013-01-01 06:00:00  \n",
       "15         5      59  2013-01-01 05:00:00  \n",
       "16         6       0  2013-01-01 06:00:00  \n",
       "17         6       0  2013-01-01 06:00:00  \n",
       "18         6       0  2013-01-01 06:00:00  \n",
       "19         6       0  2013-01-01 06:00:00  \n",
       "20         6      10  2013-01-01 06:00:00  \n",
       "21         6       5  2013-01-01 06:00:00  \n",
       "22         6      10  2013-01-01 06:00:00  \n",
       "23         6      10  2013-01-01 06:00:00  \n",
       "24         6       7  2013-01-01 06:00:00  \n",
       "25         6       0  2013-01-01 06:00:00  \n",
       "26         6       0  2013-01-01 06:00:00  \n",
       "27         6      10  2013-01-01 06:00:00  \n",
       "28         6      15  2013-01-01 06:00:00  \n",
       "29         6      15  2013-01-01 06:00:00  \n",
       "...      ...     ...                  ...  \n",
       "336746    21      25  2013-09-30 21:00:00  \n",
       "336747    21      29  2013-09-30 21:00:00  \n",
       "336748    21      30  2013-09-30 21:00:00  \n",
       "336749    20      59  2013-09-30 20:00:00  \n",
       "336750    21      40  2013-09-30 21:00:00  \n",
       "336751    21      40  2013-09-30 21:00:00  \n",
       "336752    21      29  2013-09-30 21:00:00  \n",
       "336753    21      45  2013-09-30 21:00:00  \n",
       "336754    21      37  2013-09-30 21:00:00  \n",
       "336755    21      56  2013-09-30 21:00:00  \n",
       "336756    21      59  2013-09-30 21:00:00  \n",
       "336757    18      45  2013-09-30 18:00:00  \n",
       "336758    22       5  2013-09-30 22:00:00  \n",
       "336759    21      40  2013-09-30 21:00:00  \n",
       "336760    20      59  2013-09-30 20:00:00  \n",
       "336761    22      45  2013-09-30 22:00:00  \n",
       "336762    21      13  2013-09-30 21:00:00  \n",
       "336763    20       1  2013-09-30 20:00:00  \n",
       "336764    22      45  2013-09-30 22:00:00  \n",
       "336765    22      45  2013-09-30 22:00:00  \n",
       "336766    22      50  2013-09-30 22:00:00  \n",
       "336767    22      46  2013-09-30 22:00:00  \n",
       "336768    22      55  2013-09-30 22:00:00  \n",
       "336769    23      59  2013-09-30 23:00:00  \n",
       "336770    18      42  2013-09-30 18:00:00  \n",
       "336771    14      55  2013-09-30 14:00:00  \n",
       "336772    22       0  2013-09-30 22:00:00  \n",
       "336773    12      10  2013-09-30 12:00:00  \n",
       "336774    11      59  2013-09-30 11:00:00  \n",
       "336775     8      40  2013-09-30 08:00:00  \n",
       "\n",
       "[336776 rows x 16 columns]"
      ]
     },
     "execution_count": 87,
     "metadata": {},
     "output_type": "execute_result"
    }
   ],
   "source": [
    "if lx<dx:\n",
    "    x2=x[0:lx]+x[(dx+1):]\n",
    "else:\n",
    "    x2=x[0:dx]+x[(lx+1):]\n",
    "flights[x2] "
   ]
  },
  {
   "cell_type": "markdown",
   "metadata": {},
   "source": [
    "## EXERCISE 3"
   ]
  },
  {
   "cell_type": "code",
   "execution_count": 1,
   "metadata": {},
   "outputs": [
    {
     "name": "stdout",
     "output_type": "stream",
     "text": [
      "total 7208\n",
      "-rw-r--r--@  1 luchino_prince  staff    44507 Sep 26 16:57 Lezione1.ipynb\n",
      "-rw-r--r--   1 luchino_prince  staff      555 Sep 27 08:59 Untitled.ipynb\n",
      "drwxr-xr-x  12 luchino_prince  staff      384 Oct  1 11:50 \u001b[34mProbabilityAndStatistics\u001b[m\u001b[m\n",
      "-rw-r--r--   1 luchino_prince  staff   125676 Oct  2 10:58 Untitled1.ipynb\n",
      "-rw-r--r--   1 luchino_prince  staff       72 Oct  2 11:40 Untitled2.ipynb\n",
      "-rw-r--r--   1 luchino_prince  staff   406086 Oct  2 11:41 lez_seaborn.ipynb\n",
      "-rw-r--r--@  1 luchino_prince  staff  2819379 Oct  2 12:16 temp-plot.html\n",
      "-rw-r--r--   1 luchino_prince  staff       72 Oct  2 12:17 Untitled3.ipynb\n",
      "-rw-r--r--   1 luchino_prince  staff    21276 Oct  2 12:17 plotly.ipynb\n",
      "-rw-r--r--   1 luchino_prince  staff    16040 Oct  3 11:17 Untitled4.ipynb\n",
      "-rw-r--r--   1 luchino_prince  staff     2538 Oct  3 12:14 Untitled5.ipynb\n",
      "drwxr-xr-x  12 luchino_prince  staff      384 Oct  3 12:20 \u001b[34mdata_assignment\u001b[m\u001b[m\n",
      "-rw-r--r--   1 luchino_prince  staff    43606 Oct  3 13:36 Untitled6.ipynb\n",
      "-rw-r--r--   1 luchino_prince  staff       72 Oct  3 17:17 Untitled7.ipynb\n",
      "-rw-r--r--   1 luchino_prince  staff    55940 Oct  3 17:18 PCA.ipynb\n",
      "-rw-r--r--   1 luchino_prince  staff     3436 Oct  3 17:43 Custer_analysis.ipynb\n",
      "-rw-r--r--@  1 luchino_prince  staff    17188 Oct  4 15:27 NUMPY, Exercises_stat.ipynb\n",
      "-rw-r--r--   1 luchino_prince  staff    95983 Oct  5 00:14 assesment_pandas.ipynb\n"
     ]
    }
   ],
   "source": [
    "!ls -lrt"
   ]
  },
  {
   "cell_type": "code",
   "execution_count": 2,
   "metadata": {},
   "outputs": [
    {
     "name": "stdout",
     "output_type": "stream",
     "text": [
      "/Users/luchino_prince/Desktop/statistics/data_assignment\n"
     ]
    }
   ],
   "source": [
    "%cd ./data_assignment"
   ]
  },
  {
   "cell_type": "code",
   "execution_count": 3,
   "metadata": {},
   "outputs": [
    {
     "name": "stdout",
     "output_type": "stream",
     "text": [
      "/Users/luchino_prince/Desktop/statistics/data_assignment/Assignment_1\n"
     ]
    }
   ],
   "source": [
    "%cd ./Assignment_1"
   ]
  },
  {
   "cell_type": "code",
   "execution_count": 4,
   "metadata": {},
   "outputs": [
    {
     "name": "stdout",
     "output_type": "stream",
     "text": [
      "/Users/luchino_prince/Desktop/statistics/data_assignment/Assignment_1/data\n"
     ]
    }
   ],
   "source": [
    "%cd ./data"
   ]
  },
  {
   "cell_type": "code",
   "execution_count": 10,
   "metadata": {},
   "outputs": [],
   "source": [
    "A = pd.read_csv(\"some_birth_dates1.csv\")"
   ]
  },
  {
   "cell_type": "code",
   "execution_count": 11,
   "metadata": {},
   "outputs": [],
   "source": [
    "B = pd.read_csv(\"some_birth_dates2.csv\")"
   ]
  },
  {
   "cell_type": "code",
   "execution_count": 12,
   "metadata": {},
   "outputs": [],
   "source": [
    "C = pd.read_csv(\"some_birth_dates3.csv\")"
   ]
  },
  {
   "cell_type": "markdown",
   "metadata": {},
   "source": [
    "I have my 3 pandas DataFrames."
   ]
  },
  {
   "cell_type": "markdown",
   "metadata": {},
   "source": [
    "### A U B"
   ]
  },
  {
   "cell_type": "code",
   "execution_count": 40,
   "metadata": {},
   "outputs": [],
   "source": [
    "union = pd.merge(A,B,'outer')"
   ]
  },
  {
   "cell_type": "code",
   "execution_count": 41,
   "metadata": {},
   "outputs": [
    {
     "data": {
      "text/html": [
       "<div>\n",
       "<style scoped>\n",
       "    .dataframe tbody tr th:only-of-type {\n",
       "        vertical-align: middle;\n",
       "    }\n",
       "\n",
       "    .dataframe tbody tr th {\n",
       "        vertical-align: top;\n",
       "    }\n",
       "\n",
       "    .dataframe thead th {\n",
       "        text-align: right;\n",
       "    }\n",
       "</style>\n",
       "<table border=\"1\" class=\"dataframe\">\n",
       "  <thead>\n",
       "    <tr style=\"text-align: right;\">\n",
       "      <th></th>\n",
       "      <th>Name</th>\n",
       "      <th>BirthDate</th>\n",
       "    </tr>\n",
       "  </thead>\n",
       "  <tbody>\n",
       "    <tr>\n",
       "      <th>0</th>\n",
       "      <td>Paitoon Ornwimol</td>\n",
       "      <td>26.06.1958</td>\n",
       "    </tr>\n",
       "    <tr>\n",
       "      <th>1</th>\n",
       "      <td>Antónia Lata</td>\n",
       "      <td>20.05.1935</td>\n",
       "    </tr>\n",
       "    <tr>\n",
       "      <th>2</th>\n",
       "      <td>Bertoldo Mallozzi</td>\n",
       "      <td>17.08.1972</td>\n",
       "    </tr>\n",
       "    <tr>\n",
       "      <th>3</th>\n",
       "      <td>Nedeljko Bukv</td>\n",
       "      <td>19.12.1921</td>\n",
       "    </tr>\n",
       "    <tr>\n",
       "      <th>4</th>\n",
       "      <td>Micha Kitchen</td>\n",
       "      <td>17.09.1930</td>\n",
       "    </tr>\n",
       "    <tr>\n",
       "      <th>5</th>\n",
       "      <td>Mefodiy Shachar</td>\n",
       "      <td>01.10.1914</td>\n",
       "    </tr>\n",
       "    <tr>\n",
       "      <th>6</th>\n",
       "      <td>Paul Meckler</td>\n",
       "      <td>29.09.1968</td>\n",
       "    </tr>\n",
       "    <tr>\n",
       "      <th>7</th>\n",
       "      <td>Katarzyna Lasko</td>\n",
       "      <td>20.10.1971</td>\n",
       "    </tr>\n",
       "    <tr>\n",
       "      <th>8</th>\n",
       "      <td>Åge Trelstad</td>\n",
       "      <td>07.03.1935</td>\n",
       "    </tr>\n",
       "    <tr>\n",
       "      <th>9</th>\n",
       "      <td>Duchanee Panomyaong</td>\n",
       "      <td>19.06.1952</td>\n",
       "    </tr>\n",
       "    <tr>\n",
       "      <th>10</th>\n",
       "      <td>Hushang Naigamwala</td>\n",
       "      <td>25.08.1991</td>\n",
       "    </tr>\n",
       "    <tr>\n",
       "      <th>11</th>\n",
       "      <td>Zhen Wei</td>\n",
       "      <td>16.11.1975</td>\n",
       "    </tr>\n",
       "    <tr>\n",
       "      <th>12</th>\n",
       "      <td>Jodoc Alwin</td>\n",
       "      <td>16.11.1969</td>\n",
       "    </tr>\n",
       "    <tr>\n",
       "      <th>13</th>\n",
       "      <td>Igor Mazał</td>\n",
       "      <td>14.05.2004</td>\n",
       "    </tr>\n",
       "    <tr>\n",
       "      <th>14</th>\n",
       "      <td>Noe Tae-Woong</td>\n",
       "      <td>11.07.1970</td>\n",
       "    </tr>\n",
       "  </tbody>\n",
       "</table>\n",
       "</div>"
      ],
      "text/plain": [
       "                   Name   BirthDate\n",
       "0      Paitoon Ornwimol  26.06.1958\n",
       "1          Antónia Lata  20.05.1935\n",
       "2     Bertoldo Mallozzi  17.08.1972\n",
       "3         Nedeljko Bukv  19.12.1921\n",
       "4         Micha Kitchen  17.09.1930\n",
       "5       Mefodiy Shachar  01.10.1914\n",
       "6          Paul Meckler  29.09.1968\n",
       "7       Katarzyna Lasko  20.10.1971\n",
       "8          Åge Trelstad  07.03.1935\n",
       "9   Duchanee Panomyaong  19.06.1952\n",
       "10   Hushang Naigamwala  25.08.1991\n",
       "11             Zhen Wei  16.11.1975\n",
       "12          Jodoc Alwin  16.11.1969\n",
       "13           Igor Mazał  14.05.2004\n",
       "14        Noe Tae-Woong  11.07.1970"
      ]
     },
     "execution_count": 41,
     "metadata": {},
     "output_type": "execute_result"
    }
   ],
   "source": [
    "union"
   ]
  },
  {
   "cell_type": "markdown",
   "metadata": {},
   "source": [
    "### A  U  B  U  C\n",
    "\n"
   ]
  },
  {
   "cell_type": "code",
   "execution_count": 23,
   "metadata": {},
   "outputs": [],
   "source": [
    "triple_union=pd.merge(union,C,'outer')"
   ]
  },
  {
   "cell_type": "code",
   "execution_count": 1,
   "metadata": {},
   "outputs": [
    {
     "ename": "NameError",
     "evalue": "name 'triple_union' is not defined",
     "output_type": "error",
     "traceback": [
      "\u001b[1;31m---------------------------------------------------------------------------\u001b[0m",
      "\u001b[1;31mNameError\u001b[0m                                 Traceback (most recent call last)",
      "\u001b[1;32m<ipython-input-1-d8214ff4728b>\u001b[0m in \u001b[0;36m<module>\u001b[1;34m()\u001b[0m\n\u001b[1;32m----> 1\u001b[1;33m \u001b[0mtriple_union\u001b[0m\u001b[1;33m\u001b[0m\u001b[0m\n\u001b[0m",
      "\u001b[1;31mNameError\u001b[0m: name 'triple_union' is not defined"
     ]
    }
   ],
   "source": [
    "triple_union"
   ]
  },
  {
   "cell_type": "code",
   "execution_count": 26,
   "metadata": {},
   "outputs": [],
   "source": [
    "intersection=pd.merge(A,B,'inner')"
   ]
  },
  {
   "cell_type": "code",
   "execution_count": 28,
   "metadata": {},
   "outputs": [],
   "source": [
    "intersection2=pd.merge(A,C,'inner')"
   ]
  },
  {
   "cell_type": "code",
   "execution_count": 47,
   "metadata": {},
   "outputs": [],
   "source": [
    "diff=pd.merge(A,B,how='outer',on='Name')"
   ]
  },
  {
   "cell_type": "code",
   "execution_count": 48,
   "metadata": {},
   "outputs": [
    {
     "data": {
      "text/html": [
       "<div>\n",
       "<style scoped>\n",
       "    .dataframe tbody tr th:only-of-type {\n",
       "        vertical-align: middle;\n",
       "    }\n",
       "\n",
       "    .dataframe tbody tr th {\n",
       "        vertical-align: top;\n",
       "    }\n",
       "\n",
       "    .dataframe thead th {\n",
       "        text-align: right;\n",
       "    }\n",
       "</style>\n",
       "<table border=\"1\" class=\"dataframe\">\n",
       "  <thead>\n",
       "    <tr style=\"text-align: right;\">\n",
       "      <th></th>\n",
       "      <th>Name</th>\n",
       "      <th>BirthDate_x</th>\n",
       "      <th>BirthDate_y</th>\n",
       "    </tr>\n",
       "  </thead>\n",
       "  <tbody>\n",
       "    <tr>\n",
       "      <th>0</th>\n",
       "      <td>Paitoon Ornwimol</td>\n",
       "      <td>26.06.1958</td>\n",
       "      <td>NaN</td>\n",
       "    </tr>\n",
       "    <tr>\n",
       "      <th>1</th>\n",
       "      <td>Antónia Lata</td>\n",
       "      <td>20.05.1935</td>\n",
       "      <td>NaN</td>\n",
       "    </tr>\n",
       "    <tr>\n",
       "      <th>2</th>\n",
       "      <td>Bertoldo Mallozzi</td>\n",
       "      <td>17.08.1972</td>\n",
       "      <td>NaN</td>\n",
       "    </tr>\n",
       "    <tr>\n",
       "      <th>3</th>\n",
       "      <td>Nedeljko Bukv</td>\n",
       "      <td>19.12.1921</td>\n",
       "      <td>NaN</td>\n",
       "    </tr>\n",
       "    <tr>\n",
       "      <th>4</th>\n",
       "      <td>Micha Kitchen</td>\n",
       "      <td>17.09.1930</td>\n",
       "      <td>17.09.1930</td>\n",
       "    </tr>\n",
       "    <tr>\n",
       "      <th>5</th>\n",
       "      <td>Mefodiy Shachar</td>\n",
       "      <td>01.10.1914</td>\n",
       "      <td>01.10.1914</td>\n",
       "    </tr>\n",
       "    <tr>\n",
       "      <th>6</th>\n",
       "      <td>Paul Meckler</td>\n",
       "      <td>29.09.1968</td>\n",
       "      <td>29.09.1968</td>\n",
       "    </tr>\n",
       "    <tr>\n",
       "      <th>7</th>\n",
       "      <td>Katarzyna Lasko</td>\n",
       "      <td>20.10.1971</td>\n",
       "      <td>20.10.1971</td>\n",
       "    </tr>\n",
       "    <tr>\n",
       "      <th>8</th>\n",
       "      <td>Åge Trelstad</td>\n",
       "      <td>07.03.1935</td>\n",
       "      <td>07.03.1935</td>\n",
       "    </tr>\n",
       "    <tr>\n",
       "      <th>9</th>\n",
       "      <td>Duchanee Panomyaong</td>\n",
       "      <td>19.06.1952</td>\n",
       "      <td>19.06.1952</td>\n",
       "    </tr>\n",
       "    <tr>\n",
       "      <th>10</th>\n",
       "      <td>Hushang Naigamwala</td>\n",
       "      <td>NaN</td>\n",
       "      <td>25.08.1991</td>\n",
       "    </tr>\n",
       "    <tr>\n",
       "      <th>11</th>\n",
       "      <td>Zhen Wei</td>\n",
       "      <td>NaN</td>\n",
       "      <td>16.11.1975</td>\n",
       "    </tr>\n",
       "    <tr>\n",
       "      <th>12</th>\n",
       "      <td>Jodoc Alwin</td>\n",
       "      <td>NaN</td>\n",
       "      <td>16.11.1969</td>\n",
       "    </tr>\n",
       "    <tr>\n",
       "      <th>13</th>\n",
       "      <td>Igor Mazał</td>\n",
       "      <td>NaN</td>\n",
       "      <td>14.05.2004</td>\n",
       "    </tr>\n",
       "    <tr>\n",
       "      <th>14</th>\n",
       "      <td>Noe Tae-Woong</td>\n",
       "      <td>NaN</td>\n",
       "      <td>11.07.1970</td>\n",
       "    </tr>\n",
       "  </tbody>\n",
       "</table>\n",
       "</div>"
      ],
      "text/plain": [
       "                   Name BirthDate_x BirthDate_y\n",
       "0      Paitoon Ornwimol  26.06.1958         NaN\n",
       "1          Antónia Lata  20.05.1935         NaN\n",
       "2     Bertoldo Mallozzi  17.08.1972         NaN\n",
       "3         Nedeljko Bukv  19.12.1921         NaN\n",
       "4         Micha Kitchen  17.09.1930  17.09.1930\n",
       "5       Mefodiy Shachar  01.10.1914  01.10.1914\n",
       "6          Paul Meckler  29.09.1968  29.09.1968\n",
       "7       Katarzyna Lasko  20.10.1971  20.10.1971\n",
       "8          Åge Trelstad  07.03.1935  07.03.1935\n",
       "9   Duchanee Panomyaong  19.06.1952  19.06.1952\n",
       "10   Hushang Naigamwala         NaN  25.08.1991\n",
       "11             Zhen Wei         NaN  16.11.1975\n",
       "12          Jodoc Alwin         NaN  16.11.1969\n",
       "13           Igor Mazał         NaN  14.05.2004\n",
       "14        Noe Tae-Woong         NaN  11.07.1970"
      ]
     },
     "execution_count": 48,
     "metadata": {},
     "output_type": "execute_result"
    }
   ],
   "source": [
    "diff"
   ]
  },
  {
   "cell_type": "code",
   "execution_count": 77,
   "metadata": {},
   "outputs": [],
   "source": [
    "diff=diff[ diff.BirthDate_x.isnull()==False]"
   ]
  },
  {
   "cell_type": "code",
   "execution_count": 78,
   "metadata": {},
   "outputs": [
    {
     "data": {
      "text/html": [
       "<div>\n",
       "<style scoped>\n",
       "    .dataframe tbody tr th:only-of-type {\n",
       "        vertical-align: middle;\n",
       "    }\n",
       "\n",
       "    .dataframe tbody tr th {\n",
       "        vertical-align: top;\n",
       "    }\n",
       "\n",
       "    .dataframe thead th {\n",
       "        text-align: right;\n",
       "    }\n",
       "</style>\n",
       "<table border=\"1\" class=\"dataframe\">\n",
       "  <thead>\n",
       "    <tr style=\"text-align: right;\">\n",
       "      <th></th>\n",
       "      <th>Name</th>\n",
       "      <th>BirthDate_x</th>\n",
       "      <th>BirthDate_y</th>\n",
       "    </tr>\n",
       "  </thead>\n",
       "  <tbody>\n",
       "    <tr>\n",
       "      <th>0</th>\n",
       "      <td>Paitoon Ornwimol</td>\n",
       "      <td>26.06.1958</td>\n",
       "      <td>NaN</td>\n",
       "    </tr>\n",
       "    <tr>\n",
       "      <th>1</th>\n",
       "      <td>Antónia Lata</td>\n",
       "      <td>20.05.1935</td>\n",
       "      <td>NaN</td>\n",
       "    </tr>\n",
       "    <tr>\n",
       "      <th>2</th>\n",
       "      <td>Bertoldo Mallozzi</td>\n",
       "      <td>17.08.1972</td>\n",
       "      <td>NaN</td>\n",
       "    </tr>\n",
       "    <tr>\n",
       "      <th>3</th>\n",
       "      <td>Nedeljko Bukv</td>\n",
       "      <td>19.12.1921</td>\n",
       "      <td>NaN</td>\n",
       "    </tr>\n",
       "    <tr>\n",
       "      <th>4</th>\n",
       "      <td>Micha Kitchen</td>\n",
       "      <td>17.09.1930</td>\n",
       "      <td>17.09.1930</td>\n",
       "    </tr>\n",
       "    <tr>\n",
       "      <th>5</th>\n",
       "      <td>Mefodiy Shachar</td>\n",
       "      <td>01.10.1914</td>\n",
       "      <td>01.10.1914</td>\n",
       "    </tr>\n",
       "    <tr>\n",
       "      <th>6</th>\n",
       "      <td>Paul Meckler</td>\n",
       "      <td>29.09.1968</td>\n",
       "      <td>29.09.1968</td>\n",
       "    </tr>\n",
       "    <tr>\n",
       "      <th>7</th>\n",
       "      <td>Katarzyna Lasko</td>\n",
       "      <td>20.10.1971</td>\n",
       "      <td>20.10.1971</td>\n",
       "    </tr>\n",
       "    <tr>\n",
       "      <th>8</th>\n",
       "      <td>Åge Trelstad</td>\n",
       "      <td>07.03.1935</td>\n",
       "      <td>07.03.1935</td>\n",
       "    </tr>\n",
       "    <tr>\n",
       "      <th>9</th>\n",
       "      <td>Duchanee Panomyaong</td>\n",
       "      <td>19.06.1952</td>\n",
       "      <td>19.06.1952</td>\n",
       "    </tr>\n",
       "  </tbody>\n",
       "</table>\n",
       "</div>"
      ],
      "text/plain": [
       "                  Name BirthDate_x BirthDate_y\n",
       "0     Paitoon Ornwimol  26.06.1958         NaN\n",
       "1         Antónia Lata  20.05.1935         NaN\n",
       "2    Bertoldo Mallozzi  17.08.1972         NaN\n",
       "3        Nedeljko Bukv  19.12.1921         NaN\n",
       "4        Micha Kitchen  17.09.1930  17.09.1930\n",
       "5      Mefodiy Shachar  01.10.1914  01.10.1914\n",
       "6         Paul Meckler  29.09.1968  29.09.1968\n",
       "7      Katarzyna Lasko  20.10.1971  20.10.1971\n",
       "8         Åge Trelstad  07.03.1935  07.03.1935\n",
       "9  Duchanee Panomyaong  19.06.1952  19.06.1952"
      ]
     },
     "execution_count": 78,
     "metadata": {},
     "output_type": "execute_result"
    }
   ],
   "source": [
    "diff"
   ]
  },
  {
   "cell_type": "code",
   "execution_count": 79,
   "metadata": {},
   "outputs": [],
   "source": [
    "diff=diff[ diff.BirthDate_y.isnull()==True]"
   ]
  },
  {
   "cell_type": "code",
   "execution_count": 80,
   "metadata": {},
   "outputs": [
    {
     "data": {
      "text/html": [
       "<div>\n",
       "<style scoped>\n",
       "    .dataframe tbody tr th:only-of-type {\n",
       "        vertical-align: middle;\n",
       "    }\n",
       "\n",
       "    .dataframe tbody tr th {\n",
       "        vertical-align: top;\n",
       "    }\n",
       "\n",
       "    .dataframe thead th {\n",
       "        text-align: right;\n",
       "    }\n",
       "</style>\n",
       "<table border=\"1\" class=\"dataframe\">\n",
       "  <thead>\n",
       "    <tr style=\"text-align: right;\">\n",
       "      <th></th>\n",
       "      <th>Name</th>\n",
       "      <th>BirthDate_x</th>\n",
       "      <th>BirthDate_y</th>\n",
       "    </tr>\n",
       "  </thead>\n",
       "  <tbody>\n",
       "    <tr>\n",
       "      <th>0</th>\n",
       "      <td>Paitoon Ornwimol</td>\n",
       "      <td>26.06.1958</td>\n",
       "      <td>NaN</td>\n",
       "    </tr>\n",
       "    <tr>\n",
       "      <th>1</th>\n",
       "      <td>Antónia Lata</td>\n",
       "      <td>20.05.1935</td>\n",
       "      <td>NaN</td>\n",
       "    </tr>\n",
       "    <tr>\n",
       "      <th>2</th>\n",
       "      <td>Bertoldo Mallozzi</td>\n",
       "      <td>17.08.1972</td>\n",
       "      <td>NaN</td>\n",
       "    </tr>\n",
       "    <tr>\n",
       "      <th>3</th>\n",
       "      <td>Nedeljko Bukv</td>\n",
       "      <td>19.12.1921</td>\n",
       "      <td>NaN</td>\n",
       "    </tr>\n",
       "  </tbody>\n",
       "</table>\n",
       "</div>"
      ],
      "text/plain": [
       "                Name BirthDate_x BirthDate_y\n",
       "0   Paitoon Ornwimol  26.06.1958         NaN\n",
       "1       Antónia Lata  20.05.1935         NaN\n",
       "2  Bertoldo Mallozzi  17.08.1972         NaN\n",
       "3      Nedeljko Bukv  19.12.1921         NaN"
      ]
     },
     "execution_count": 80,
     "metadata": {},
     "output_type": "execute_result"
    }
   ],
   "source": [
    "diff"
   ]
  },
  {
   "cell_type": "markdown",
   "metadata": {},
   "source": [
    "End of the exercise."
   ]
  },
  {
   "cell_type": "code",
   "execution_count": 81,
   "metadata": {},
   "outputs": [],
   "source": [
    "diff=pd.merge(A,B,how='outer',on='Name')"
   ]
  },
  {
   "cell_type": "code",
   "execution_count": 84,
   "metadata": {},
   "outputs": [],
   "source": [
    "diff=diff[(diff.BirthDate_y.isnull()==True) & (diff.BirthDate_x.isnull()==False)]"
   ]
  },
  {
   "cell_type": "code",
   "execution_count": 85,
   "metadata": {},
   "outputs": [
    {
     "data": {
      "text/html": [
       "<div>\n",
       "<style scoped>\n",
       "    .dataframe tbody tr th:only-of-type {\n",
       "        vertical-align: middle;\n",
       "    }\n",
       "\n",
       "    .dataframe tbody tr th {\n",
       "        vertical-align: top;\n",
       "    }\n",
       "\n",
       "    .dataframe thead th {\n",
       "        text-align: right;\n",
       "    }\n",
       "</style>\n",
       "<table border=\"1\" class=\"dataframe\">\n",
       "  <thead>\n",
       "    <tr style=\"text-align: right;\">\n",
       "      <th></th>\n",
       "      <th>Name</th>\n",
       "      <th>BirthDate_x</th>\n",
       "      <th>BirthDate_y</th>\n",
       "    </tr>\n",
       "  </thead>\n",
       "  <tbody>\n",
       "    <tr>\n",
       "      <th>0</th>\n",
       "      <td>Paitoon Ornwimol</td>\n",
       "      <td>26.06.1958</td>\n",
       "      <td>NaN</td>\n",
       "    </tr>\n",
       "    <tr>\n",
       "      <th>1</th>\n",
       "      <td>Antónia Lata</td>\n",
       "      <td>20.05.1935</td>\n",
       "      <td>NaN</td>\n",
       "    </tr>\n",
       "    <tr>\n",
       "      <th>2</th>\n",
       "      <td>Bertoldo Mallozzi</td>\n",
       "      <td>17.08.1972</td>\n",
       "      <td>NaN</td>\n",
       "    </tr>\n",
       "    <tr>\n",
       "      <th>3</th>\n",
       "      <td>Nedeljko Bukv</td>\n",
       "      <td>19.12.1921</td>\n",
       "      <td>NaN</td>\n",
       "    </tr>\n",
       "  </tbody>\n",
       "</table>\n",
       "</div>"
      ],
      "text/plain": [
       "                Name BirthDate_x BirthDate_y\n",
       "0   Paitoon Ornwimol  26.06.1958         NaN\n",
       "1       Antónia Lata  20.05.1935         NaN\n",
       "2  Bertoldo Mallozzi  17.08.1972         NaN\n",
       "3      Nedeljko Bukv  19.12.1921         NaN"
      ]
     },
     "execution_count": 85,
     "metadata": {},
     "output_type": "execute_result"
    }
   ],
   "source": [
    "diff"
   ]
  },
  {
   "cell_type": "markdown",
   "metadata": {},
   "source": [
    "This method should be faster to compute the difference."
   ]
  }
 ],
 "metadata": {
  "kernelspec": {
   "display_name": "Python 3",
   "language": "python",
   "name": "python3"
  },
  "language_info": {
   "codemirror_mode": {
    "name": "ipython",
    "version": 3
   },
   "file_extension": ".py",
   "mimetype": "text/x-python",
   "name": "python",
   "nbconvert_exporter": "python",
   "pygments_lexer": "ipython3",
   "version": "3.6.5"
  }
 },
 "nbformat": 4,
 "nbformat_minor": 2
}
