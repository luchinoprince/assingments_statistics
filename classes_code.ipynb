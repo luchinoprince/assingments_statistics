{
 "cells": [
  {
   "cell_type": "markdown",
   "metadata": {},
   "source": [
    "## CREATING THE GRAPH CLASS"
   ]
  },
  {
   "cell_type": "code",
   "execution_count": 46,
   "metadata": {},
   "outputs": [],
   "source": [
    "class Graph:\n",
    "    def __init__(self):\n",
    "        self.adj=[]         \n",
    "        self.ne=0   ##number of edges\n",
    "        \n",
    "    def numEdges(self):\n",
    "        return self.ne\n",
    "    \n",
    "    def addNode(self):\n",
    "        self.adj.append([])\n",
    "        ##it puts an emptylist in the empty list [[..]]\n",
    "        ##ther list here has lenght one now!!!\n",
    "    \n",
    "    def numNodes(self):\n",
    "        return len(self.adj)\n",
    "    \n",
    "    def isEdge(self,i,j):\n",
    "        return ((i in self.adj[j]) and (j in self.adj[i]))\n",
    "    \n",
    "    \n",
    "    def addEdge(self,i,j):\n",
    "        ## to call this i suppose that the list is defined\n",
    "        ## with j nodes\n",
    "        if not self.isEdge(i,j):\n",
    "            self.adj[j].append(i)\n",
    "            self.adj[i].append(j)\n",
    "            g.ne+=1\n",
    "        elif (i==j):\n",
    "            raise Exception(\"you cannot add a loop in this graph\")\n",
    "        else:\n",
    "            raise Exception(\"the edge is already present in the graph\")\n",
    "            \n",
    "    def neighbors(self,i):\n",
    "        return self.adj[i]:\n",
    "        \n",
    "        \n",
    "    def degree(self,i):\n",
    "        return len(neighbors(self,i))\n",
    "    \n",
    "    \n",
    "    \n",
    "        \n",
    "    \n",
    "\n"
   ]
  },
  {
   "cell_type": "code",
   "execution_count": 47,
   "metadata": {},
   "outputs": [],
   "source": [
    "g=Graph()\n",
    "assert isinstance(g,Graph)\n",
    "assert g.numEdges()==0\n",
    "assert g.numNodes()==0\n",
    "##g.addNode()\n",
    "\n",
    "## if it ok it doesn't print anything, if its wrong it complains"
   ]
  },
  {
   "cell_type": "code",
   "execution_count": 48,
   "metadata": {},
   "outputs": [
    {
     "data": {
      "text/plain": [
       "[]"
      ]
     },
     "execution_count": 48,
     "metadata": {},
     "output_type": "execute_result"
    }
   ],
   "source": [
    "g.adj"
   ]
  },
  {
   "cell_type": "code",
   "execution_count": 49,
   "metadata": {},
   "outputs": [],
   "source": [
    "g.addNode()"
   ]
  },
  {
   "cell_type": "code",
   "execution_count": 50,
   "metadata": {},
   "outputs": [
    {
     "data": {
      "text/plain": [
       "[[]]"
      ]
     },
     "execution_count": 50,
     "metadata": {},
     "output_type": "execute_result"
    }
   ],
   "source": [
    "g.adj"
   ]
  },
  {
   "cell_type": "code",
   "execution_count": 51,
   "metadata": {},
   "outputs": [
    {
     "data": {
      "text/plain": [
       "[[], [], [], []]"
      ]
     },
     "execution_count": 51,
     "metadata": {},
     "output_type": "execute_result"
    }
   ],
   "source": [
    "g.addNode()\n",
    "g.addNode()\n",
    "g.addNode()\n",
    "g.adj"
   ]
  },
  {
   "cell_type": "code",
   "execution_count": 52,
   "metadata": {},
   "outputs": [
    {
     "data": {
      "text/plain": [
       "False"
      ]
     },
     "execution_count": 52,
     "metadata": {},
     "output_type": "execute_result"
    }
   ],
   "source": [
    "g.isEdge(1,2)"
   ]
  },
  {
   "cell_type": "code",
   "execution_count": 53,
   "metadata": {},
   "outputs": [],
   "source": [
    "g.addEdge(1,2)"
   ]
  },
  {
   "cell_type": "code",
   "execution_count": 54,
   "metadata": {},
   "outputs": [
    {
     "data": {
      "text/plain": [
       "[[], [2], [1], []]"
      ]
     },
     "execution_count": 54,
     "metadata": {},
     "output_type": "execute_result"
    }
   ],
   "source": [
    "g.adj"
   ]
  },
  {
   "cell_type": "code",
   "execution_count": 55,
   "metadata": {},
   "outputs": [
    {
     "ename": "Exception",
     "evalue": "the edge is already present in the graph",
     "output_type": "error",
     "traceback": [
      "\u001b[0;31m---------------------------------------------------------------------------\u001b[0m",
      "\u001b[0;31mException\u001b[0m                                 Traceback (most recent call last)",
      "\u001b[0;32m<ipython-input-55-428b04ac3439>\u001b[0m in \u001b[0;36m<module>\u001b[0;34m()\u001b[0m\n\u001b[0;32m----> 1\u001b[0;31m \u001b[0mg\u001b[0m\u001b[0;34m.\u001b[0m\u001b[0maddEdge\u001b[0m\u001b[0;34m(\u001b[0m\u001b[0;36m1\u001b[0m\u001b[0;34m,\u001b[0m\u001b[0;36m2\u001b[0m\u001b[0;34m)\u001b[0m\u001b[0;34m\u001b[0m\u001b[0m\n\u001b[0m",
      "\u001b[0;32m<ipython-input-46-62b5cfdde0c4>\u001b[0m in \u001b[0;36maddEdge\u001b[0;34m(self, i, j)\u001b[0m\n\u001b[1;32m     29\u001b[0m             \u001b[0;32mraise\u001b[0m \u001b[0mException\u001b[0m\u001b[0;34m(\u001b[0m\u001b[0;34m\"you cannot add a loop in this graph\"\u001b[0m\u001b[0;34m)\u001b[0m\u001b[0;34m\u001b[0m\u001b[0m\n\u001b[1;32m     30\u001b[0m         \u001b[0;32melse\u001b[0m\u001b[0;34m:\u001b[0m\u001b[0;34m\u001b[0m\u001b[0m\n\u001b[0;32m---> 31\u001b[0;31m             \u001b[0;32mraise\u001b[0m \u001b[0mException\u001b[0m\u001b[0;34m(\u001b[0m\u001b[0;34m\"the edge is already present in the graph\"\u001b[0m\u001b[0;34m)\u001b[0m\u001b[0;34m\u001b[0m\u001b[0m\n\u001b[0m\u001b[1;32m     32\u001b[0m \u001b[0;34m\u001b[0m\u001b[0m\n\u001b[1;32m     33\u001b[0m \u001b[0;34m\u001b[0m\u001b[0m\n",
      "\u001b[0;31mException\u001b[0m: the edge is already present in the graph"
     ]
    }
   ],
   "source": [
    "g.addEdge(1,2)"
   ]
  },
  {
   "cell_type": "code",
   "execution_count": 57,
   "metadata": {},
   "outputs": [
    {
     "ename": "Exception",
     "evalue": "you cannot add a loop in this graph",
     "output_type": "error",
     "traceback": [
      "\u001b[0;31m---------------------------------------------------------------------------\u001b[0m",
      "\u001b[0;31mException\u001b[0m                                 Traceback (most recent call last)",
      "\u001b[0;32m<ipython-input-57-c14949ac6ed5>\u001b[0m in \u001b[0;36m<module>\u001b[0;34m()\u001b[0m\n\u001b[0;32m----> 1\u001b[0;31m \u001b[0mg\u001b[0m\u001b[0;34m.\u001b[0m\u001b[0maddEdge\u001b[0m\u001b[0;34m(\u001b[0m\u001b[0;36m1\u001b[0m\u001b[0;34m,\u001b[0m\u001b[0;36m1\u001b[0m\u001b[0;34m)\u001b[0m\u001b[0;34m\u001b[0m\u001b[0m\n\u001b[0m",
      "\u001b[0;32m<ipython-input-46-62b5cfdde0c4>\u001b[0m in \u001b[0;36maddEdge\u001b[0;34m(self, i, j)\u001b[0m\n\u001b[1;32m     27\u001b[0m             \u001b[0mg\u001b[0m\u001b[0;34m.\u001b[0m\u001b[0mne\u001b[0m\u001b[0;34m+=\u001b[0m\u001b[0;36m1\u001b[0m\u001b[0;34m\u001b[0m\u001b[0m\n\u001b[1;32m     28\u001b[0m         \u001b[0;32melif\u001b[0m \u001b[0;34m(\u001b[0m\u001b[0mi\u001b[0m\u001b[0;34m==\u001b[0m\u001b[0mj\u001b[0m\u001b[0;34m)\u001b[0m\u001b[0;34m:\u001b[0m\u001b[0;34m\u001b[0m\u001b[0m\n\u001b[0;32m---> 29\u001b[0;31m             \u001b[0;32mraise\u001b[0m \u001b[0mException\u001b[0m\u001b[0;34m(\u001b[0m\u001b[0;34m\"you cannot add a loop in this graph\"\u001b[0m\u001b[0;34m)\u001b[0m\u001b[0;34m\u001b[0m\u001b[0m\n\u001b[0m\u001b[1;32m     30\u001b[0m         \u001b[0;32melse\u001b[0m\u001b[0;34m:\u001b[0m\u001b[0;34m\u001b[0m\u001b[0m\n\u001b[1;32m     31\u001b[0m             \u001b[0;32mraise\u001b[0m \u001b[0mException\u001b[0m\u001b[0;34m(\u001b[0m\u001b[0;34m\"the edge is already present in the graph\"\u001b[0m\u001b[0;34m)\u001b[0m\u001b[0;34m\u001b[0m\u001b[0m\n",
      "\u001b[0;31mException\u001b[0m: you cannot add a loop in this graph"
     ]
    }
   ],
   "source": [
    "g.addEdge(1,1)"
   ]
  },
  {
   "cell_type": "markdown",
   "metadata": {},
   "source": [
    "the exceptions work well"
   ]
  },
  {
   "cell_type": "markdown",
   "metadata": {},
   "source": [
    "## Now lets do with arrays"
   ]
  },
  {
   "cell_type": "code",
   "execution_count": 164,
   "metadata": {},
   "outputs": [],
   "source": [
    "import numpy as np\n",
    "\n",
    "class Graph:\n",
    "    def __init__(self):\n",
    "        self.adj=[]         \n",
    "        self.ne=0   ##number of edges\n",
    "        \n",
    "    def numEdges(self):\n",
    "        return self.ne\n",
    "    \n",
    "    def addNode(self):\n",
    "        self.adj.append(np.array([],dtype=\"int64\"))\n",
    "        ##it puts an emptylist in the empty list [[..]]\n",
    "        ##ther list here has lenght one now!!!\n",
    "    \n",
    "    def numNodes(self):\n",
    "        return len(self.adj)\n",
    "    \n",
    "    def isEdge(self,i,j):\n",
    "        return ((i in self.adj[j]) and (j in self.adj[i]))\n",
    "    ##this remains unchanged for nmpy arrays\n",
    "    \n",
    "    \n",
    "    def addEdge(self,i,j):\n",
    "        ## to call this i suppose that the list is defined\n",
    "        ## with j nodes\n",
    "        ##here we have to resize the array, be carefull at the difference between resize and reshape!\n",
    "        if not self.isEdge(i,j):\n",
    "            self.adj[i].resize(len(self.adj[i]) + 1, refcheck=False)\n",
    "            ##this adds a 0 at the end, now i gotta put j in this position\n",
    "            self.adj[i][len(self.adj[i])-1]=j\n",
    "            \n",
    "            self.adj[j].resize(len(self.adj[j]) + 1, refcheck=False)\n",
    "            ##this adds a 0 at the end, now i gotta put j in this position\n",
    "            self.adj[j][len(self.adj[j])-1]=i\n",
    "            \n",
    "            g.ne+=1\n",
    "        elif (i==j):\n",
    "            raise Exception(\"you cannot add a loop in this graph\")\n",
    "        else:\n",
    "            raise Exception(\"the edge is already present in the graph\")\n",
    "            \n",
    "    def neighbors(self,i):\n",
    "        return self.adj[i]\n",
    "        \n",
    "        \n",
    "    def degree(self,i):\n",
    "        return len((self.neighbors(i)))\n",
    "    \n",
    "    def addNodes(self,n):\n",
    "        for i in range(n):\n",
    "            self.addNode()\n",
    "        return\n",
    "        "
   ]
  },
  {
   "cell_type": "code",
   "execution_count": 165,
   "metadata": {},
   "outputs": [],
   "source": [
    "g=Graph()"
   ]
  },
  {
   "cell_type": "code",
   "execution_count": 166,
   "metadata": {},
   "outputs": [],
   "source": [
    "g.addNode()"
   ]
  },
  {
   "cell_type": "code",
   "execution_count": 167,
   "metadata": {},
   "outputs": [],
   "source": [
    "g.addNode()"
   ]
  },
  {
   "cell_type": "code",
   "execution_count": 168,
   "metadata": {},
   "outputs": [],
   "source": [
    "g.addNode()"
   ]
  },
  {
   "cell_type": "code",
   "execution_count": 169,
   "metadata": {},
   "outputs": [
    {
     "data": {
      "text/plain": [
       "[array([], dtype=int64), array([], dtype=int64), array([], dtype=int64)]"
      ]
     },
     "execution_count": 169,
     "metadata": {},
     "output_type": "execute_result"
    }
   ],
   "source": [
    "g.adj"
   ]
  },
  {
   "cell_type": "code",
   "execution_count": 170,
   "metadata": {},
   "outputs": [
    {
     "data": {
      "text/plain": [
       "0"
      ]
     },
     "execution_count": 170,
     "metadata": {},
     "output_type": "execute_result"
    }
   ],
   "source": [
    "g.ne"
   ]
  },
  {
   "cell_type": "code",
   "execution_count": 171,
   "metadata": {},
   "outputs": [
    {
     "data": {
      "text/plain": [
       "0"
      ]
     },
     "execution_count": 171,
     "metadata": {},
     "output_type": "execute_result"
    }
   ],
   "source": [
    "g.degree(1)"
   ]
  },
  {
   "cell_type": "code",
   "execution_count": 172,
   "metadata": {},
   "outputs": [],
   "source": [
    "g.addNode()"
   ]
  },
  {
   "cell_type": "code",
   "execution_count": 173,
   "metadata": {},
   "outputs": [
    {
     "data": {
      "text/plain": [
       "[array([], dtype=int64),\n",
       " array([], dtype=int64),\n",
       " array([], dtype=int64),\n",
       " array([], dtype=int64)]"
      ]
     },
     "execution_count": 173,
     "metadata": {},
     "output_type": "execute_result"
    }
   ],
   "source": [
    "g.adj"
   ]
  },
  {
   "cell_type": "code",
   "execution_count": 174,
   "metadata": {},
   "outputs": [],
   "source": [
    "g.addEdge(1,2)"
   ]
  },
  {
   "cell_type": "code",
   "execution_count": 175,
   "metadata": {},
   "outputs": [
    {
     "data": {
      "text/plain": [
       "[array([], dtype=int64), array([2]), array([1]), array([], dtype=int64)]"
      ]
     },
     "execution_count": 175,
     "metadata": {},
     "output_type": "execute_result"
    }
   ],
   "source": [
    "g.adj"
   ]
  },
  {
   "cell_type": "markdown",
   "metadata": {},
   "source": [
    "It works"
   ]
  },
  {
   "cell_type": "code",
   "execution_count": 176,
   "metadata": {},
   "outputs": [],
   "source": [
    "g.addNodes(3)"
   ]
  },
  {
   "cell_type": "code",
   "execution_count": 177,
   "metadata": {},
   "outputs": [
    {
     "data": {
      "text/plain": [
       "[array([], dtype=int64),\n",
       " array([2]),\n",
       " array([1]),\n",
       " array([], dtype=int64),\n",
       " array([], dtype=int64),\n",
       " array([], dtype=int64),\n",
       " array([], dtype=int64)]"
      ]
     },
     "execution_count": 177,
     "metadata": {},
     "output_type": "execute_result"
    }
   ],
   "source": [
    "g.adj"
   ]
  },
  {
   "cell_type": "markdown",
   "metadata": {},
   "source": [
    "## Now lets modify the init function so that i can creat a graph with tot nodes at the beginning"
   ]
  },
  {
   "cell_type": "code",
   "execution_count": 253,
   "metadata": {},
   "outputs": [],
   "source": [
    "import numpy as np\n",
    "\n",
    "class Graph:\n",
    "    def __init__(self,n=0):     ##it tells us that the default number of nodes is equal to 0\n",
    "        '''Creates a graph with n+1 nodes, the 0-th node has no use and should never be accounted for'''\n",
    "        self.adj=[]         \n",
    "        self.ne=0   ##number of edges\n",
    "        for i in range(n+1):   ##to create a correspondance node-edge we overadd the 0-th node which to us is useless since it is easier to think of nodes from 1 to n rather then from 0 to n-1\n",
    "            self.addNode()     ##not sure it is gonna work,lets see......\n",
    "    def __str__(self):\n",
    "        return \"Graph( \"+ str(self.numNodes()) +\" , \"+ str(self.numEdges()) +\" )\"\n",
    "        ##il + serve a concatenare stringhe diverse, in quanto senno\n",
    "        ## cercavo di fare stringa (Graph) di sommarle l'intero dato dal self.numEdges()\n",
    "        ## e questa operazionen non è ben definita.\n",
    "        \n",
    "    def __add__(self,other):\n",
    "        from copy import deepcopy\n",
    "        if (self.numNodes()!=other.numNodes()):\n",
    "            raise Exception(\"you cannot add two graphs that have different number of nodes\")\n",
    "            \n",
    "        else:\n",
    "            if (self.numEdges()>other.numEdges()):\n",
    "                g=deepcopy(self)\n",
    "                for i in range(self.numNodes()):\n",
    "                    ##print(\"i vale \",i)\n",
    "                    list=other.Edges(i)\n",
    "                    for j in range(len(list)):\n",
    "                        print(\"j vale \",j)\n",
    "                        g.addEdge(i,list[j][1])\n",
    "                        \n",
    "            else:\n",
    "                g=deepcopy(other)\n",
    "                for i in range(self.numNodes()):\n",
    "                    list=self.Edges(i)\n",
    "                    for j in range(len(list)):\n",
    "                        g.addEdge(i,list[j][1])\n",
    "            return g\n",
    "              \n",
    "    def __iadd__(self,other):\n",
    "        if (self.numNodes()!=other.numNodes()):\n",
    "            raise Exception(\"you cannot do this stupid\")\n",
    "        else:\n",
    "            for i in range(self.numNodes()):\n",
    "                    ##print(\"i vale \",i)\n",
    "                    list=other.Edges(i)\n",
    "                    for j in range(len(list)):\n",
    "                        print(\"j vale \",j)\n",
    "                        self.addEdge(i,list[j][1])\n",
    "        return \n",
    "                        \n",
    "                        \n",
    "    def __sub__(self,other):\n",
    "        '''Checks it the two Graphs have the same number of nodes, then subtracts other to self'''\n",
    "        from copy import deepcopy\n",
    "        if (self.numNodes()!=other.numNodes()):\n",
    "            raise Exception(\"you cannot add two graphs that have different number of nodes\")\n",
    "            \n",
    "        else:\n",
    "            \n",
    "                g=deepcopy(self)\n",
    "                for i in range(self.numNodes()):\n",
    "                    ##print(\"i vale \",i)\n",
    "                    list=other.neighbors(i)\n",
    "                    for j in range(len(list)):\n",
    "                        ##print(\"j vale \",j)\n",
    "                        print( \"i wanna remove the edge(\" +str(i) + \",\" +str(list[j]) + \")\" )\n",
    "                        g.remEdge(i,list[j])\n",
    "        \n",
    "        return g\n",
    "    \n",
    "      ##def __isub__(self,other):\n",
    "        \n",
    "            ##if (self.numNodes()!=other.numNodes()):\n",
    "                ##raise Exception(\"you cannot do this stupid\")\n",
    "            ##else:\n",
    "                #àfor i in range(self.numNodes()):\n",
    "                    ##print(\"i vale \",i)\n",
    "                    #list=other.neighbors(i)\n",
    "                    #for j in range(len(list)):\n",
    "                        ##print(\"j vale \",j)\n",
    "                        #self.remEdge(i,list[j])\n",
    "            #return\n",
    "\n",
    "            \n",
    "    def __eq__(self,other):\n",
    "        '''First it checks if the 2 Graphs have the same number of nodes, if it True  checks if they are equal,etherwise returns False'''\n",
    "        if (self.numNodes()!=other.numNodes()):\n",
    "            print(\"due grafi aventi numero diverso di nodi non possono essere uguali\")\n",
    "            return False\n",
    "        else:\n",
    "            for i in range(self.numNodes()-1):\n",
    "                if (all(self.neighbors(i+1)==other.neighbors(i+1))):\n",
    "                    ##i had to put i+1 etherwise the 0th node could have given problems\n",
    "                    print(\"these two are equal\")\n",
    "                else:\n",
    "                    return False\n",
    "            ## if it exits the for these means they are equal so i return True\n",
    "            return True\n",
    "    \n",
    "    def __getitem__(self,nlist):\n",
    "        '''return the subgraph corresponding to the nodes of nlist'''\n",
    "        return (self.subGraph(nlist))\n",
    "    \n",
    "    \n",
    "    \n",
    "    def completeGraph(self):\n",
    "        '''Takes a graph of n nodes and adds all the edges missing in the Grahp'''\n",
    "        for i in range(self.numNodes()-1):##remember i have n+1 nodes! i have just to control the first half of the nodes\n",
    "            for j in [i+j for j in range(self.numNodes()-i-1)]:   ##len(self.numNodes()-1):##  ## i put the minus 1 because i don't want the 0th node\n",
    "                self.addEdge(i+1,j+1)\n",
    "        return\n",
    "    def subGraph(self,nlist):\n",
    "        g2=Graph(len(nlist))\n",
    "        print(\"il numero di nodi è \",g2.numNodes())\n",
    "        for i in range(g2.numNodes()):\n",
    "            for j in [i+j+1 for j in range(g2.numNodes()-i-2)]:\n",
    "                print(\"(\"+str(nlist[i])+\",\"+str(nlist[j])+\")\")\n",
    "                if (self.isEdge(nlist[i],nlist[j])): ##here i donìt have to add 1 to i and j\n",
    "                    g2.addEdge(i+1,j+1)\n",
    "        return g2 \n",
    "                \n",
    "            \n",
    "        \n",
    "            \n",
    "        \n",
    "                        \n",
    "    def numEdges(self):\n",
    "        '''Returns the number of edges of the graph'''\n",
    "        return self.ne\n",
    "    \n",
    "    def addNode(self):\n",
    "        '''Adds a node to the graph'''\n",
    "        self.adj.append(np.array([],dtype=\"int64\"))\n",
    "        ##it puts an emptylist in the empty list [[..]]\n",
    "        ##ther list here has lenght one now!!!\n",
    "    \n",
    "    def numNodes(self):\n",
    "        '''Return the number of nodes'''\n",
    "        return len(self.adj)\n",
    "    \n",
    "    def isEdge(self,i,j):\n",
    "        '''Returns True if the edge (i,j) in in the graph'''\n",
    "        ##return ((i in self.adj[j]) and (j in self.adj[i]))\n",
    "        ##since by construction if we put (i,j) we also put (j,i) is enough to do this:\n",
    "        return (i in self.adj[j])\n",
    "    ##this remains unchanged for nmpy arrays\n",
    "    \n",
    "    \n",
    "    def addEdge(self,i,j):\n",
    "        '''Verifies if the edge (i,j) is in the grapho,if it is not it adds it,etherwise does nothing'''\n",
    "        ## to call this i suppose that the list is defined\n",
    "        ## with j nodes\n",
    "        ##here we have to resize the array, be carefull at the difference between resize and reshape!\n",
    "        if self.isEdge(i,j):\n",
    "            print(\"the edge is already in the graph\")\n",
    "            return\n",
    "        elif ( i==j ):\n",
    "            print(\"you cannot create a loop\")\n",
    "            return\n",
    "        \n",
    "        else:\n",
    "            self.adj[i].resize(len(self.adj[i]) + 1, refcheck=False)\n",
    "            ##this adds a 0 at the end, now i gotta put j in this position\n",
    "            self.adj[i][len(self.adj[i])-1]=j\n",
    "            ## i can do this because i created n+1 nodes!\n",
    "            \n",
    "            self.adj[j].resize(len(self.adj[j]) + 1, refcheck=False)\n",
    "            ##this adds a 0 at the end, now i gotta put j in this position\n",
    "            self.adj[j][len(self.adj[j])-1]=i\n",
    "            \n",
    "            g.ne+=1\n",
    "        return \n",
    "            \n",
    "    def neighbors(self,i):\n",
    "        '''Returns the array of nodes to which i is connected trough an edge'''\n",
    "        return self.adj[i]\n",
    "        \n",
    "        \n",
    "    def degree(self,i):\n",
    "        '''Return the number of edges containing i'''\n",
    "        return len((self.neighbors(i)))\n",
    "    \n",
    "    def addNodes(self,n):\n",
    "        '''Adds n nodes to the graph'''\n",
    "        for i in range(n):\n",
    "            self.addNode()\n",
    "        return\n",
    "    \n",
    "    def Edges(self,i=None):\n",
    "        '''Return the list of Edges containing i in the form of tuples (i,j)'''\n",
    "        l=[]\n",
    "        if i==None:\n",
    "            for j in range(self.numNodes()):\n",
    "                for k in range(self.degree(j)):\n",
    "                    if (j<k):                      ##etherwise i would count some edges twice\n",
    "                        l.append((j,self.neighbors(j)[k]))\n",
    "            ##print(l)\n",
    "            return l\n",
    "        \n",
    "        for j in range(self.degree(i)):\n",
    "            l.append((i,self.neighbors(i)[j]))\n",
    "        ##print(l)\n",
    "            \n",
    "        return l\n",
    "    \n",
    "    \n",
    "    ##from here is class 12\n",
    "    def remEdge(self,i,j):\n",
    "        '''Verifies if the Edge (i,j) is in the graph, if it is it removes it, etherwise it does nothing'''\n",
    "        ## i use the fact that i know that if i is in j than by constr j is in i\n",
    "        if ((self.adj[i]==j).any()):\n",
    "            print(\"the edge is present in the graph, now i'll delete it\")\n",
    "            \n",
    "            index=(self.adj[i]==j).nonzero()\n",
    "            ##i have the index i was searching for,it's already scaled, i don't have to subtract 1\n",
    "            ##i swap this with the last index so i can use 'pop'\n",
    "            \n",
    "            aux=self.adj[i][len(self.adj[i])-1]\n",
    "            self.adj[i][len(self.adj[i])-1]=self.adj[i][index[0]]\n",
    "            self.adj[i][index[0]]=aux\n",
    "            ##i swapped the two elements\n",
    "            self.adj[i].resize(len(self.adj[i]) - 1, refcheck=False)\n",
    "            ##it should take away the last element\n",
    "            \n",
    "            ##now i do the same for j\n",
    "            index=(self.adj[j]==i).nonzero()\n",
    "            aux=self.adj[j][len(self.adj[j])-1]\n",
    "            self.adj[j][len(self.adj[j])-1]=self.adj[j][index[0]]\n",
    "            self.adj[j][index[0]]=aux\n",
    "            self.adj[j].resize(len(self.adj[j]) - 1, refcheck=False)\n",
    "            g.ne-=1\n",
    "            return\n",
    "        else:\n",
    "            print(\"you cannot remove an edge that it is not present in the graph\")\n",
    "            return\n",
    "    \n",
    "    def graphPlot(self):\n",
    "        import matplotlib.collections as mc\n",
    "        import matplotlib.pyplot as plt\n",
    "        ##remember that the actual number of nodes is one less than the one the function gives\n",
    "        ## if you want change the function numNodes\n",
    "        n=self.numNodes()\n",
    "        points=np.array([np.random.random(n),np.random.random(n)]).T\n",
    "        ## i do this because it's more easy than to access the points! (a columns is (x-axis,y-axis) )\n",
    "        ## the point in position [0,0] is useless, i will never connect it, don't put it in the scatterplot\n",
    "        lines=[]\n",
    "        for j in range(self.numNodes()):\n",
    "                for k in range(self.degree(j)):\n",
    "                    if (j<self.neighbors(j)[k]):                      ##etherwise i would count some edges twice\n",
    "                        lines.append([points[j],points[self.neighbors(j)[k]]])\n",
    "            ##print(l)\n",
    "        ## understand how these commands work   \n",
    "        print(\"le linee sono:\")\n",
    "        print (lines)\n",
    "        lc = mc.LineCollection(lines, linewidths=2)\n",
    "        fig, ax = plt.subplots()\n",
    "        ax.add_collection(lc)\n",
    "        plt.scatter(points[1:,0],points[1:,1], marker = \"*\",color=\"red\")\n",
    "        plt.show()\n",
    "        ## i pass the first and the second columns that are the x-axis and the y-axis of the points,remember to \n",
    "        ## reject the first point \n",
    "        return\n",
    "        \n",
    "        \n",
    "        \n",
    "            \n",
    "    \n",
    "  \n",
    "   \n",
    "\n",
    "    "
   ]
  },
  {
   "cell_type": "code",
   "execution_count": 39,
   "metadata": {},
   "outputs": [
    {
     "data": {
      "text/plain": [
       "(array([2]),)"
      ]
     },
     "execution_count": 39,
     "metadata": {},
     "output_type": "execute_result"
    }
   ],
   "source": [
    "x=np.array([1,2,3,4])\n",
    "(x==3).nonzero()"
   ]
  },
  {
   "cell_type": "code",
   "execution_count": 15,
   "metadata": {},
   "outputs": [],
   "source": [
    "g=Graph(3)"
   ]
  },
  {
   "cell_type": "code",
   "execution_count": 324,
   "metadata": {},
   "outputs": [
    {
     "data": {
      "text/plain": [
       "3"
      ]
     },
     "execution_count": 324,
     "metadata": {},
     "output_type": "execute_result"
    }
   ],
   "source": [
    "g.numNodes()\n"
   ]
  },
  {
   "cell_type": "code",
   "execution_count": 325,
   "metadata": {},
   "outputs": [],
   "source": [
    "##g.addEdge(0,0)\n",
    "##g.adj"
   ]
  },
  {
   "cell_type": "markdown",
   "metadata": {},
   "source": [
    "IT worksssss!!!"
   ]
  },
  {
   "cell_type": "code",
   "execution_count": 331,
   "metadata": {},
   "outputs": [],
   "source": [
    "def erdos_renyi(n,p):\n",
    "    g=Graph(n)\n",
    "    x=np.random.random_sample((n,n))>p        ## i use numpy array so i can broadcast operations\n",
    "    print(x)\n",
    "    ##the values of the matrix which are equal to one will be the nodes that i will add.\n",
    "    ##i could sroll tha matrix of find a way to get the indexes...\n",
    "    r,c=x.nonzero()\n",
    "    #print(r)\n",
    "    #print(c)\n",
    "    \n",
    "    for i in range(len(r)):\n",
    "        if (r[i]<c[i]):               ##make it prettier....i am trying to check the top triangular part...\n",
    "            g.addEdge(r[i],c[i])\n",
    "    return g    \n",
    "        \n"
   ]
  },
  {
   "cell_type": "code",
   "execution_count": 332,
   "metadata": {},
   "outputs": [
    {
     "name": "stdout",
     "output_type": "stream",
     "text": [
      "[[ True  True False False False]\n",
      " [False False  True  True  True]\n",
      " [False  True  True  True False]\n",
      " [False  True  True  True  True]\n",
      " [False False  True  True  True]]\n",
      "[0 0 1 1 1 2 2 2 3 3 3 3 4 4 4]\n",
      "[0 1 2 3 4 1 2 3 1 2 3 4 2 3 4]\n"
     ]
    }
   ],
   "source": [
    "g=erdos_renyi(5,0.55)"
   ]
  },
  {
   "cell_type": "code",
   "execution_count": 333,
   "metadata": {},
   "outputs": [
    {
     "data": {
      "text/plain": [
       "[array([1]),\n",
       " array([0, 2, 3, 4]),\n",
       " array([1, 3]),\n",
       " array([1, 2, 4]),\n",
       " array([1, 3])]"
      ]
     },
     "execution_count": 333,
     "metadata": {},
     "output_type": "execute_result"
    }
   ],
   "source": [
    "g.adj"
   ]
  },
  {
   "cell_type": "markdown",
   "metadata": {},
   "source": [
    "it doesn't work as it should, it should give a loop warning, but it doesn't...\n",
    "Found the error, it was on how i defined the add Edge function, i put the conditions in the wrong order, it was weird mistake but i understood it"
   ]
  },
  {
   "cell_type": "code",
   "execution_count": 318,
   "metadata": {},
   "outputs": [
    {
     "name": "stdout",
     "output_type": "stream",
     "text": [
      "[]\n"
     ]
    },
    {
     "data": {
      "text/plain": [
       "[]"
      ]
     },
     "execution_count": 318,
     "metadata": {},
     "output_type": "execute_result"
    }
   ],
   "source": [
    "g.Edges()"
   ]
  },
  {
   "cell_type": "markdown",
   "metadata": {},
   "source": [
    "Ok i have just to fix the print"
   ]
  },
  {
   "cell_type": "markdown",
   "metadata": {},
   "source": [
    "## QUA INIZIA LA SCHEDA DI ESERCIZI DELLA LEZIONE 12"
   ]
  },
  {
   "cell_type": "code",
   "execution_count": 85,
   "metadata": {},
   "outputs": [
    {
     "data": {
      "text/plain": [
       "[array([], dtype=int64),\n",
       " array([], dtype=int64),\n",
       " array([], dtype=int64),\n",
       " array([], dtype=int64),\n",
       " array([], dtype=int64),\n",
       " array([], dtype=int64)]"
      ]
     },
     "execution_count": 85,
     "metadata": {},
     "output_type": "execute_result"
    }
   ],
   "source": [
    "g=Graph(5)\n",
    "g.adj"
   ]
  },
  {
   "cell_type": "code",
   "execution_count": 86,
   "metadata": {},
   "outputs": [],
   "source": [
    "g.addEdge(1,2)\n",
    "g.addEdge(2,3)\n",
    "g.addEdge(5,2)"
   ]
  },
  {
   "cell_type": "code",
   "execution_count": 65,
   "metadata": {},
   "outputs": [
    {
     "data": {
      "text/plain": [
       "[array([2]), array([1, 3, 5]), array([2]), array([], dtype=int64), array([2])]"
      ]
     },
     "execution_count": 65,
     "metadata": {},
     "output_type": "execute_result"
    }
   ],
   "source": [
    "## i do this because i know that the 0-th element by definition is useless\n",
    "g.adj[1:]"
   ]
  },
  {
   "cell_type": "markdown",
   "metadata": {},
   "source": [
    "Works better now"
   ]
  },
  {
   "cell_type": "code",
   "execution_count": 44,
   "metadata": {},
   "outputs": [
    {
     "name": "stdout",
     "output_type": "stream",
     "text": [
      "the edge is present in the graph, now i'll delete it\n"
     ]
    },
    {
     "data": {
      "text/plain": [
       "[array([2]),\n",
       " array([1, 3]),\n",
       " array([2]),\n",
       " array([], dtype=int64),\n",
       " array([], dtype=int64)]"
      ]
     },
     "execution_count": 44,
     "metadata": {},
     "output_type": "execute_result"
    }
   ],
   "source": [
    "g.remEdge(5,2)\n",
    "g.adj[1:]\n",
    "## i have a problem here\n",
    "##problem solved"
   ]
  },
  {
   "cell_type": "code",
   "execution_count": 45,
   "metadata": {},
   "outputs": [
    {
     "name": "stdout",
     "output_type": "stream",
     "text": [
      "the edge is present in the graph, now i'll delete it\n"
     ]
    }
   ],
   "source": [
    "g.remEdge(2,3)"
   ]
  },
  {
   "cell_type": "code",
   "execution_count": 46,
   "metadata": {},
   "outputs": [
    {
     "data": {
      "text/plain": [
       "[array([], dtype=int64),\n",
       " array([2]),\n",
       " array([1]),\n",
       " array([], dtype=int64),\n",
       " array([], dtype=int64),\n",
       " array([], dtype=int64)]"
      ]
     },
     "execution_count": 46,
     "metadata": {},
     "output_type": "execute_result"
    }
   ],
   "source": [
    "g.adj"
   ]
  },
  {
   "cell_type": "code",
   "execution_count": 47,
   "metadata": {},
   "outputs": [
    {
     "data": {
      "text/plain": [
       "1"
      ]
     },
     "execution_count": 47,
     "metadata": {},
     "output_type": "execute_result"
    }
   ],
   "source": [
    "g.ne"
   ]
  },
  {
   "cell_type": "code",
   "execution_count": 93,
   "metadata": {},
   "outputs": [
    {
     "data": {
      "text/plain": [
       "\u001b[0;31mSignature:\u001b[0m \u001b[0mg\u001b[0m\u001b[0;34m.\u001b[0m\u001b[0mremEdge\u001b[0m\u001b[0;34m(\u001b[0m\u001b[0mi\u001b[0m\u001b[0;34m,\u001b[0m \u001b[0mj\u001b[0m\u001b[0;34m)\u001b[0m\u001b[0;34m\u001b[0m\u001b[0m\n",
       "\u001b[0;31mDocstring:\u001b[0m Verifies if the Edge (i,j) is in the graph, if it is it removes it, etherwise it does nothing\n",
       "\u001b[0;31mFile:\u001b[0m      ~/Desktop/database_systems/my_codes/<ipython-input-84-1f2370b45b14>\n",
       "\u001b[0;31mType:\u001b[0m      method\n"
      ]
     },
     "metadata": {},
     "output_type": "display_data"
    }
   ],
   "source": [
    "g.remEdge?"
   ]
  },
  {
   "cell_type": "code",
   "execution_count": 94,
   "metadata": {},
   "outputs": [
    {
     "name": "stdout",
     "output_type": "stream",
     "text": [
      "Graph( 5 , 2 )\n"
     ]
    }
   ],
   "source": [
    "print(g)"
   ]
  },
  {
   "cell_type": "code",
   "execution_count": 256,
   "metadata": {},
   "outputs": [],
   "source": [
    "g2=Graph(5)"
   ]
  },
  {
   "cell_type": "code",
   "execution_count": 257,
   "metadata": {},
   "outputs": [],
   "source": [
    "g2.addEdge(1,2)\n",
    "g2.addEdge(2,4)\n",
    "g2.addEdge(3,4)\n",
    "g2.addEdge(1,4)"
   ]
  },
  {
   "cell_type": "code",
   "execution_count": 110,
   "metadata": {},
   "outputs": [
    {
     "data": {
      "text/plain": [
       "False"
      ]
     },
     "execution_count": 110,
     "metadata": {},
     "output_type": "execute_result"
    }
   ],
   "source": [
    "g2==g"
   ]
  },
  {
   "cell_type": "code",
   "execution_count": 89,
   "metadata": {},
   "outputs": [
    {
     "name": "stdout",
     "output_type": "stream",
     "text": [
      "j vale  0\n",
      "the edge is already in the graph\n",
      "j vale  1\n",
      "j vale  0\n",
      "the edge is already in the graph\n",
      "j vale  1\n",
      "j vale  0\n",
      "j vale  0\n",
      "the edge is already in the graph\n",
      "j vale  1\n",
      "the edge is already in the graph\n",
      "j vale  2\n",
      "the edge is already in the graph\n"
     ]
    }
   ],
   "source": [
    "g3=g+g2"
   ]
  },
  {
   "cell_type": "code",
   "execution_count": 90,
   "metadata": {},
   "outputs": [
    {
     "data": {
      "text/plain": [
       "[array([2]), array([1, 3, 5]), array([2]), array([], dtype=int64), array([2])]"
      ]
     },
     "execution_count": 90,
     "metadata": {},
     "output_type": "execute_result"
    }
   ],
   "source": [
    "g.adj[1:]"
   ]
  },
  {
   "cell_type": "code",
   "execution_count": 94,
   "metadata": {},
   "outputs": [
    {
     "data": {
      "text/plain": [
       "[array([2, 4]),\n",
       " array([1, 4]),\n",
       " array([4]),\n",
       " array([2, 3, 1]),\n",
       " array([], dtype=int64)]"
      ]
     },
     "execution_count": 94,
     "metadata": {},
     "output_type": "execute_result"
    }
   ],
   "source": [
    "g2.adj[1:]"
   ]
  },
  {
   "cell_type": "code",
   "execution_count": 92,
   "metadata": {},
   "outputs": [
    {
     "data": {
      "text/plain": [
       "[array([2, 4]),\n",
       " array([1, 3, 5, 4]),\n",
       " array([2, 4]),\n",
       " array([1, 2, 3]),\n",
       " array([2])]"
      ]
     },
     "execution_count": 92,
     "metadata": {},
     "output_type": "execute_result"
    }
   ],
   "source": [
    "g3.adj[1:]"
   ]
  },
  {
   "cell_type": "code",
   "execution_count": 95,
   "metadata": {},
   "outputs": [],
   "source": [
    "##g4=g3-g2\n",
    "## correct"
   ]
  },
  {
   "cell_type": "code",
   "execution_count": 59,
   "metadata": {},
   "outputs": [
    {
     "data": {
      "text/plain": [
       "[array([], dtype=int64),\n",
       " array([5, 3]),\n",
       " array([2]),\n",
       " array([], dtype=int64),\n",
       " array([2])]"
      ]
     },
     "execution_count": 59,
     "metadata": {},
     "output_type": "execute_result"
    }
   ],
   "source": [
    "g4.adj[1:]"
   ]
  },
  {
   "cell_type": "code",
   "execution_count": 60,
   "metadata": {},
   "outputs": [
    {
     "data": {
      "text/plain": [
       "[array([2]), array([1, 3, 5]), array([2]), array([], dtype=int64), array([2])]"
      ]
     },
     "execution_count": 60,
     "metadata": {},
     "output_type": "execute_result"
    }
   ],
   "source": [
    "g.adj[1:]"
   ]
  },
  {
   "cell_type": "code",
   "execution_count": 102,
   "metadata": {},
   "outputs": [
    {
     "name": "stderr",
     "output_type": "stream",
     "text": [
      "/anaconda3/lib/python3.6/site-packages/ipykernel_launcher.py:3: DeprecationWarning: elementwise == comparison failed; this will raise an error in the future.\n",
      "  This is separate from the ipykernel package so we can avoid doing imports until\n"
     ]
    },
    {
     "data": {
      "text/plain": [
       "False"
      ]
     },
     "execution_count": 102,
     "metadata": {},
     "output_type": "execute_result"
    }
   ],
   "source": [
    "x=np.array([1,2,3])\n",
    "y=np.array([1,2])\n",
    "x==y"
   ]
  },
  {
   "cell_type": "markdown",
   "metadata": {},
   "source": [
    "Ok it will return automatically false if the lenght is different."
   ]
  },
  {
   "cell_type": "code",
   "execution_count": 142,
   "metadata": {},
   "outputs": [
    {
     "name": "stdout",
     "output_type": "stream",
     "text": [
      "you cannot create a loop\n",
      "the edge is already in the graph\n",
      "the edge is already in the graph\n",
      "you cannot create a loop\n",
      "the edge is already in the graph\n",
      "you cannot create a loop\n",
      "the edge is already in the graph\n",
      "you cannot create a loop\n",
      "you cannot create a loop\n"
     ]
    }
   ],
   "source": [
    "g2.completeGraph()"
   ]
  },
  {
   "cell_type": "code",
   "execution_count": 143,
   "metadata": {},
   "outputs": [
    {
     "data": {
      "text/plain": [
       "[array([], dtype=int64),\n",
       " array([2, 4, 3, 5]),\n",
       " array([1, 4, 3, 5]),\n",
       " array([4, 1, 2, 5]),\n",
       " array([2, 3, 1, 5]),\n",
       " array([1, 2, 3, 4])]"
      ]
     },
     "execution_count": 143,
     "metadata": {},
     "output_type": "execute_result"
    }
   ],
   "source": [
    "g2.adj"
   ]
  },
  {
   "cell_type": "code",
   "execution_count": 132,
   "metadata": {},
   "outputs": [],
   "source": [
    "x=[1,2,3,4,5,6,7,8,9]"
   ]
  },
  {
   "cell_type": "code",
   "execution_count": 133,
   "metadata": {},
   "outputs": [
    {
     "data": {
      "text/plain": [
       "[2, 3, 4, 5, 6, 7, 8]"
      ]
     },
     "execution_count": 133,
     "metadata": {},
     "output_type": "execute_result"
    }
   ],
   "source": [
    "[2+j for j in range(len(x[2:]))]"
   ]
  },
  {
   "cell_type": "code",
   "execution_count": 148,
   "metadata": {},
   "outputs": [
    {
     "data": {
      "text/plain": [
       "[array([], dtype=int64),\n",
       " array([2, 4]),\n",
       " array([1, 4]),\n",
       " array([4]),\n",
       " array([2, 3, 1]),\n",
       " array([], dtype=int64)]"
      ]
     },
     "execution_count": 148,
     "metadata": {},
     "output_type": "execute_result"
    }
   ],
   "source": [
    "##g2.adj"
   ]
  },
  {
   "cell_type": "code",
   "execution_count": 170,
   "metadata": {},
   "outputs": [
    {
     "name": "stdout",
     "output_type": "stream",
     "text": [
      "il numero di nodi è  3\n",
      "(2,4)\n"
     ]
    }
   ],
   "source": [
    "g2_subgraph=g2.subGraph([2,4])"
   ]
  },
  {
   "cell_type": "code",
   "execution_count": 171,
   "metadata": {},
   "outputs": [
    {
     "data": {
      "text/plain": [
       "__main__.Graph"
      ]
     },
     "execution_count": 171,
     "metadata": {},
     "output_type": "execute_result"
    }
   ],
   "source": [
    "type(g2_subgraph)\n"
   ]
  },
  {
   "cell_type": "code",
   "execution_count": 173,
   "metadata": {},
   "outputs": [
    {
     "data": {
      "text/plain": [
       "[array([], dtype=int64), array([2]), array([1])]"
      ]
     },
     "execution_count": 173,
     "metadata": {},
     "output_type": "execute_result"
    }
   ],
   "source": [
    "g2_subgraph.adj"
   ]
  },
  {
   "cell_type": "code",
   "execution_count": 178,
   "metadata": {},
   "outputs": [
    {
     "name": "stdout",
     "output_type": "stream",
     "text": [
      "il numero di nodi è  3\n",
      "(2,4)\n"
     ]
    }
   ],
   "source": [
    "aux=g2[[2,4]]"
   ]
  },
  {
   "cell_type": "code",
   "execution_count": 179,
   "metadata": {},
   "outputs": [
    {
     "data": {
      "text/plain": [
       "[array([], dtype=int64), array([2]), array([1])]"
      ]
     },
     "execution_count": 179,
     "metadata": {},
     "output_type": "execute_result"
    }
   ],
   "source": [
    "aux.adj"
   ]
  },
  {
   "cell_type": "code",
   "execution_count": 187,
   "metadata": {},
   "outputs": [],
   "source": [
    "x=np.array([np.random.random(5),np.random.random(5)])"
   ]
  },
  {
   "cell_type": "code",
   "execution_count": 188,
   "metadata": {},
   "outputs": [
    {
     "data": {
      "text/plain": [
       "array([[0.85542513, 0.50893907, 0.62697898, 0.07035996, 0.37814488],\n",
       "       [0.08064505, 0.11848793, 0.62314172, 0.47496313, 0.07790282]])"
      ]
     },
     "execution_count": 188,
     "metadata": {},
     "output_type": "execute_result"
    }
   ],
   "source": [
    "x"
   ]
  },
  {
   "cell_type": "code",
   "execution_count": 189,
   "metadata": {},
   "outputs": [
    {
     "data": {
      "text/plain": [
       "array([0.85542513, 0.50893907, 0.62697898, 0.07035996, 0.37814488])"
      ]
     },
     "execution_count": 189,
     "metadata": {},
     "output_type": "execute_result"
    }
   ],
   "source": [
    "x[0]"
   ]
  },
  {
   "cell_type": "code",
   "execution_count": 190,
   "metadata": {},
   "outputs": [],
   "source": [
    "y=x.T"
   ]
  },
  {
   "cell_type": "code",
   "execution_count": 191,
   "metadata": {},
   "outputs": [
    {
     "data": {
      "text/plain": [
       "array([0.85542513, 0.08064505])"
      ]
     },
     "execution_count": 191,
     "metadata": {},
     "output_type": "execute_result"
    }
   ],
   "source": [
    "y[0]"
   ]
  },
  {
   "cell_type": "code",
   "execution_count": 258,
   "metadata": {},
   "outputs": [
    {
     "name": "stdout",
     "output_type": "stream",
     "text": [
      "le linee sono:\n",
      "[[array([0.85944531, 0.06942683]), array([0.23163536, 0.63347404])], [array([0.85944531, 0.06942683]), array([0.31909552, 0.74690272])], [array([0.23163536, 0.63347404]), array([0.31909552, 0.74690272])], [array([0.58528764, 0.44410765]), array([0.31909552, 0.74690272])]]\n"
     ]
    },
    {
     "data": {
      "image/png": "[encoded data removed]",
      "text/plain": [
       "<Figure size 432x288 with 1 Axes>"
      ]
     },
     "metadata": {},
     "output_type": "display_data"
    }
   ],
   "source": [
    "g2.graphPlot()"
   ]
  },
  {
   "cell_type": "code",
   "execution_count": null,
   "metadata": {},
   "outputs": [],
   "source": []
  }
 ],
 "metadata": {
  "kernelspec": {
   "display_name": "Python 3",
   "language": "python",
   "name": "python3"
  },
  "language_info": {
   "codemirror_mode": {
    "name": "ipython",
    "version": 3
   },
   "file_extension": ".py",
   "mimetype": "text/x-python",
   "name": "python",
   "nbconvert_exporter": "python",
   "pygments_lexer": "ipython3",
   "version": "3.6.5"
  }
 },
 "nbformat": 4,
 "nbformat_minor": 2
}
