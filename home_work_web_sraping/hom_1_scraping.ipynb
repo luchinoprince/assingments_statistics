{
 "cells": [
  {
   "cell_type": "markdown",
   "metadata": {},
   "source": [
    "## NON MANDATORY HOMEWORK ON WEBSCRAPING "
   ]
  },
  {
   "cell_type": "code",
   "execution_count": 1,
   "metadata": {},
   "outputs": [
    {
     "ename": "AttributeError",
     "evalue": "'WebDriver' object has no attribute 'set_preference'",
     "output_type": "error",
     "traceback": [
      "\u001b[0;31m---------------------------------------------------------------------------\u001b[0m",
      "\u001b[0;31mAttributeError\u001b[0m                            Traceback (most recent call last)",
      "\u001b[0;32m<ipython-input-1-063b1de313ce>\u001b[0m in \u001b[0;36m<module>\u001b[0;34m()\u001b[0m\n\u001b[1;32m      3\u001b[0m \u001b[0;32mfrom\u001b[0m \u001b[0mbs4\u001b[0m \u001b[0;32mimport\u001b[0m \u001b[0mBeautifulSoup\u001b[0m\u001b[0;34m\u001b[0m\u001b[0m\n\u001b[1;32m      4\u001b[0m \u001b[0mdriver\u001b[0m \u001b[0;34m=\u001b[0m \u001b[0mwebdriver\u001b[0m\u001b[0;34m.\u001b[0m\u001b[0mChrome\u001b[0m\u001b[0;34m(\u001b[0m\u001b[0mexecutable_path\u001b[0m\u001b[0;34m=\u001b[0m\u001b[0;34m'/Users/luchino_prince/Downloads/chromedriver'\u001b[0m\u001b[0;34m)\u001b[0m\u001b[0;34m\u001b[0m\u001b[0m\n\u001b[0;32m----> 5\u001b[0;31m \u001b[0mdriver\u001b[0m\u001b[0;34m.\u001b[0m\u001b[0mset_preference\u001b[0m\u001b[0;34m(\u001b[0m\u001b[0;34m\"general.useragent.override\"\u001b[0m\u001b[0;34m,\u001b[0m \u001b[0mUserAgent\u001b[0m\u001b[0;34m(\u001b[0m\u001b[0;34m)\u001b[0m\u001b[0;34m.\u001b[0m\u001b[0mrandom\u001b[0m\u001b[0;34m)\u001b[0m\u001b[0;34m\u001b[0m\u001b[0m\n\u001b[0m\u001b[1;32m      6\u001b[0m \u001b[0;31m#check what this fake user agent does when you have time\u001b[0m\u001b[0;34m\u001b[0m\u001b[0;34m\u001b[0m\u001b[0m\n\u001b[1;32m      7\u001b[0m \u001b[0mdriver\u001b[0m\u001b[0;34m.\u001b[0m\u001b[0mupdate_preferences\u001b[0m\u001b[0;34m(\u001b[0m\u001b[0;34m)\u001b[0m\u001b[0;34m\u001b[0m\u001b[0m\n",
      "\u001b[0;31mAttributeError\u001b[0m: 'WebDriver' object has no attribute 'set_preference'"
     ]
    }
   ],
   "source": [
    "from fake_useragent import UserAgent\n",
    "from selenium import webdriver\n",
    "from bs4 import BeautifulSoup\n",
    "driver = webdriver.Chrome(executable_path='/Users/luchino_prince/Downloads/chromedriver')\n",
    "driver.set_preference(\"general.useragent.override\", UserAgent().random)\n",
    "#check what this fake user agent does when you have time\n",
    "driver.update_preferences()\n",
    "\n"
   ]
  },
  {
   "cell_type": "code",
   "execution_count": 2,
   "metadata": {},
   "outputs": [],
   "source": [
    "url=\"https://bandcamp.com/\"\n",
    "driver.get(url)"
   ]
  },
  {
   "cell_type": "code",
   "execution_count": 7,
   "metadata": {},
   "outputs": [],
   "source": [
    "##observe when you change the page the url on the top changes."
   ]
  },
  {
   "cell_type": "code",
   "execution_count": 8,
   "metadata": {},
   "outputs": [],
   "source": [
    "## i wanna find the \"next\" button and click it, it's better than refreshing the page which is very slow\n",
    "##driver.find_element_by_link_text('Next').click() this is the command, i wanna click nexr until the url \n",
    "## doesn change"
   ]
  },
  {
   "cell_type": "code",
   "execution_count": 35,
   "metadata": {},
   "outputs": [],
   "source": [
    "content = driver.page_source\n",
    "soup = BeautifulSoup(content, \"lxml\")"
   ]
  },
  {
   "cell_type": "code",
   "execution_count": 57,
   "metadata": {},
   "outputs": [],
   "source": [
    "artist_name = soup.find_all(\"a\", class_= \"item-artist\")"
   ]
  },
  {
   "cell_type": "code",
   "execution_count": 58,
   "metadata": {},
   "outputs": [],
   "source": [
    "##title_name ##it's what i was looking for"
   ]
  },
  {
   "cell_type": "code",
   "execution_count": 59,
   "metadata": {},
   "outputs": [],
   "source": [
    "##print(title_name[1]).find(\"a\").get(\"text\")"
   ]
  },
  {
   "cell_type": "code",
   "execution_count": 60,
   "metadata": {},
   "outputs": [
    {
     "name": "stdout",
     "output_type": "stream",
     "text": [
      "Moe Shop\n",
      "Khruangbin\n",
      "Film Junk\n",
      "Kriegsmaschine\n",
      "Beach House\n",
      "VAPERROR\n",
      "Carbon Based Lifeforms\n",
      "Ujico*/Snail's House\n"
     ]
    }
   ],
   "source": [
    "for artist in artist_name:\n",
    "    print(artist.get_text())"
   ]
  },
  {
   "cell_type": "code",
   "execution_count": 61,
   "metadata": {},
   "outputs": [],
   "source": [
    "title_name = soup.find_all(\"a\", class_=\"item-title\")"
   ]
  },
  {
   "cell_type": "code",
   "execution_count": 62,
   "metadata": {},
   "outputs": [
    {
     "name": "stdout",
     "output_type": "stream",
     "text": [
      "Moe Moe\n",
      "Christmas Time Is Here (N & S America Edition)\n",
      "Dario Argento\n",
      "Apocalypticists\n",
      "Lose Your Smile / Alien\n",
      "POLYCHROMATIC COMPILER\n",
      "The Path\n",
      "Snailchan Adventure\n"
     ]
    }
   ],
   "source": [
    "for title in title_name:\n",
    "    print(title.get_text())"
   ]
  },
  {
   "cell_type": "code",
   "execution_count": 63,
   "metadata": {},
   "outputs": [],
   "source": [
    "## ok i found how to get them on the page, now i wanna try to understand how to press the next button"
   ]
  },
  {
   "cell_type": "code",
   "execution_count": 46,
   "metadata": {},
   "outputs": [],
   "source": [
    "##lets see if this works\n",
    "driver.find_element_by_link_text('next').click()\n",
    "## it works!!!this clicks the next button, maybe try to find a better way to do this"
   ]
  },
  {
   "cell_type": "code",
   "execution_count": 47,
   "metadata": {},
   "outputs": [],
   "source": [
    "## can i get the url i am in right now??"
   ]
  },
  {
   "cell_type": "code",
   "execution_count": 64,
   "metadata": {},
   "outputs": [
    {
     "data": {
      "text/plain": [
       "'https://bandcamp.com/?g=all&s=top&p=1&gn=0&f=all&w=0'"
      ]
     },
     "execution_count": 64,
     "metadata": {},
     "output_type": "execute_result"
    }
   ],
   "source": [
    "driver.current_url"
   ]
  },
  {
   "cell_type": "code",
   "execution_count": 65,
   "metadata": {},
   "outputs": [],
   "source": [
    "## yeahhhh this way i can press until the url doesn't change !!!\n",
    "## lets try to print first the name author and then the title of the album"
   ]
  },
  {
   "cell_type": "code",
   "execution_count": 53,
   "metadata": {},
   "outputs": [],
   "source": [
    "for comb in zip(artist_name,title_name):\n",
    "    artist=comb[0].get_text()\n",
    "    ##print(artist)\n",
    "    title=comb[1].get_text()\n",
    "    ##print(title)\n",
    "    ##print(\"\")\n",
    "    "
   ]
  },
  {
   "cell_type": "markdown",
   "metadata": {},
   "source": [
    "Ok now i have just to iterate over the \"command\" and see ,we'll start over and do it all in once"
   ]
  },
  {
   "cell_type": "code",
   "execution_count": 68,
   "metadata": {},
   "outputs": [
    {
     "ename": "AttributeError",
     "evalue": "'WebDriver' object has no attribute 'set_preference'",
     "output_type": "error",
     "traceback": [
      "\u001b[0;31m---------------------------------------------------------------------------\u001b[0m",
      "\u001b[0;31mAttributeError\u001b[0m                            Traceback (most recent call last)",
      "\u001b[0;32m<ipython-input-68-063b1de313ce>\u001b[0m in \u001b[0;36m<module>\u001b[0;34m()\u001b[0m\n\u001b[1;32m      3\u001b[0m \u001b[0;32mfrom\u001b[0m \u001b[0mbs4\u001b[0m \u001b[0;32mimport\u001b[0m \u001b[0mBeautifulSoup\u001b[0m\u001b[0;34m\u001b[0m\u001b[0m\n\u001b[1;32m      4\u001b[0m \u001b[0mdriver\u001b[0m \u001b[0;34m=\u001b[0m \u001b[0mwebdriver\u001b[0m\u001b[0;34m.\u001b[0m\u001b[0mChrome\u001b[0m\u001b[0;34m(\u001b[0m\u001b[0mexecutable_path\u001b[0m\u001b[0;34m=\u001b[0m\u001b[0;34m'/Users/luchino_prince/Downloads/chromedriver'\u001b[0m\u001b[0;34m)\u001b[0m\u001b[0;34m\u001b[0m\u001b[0m\n\u001b[0;32m----> 5\u001b[0;31m \u001b[0mdriver\u001b[0m\u001b[0;34m.\u001b[0m\u001b[0mset_preference\u001b[0m\u001b[0;34m(\u001b[0m\u001b[0;34m\"general.useragent.override\"\u001b[0m\u001b[0;34m,\u001b[0m \u001b[0mUserAgent\u001b[0m\u001b[0;34m(\u001b[0m\u001b[0;34m)\u001b[0m\u001b[0;34m.\u001b[0m\u001b[0mrandom\u001b[0m\u001b[0;34m)\u001b[0m\u001b[0;34m\u001b[0m\u001b[0m\n\u001b[0m\u001b[1;32m      6\u001b[0m \u001b[0;31m#check what this fake user agent does when you have time\u001b[0m\u001b[0;34m\u001b[0m\u001b[0;34m\u001b[0m\u001b[0m\n\u001b[1;32m      7\u001b[0m \u001b[0mdriver\u001b[0m\u001b[0;34m.\u001b[0m\u001b[0mupdate_preferences\u001b[0m\u001b[0;34m(\u001b[0m\u001b[0;34m)\u001b[0m\u001b[0;34m\u001b[0m\u001b[0m\n",
      "\u001b[0;31mAttributeError\u001b[0m: 'WebDriver' object has no attribute 'set_preference'"
     ]
    }
   ],
   "source": [
    "from fake_useragent import UserAgent\n",
    "from selenium import webdriver\n",
    "from bs4 import BeautifulSoup\n",
    "driver = webdriver.Chrome(executable_path='/Users/luchino_prince/Downloads/chromedriver')\n",
    "driver.set_preference(\"general.useragent.override\", UserAgent().random)\n",
    "#check what this fake user agent does when you have time\n",
    "driver.update_preferences()"
   ]
  },
  {
   "cell_type": "markdown",
   "metadata": {},
   "source": [
    "Try to fix this error"
   ]
  },
  {
   "cell_type": "code",
   "execution_count": 69,
   "metadata": {},
   "outputs": [],
   "source": [
    "url=\"https://bandcamp.com/\"\n",
    "driver.get(url)"
   ]
  },
  {
   "cell_type": "markdown",
   "metadata": {},
   "source": [
    "Lets now iterate"
   ]
  },
  {
   "cell_type": "code",
   "execution_count": 54,
   "metadata": {},
   "outputs": [],
   "source": [
    "last_url=driver.current_url\n",
    "##scroll_pause_time=0.5 here i don't need the scroll time\n",
    "x=True\n",
    "while (x):\n",
    "    artist_name = soup.find_all(\"a\", class_= \"item-artist\")\n",
    "    title_name = soup.find_all(\"a\", class_=\"item-title\")\n",
    "    for comb in zip(artist_name,title_name):\n",
    "        artist=comb[0].get_text()\n",
    "        ##print(artist)\n",
    "        title=comb[1].get_text()\n",
    "        ##print(title)\n",
    "        ##print(\"\")\n",
    "    driver.find_element_by_link_text('next').click()\n",
    "    ## i change the URL so i compare\n",
    "    if last_url==driver.current_url:\n",
    "        x=False\n",
    "    else:\n",
    "        last_url=driver.current_url\n",
    "    "
   ]
  },
  {
   "cell_type": "code",
   "execution_count": 113,
   "metadata": {},
   "outputs": [
    {
     "ename": "AttributeError",
     "evalue": "'WebDriver' object has no attribute 'set_preference'",
     "output_type": "error",
     "traceback": [
      "\u001b[0;31m---------------------------------------------------------------------------\u001b[0m",
      "\u001b[0;31mAttributeError\u001b[0m                            Traceback (most recent call last)",
      "\u001b[0;32m<ipython-input-113-063b1de313ce>\u001b[0m in \u001b[0;36m<module>\u001b[0;34m()\u001b[0m\n\u001b[1;32m      3\u001b[0m \u001b[0;32mfrom\u001b[0m \u001b[0mbs4\u001b[0m \u001b[0;32mimport\u001b[0m \u001b[0mBeautifulSoup\u001b[0m\u001b[0;34m\u001b[0m\u001b[0m\n\u001b[1;32m      4\u001b[0m \u001b[0mdriver\u001b[0m \u001b[0;34m=\u001b[0m \u001b[0mwebdriver\u001b[0m\u001b[0;34m.\u001b[0m\u001b[0mChrome\u001b[0m\u001b[0;34m(\u001b[0m\u001b[0mexecutable_path\u001b[0m\u001b[0;34m=\u001b[0m\u001b[0;34m'/Users/luchino_prince/Downloads/chromedriver'\u001b[0m\u001b[0;34m)\u001b[0m\u001b[0;34m\u001b[0m\u001b[0m\n\u001b[0;32m----> 5\u001b[0;31m \u001b[0mdriver\u001b[0m\u001b[0;34m.\u001b[0m\u001b[0mset_preference\u001b[0m\u001b[0;34m(\u001b[0m\u001b[0;34m\"general.useragent.override\"\u001b[0m\u001b[0;34m,\u001b[0m \u001b[0mUserAgent\u001b[0m\u001b[0;34m(\u001b[0m\u001b[0;34m)\u001b[0m\u001b[0;34m.\u001b[0m\u001b[0mrandom\u001b[0m\u001b[0;34m)\u001b[0m\u001b[0;34m\u001b[0m\u001b[0m\n\u001b[0m\u001b[1;32m      6\u001b[0m \u001b[0;31m#check what this fake user agent does when you have time\u001b[0m\u001b[0;34m\u001b[0m\u001b[0;34m\u001b[0m\u001b[0m\n\u001b[1;32m      7\u001b[0m \u001b[0mdriver\u001b[0m\u001b[0;34m.\u001b[0m\u001b[0mupdate_preferences\u001b[0m\u001b[0;34m(\u001b[0m\u001b[0;34m)\u001b[0m\u001b[0;34m\u001b[0m\u001b[0m\n",
      "\u001b[0;31mAttributeError\u001b[0m: 'WebDriver' object has no attribute 'set_preference'"
     ]
    }
   ],
   "source": [
    "from fake_useragent import UserAgent\n",
    "from selenium import webdriver\n",
    "from bs4 import BeautifulSoup\n",
    "driver = webdriver.Chrome(executable_path='/Users/luchino_prince/Downloads/chromedriver')\n",
    "driver.set_preference(\"general.useragent.override\", UserAgent().random)\n",
    "#check what this fake user agent does when you have time\n",
    "driver.update_preferences()"
   ]
  },
  {
   "cell_type": "code",
   "execution_count": 114,
   "metadata": {},
   "outputs": [],
   "source": [
    "url=\"https://bandcamp.com/\"\n",
    "driver.get(url)"
   ]
  },
  {
   "cell_type": "code",
   "execution_count": 115,
   "metadata": {},
   "outputs": [],
   "source": [
    "last_url=driver.current_url"
   ]
  },
  {
   "cell_type": "code",
   "execution_count": 116,
   "metadata": {},
   "outputs": [
    {
     "data": {
      "text/plain": [
       "'https://bandcamp.com/'"
      ]
     },
     "execution_count": 116,
     "metadata": {},
     "output_type": "execute_result"
    }
   ],
   "source": [
    "last_url"
   ]
  },
  {
   "cell_type": "code",
   "execution_count": 75,
   "metadata": {},
   "outputs": [],
   "source": [
    "##here is the problem..."
   ]
  },
  {
   "cell_type": "code",
   "execution_count": 117,
   "metadata": {},
   "outputs": [],
   "source": [
    "content = driver.page_source\n",
    "soup = BeautifulSoup(content, \"lxml\")"
   ]
  },
  {
   "cell_type": "code",
   "execution_count": 118,
   "metadata": {},
   "outputs": [],
   "source": [
    "artist_name = soup.find_all(\"a\", class_= \"item-artist\")\n",
    "title_name = soup.find_all(\"a\", class_=\"item-title\")"
   ]
  },
  {
   "cell_type": "code",
   "execution_count": 119,
   "metadata": {},
   "outputs": [],
   "source": [
    "last_url=driver.current_url"
   ]
  },
  {
   "cell_type": "code",
   "execution_count": 120,
   "metadata": {},
   "outputs": [
    {
     "data": {
      "text/plain": [
       "'https://bandcamp.com/'"
      ]
     },
     "execution_count": 120,
     "metadata": {},
     "output_type": "execute_result"
    }
   ],
   "source": [
    "last_url"
   ]
  },
  {
   "cell_type": "code",
   "execution_count": 55,
   "metadata": {},
   "outputs": [],
   "source": [
    "for comb in zip(artist_name,title_name):\n",
    "        artist=comb[0].get_text()\n",
    "        #print(artist)\n",
    "        title=comb[1].get_text()\n",
    "        #print(title)\n",
    "        #print(\"\")"
   ]
  },
  {
   "cell_type": "code",
   "execution_count": 122,
   "metadata": {},
   "outputs": [],
   "source": [
    "driver.find_element_by_link_text('next').click()"
   ]
  },
  {
   "cell_type": "code",
   "execution_count": 123,
   "metadata": {},
   "outputs": [
    {
     "data": {
      "text/plain": [
       "'https://bandcamp.com/?g=all&s=top&p=1&gn=0&f=all&w=0'"
      ]
     },
     "execution_count": 123,
     "metadata": {},
     "output_type": "execute_result"
    }
   ],
   "source": [
    "driver.current_url"
   ]
  },
  {
   "cell_type": "code",
   "execution_count": 95,
   "metadata": {},
   "outputs": [],
   "source": [
    "driver.find_element_by_link_text('next').click()"
   ]
  },
  {
   "cell_type": "code",
   "execution_count": 96,
   "metadata": {},
   "outputs": [
    {
     "data": {
      "text/plain": [
       "'https://bandcamp.com/?g=all&s=top&p=2&gn=0&f=all&w=0'"
      ]
     },
     "execution_count": 96,
     "metadata": {},
     "output_type": "execute_result"
    }
   ],
   "source": [
    "driver.current_url"
   ]
  },
  {
   "cell_type": "code",
   "execution_count": 97,
   "metadata": {},
   "outputs": [],
   "source": [
    "last_url=driver.current_url"
   ]
  },
  {
   "cell_type": "code",
   "execution_count": 98,
   "metadata": {},
   "outputs": [
    {
     "data": {
      "text/plain": [
       "'https://bandcamp.com/?g=all&s=top&p=2&gn=0&f=all&w=0'"
      ]
     },
     "execution_count": 98,
     "metadata": {},
     "output_type": "execute_result"
    }
   ],
   "source": [
    "last_url"
   ]
  },
  {
   "cell_type": "code",
   "execution_count": 99,
   "metadata": {},
   "outputs": [
    {
     "data": {
      "text/plain": [
       "True"
      ]
     },
     "execution_count": 99,
     "metadata": {},
     "output_type": "execute_result"
    }
   ],
   "source": [
    "last_url==driver.current_url"
   ]
  },
  {
   "cell_type": "code",
   "execution_count": 100,
   "metadata": {},
   "outputs": [],
   "source": [
    "driver.find_element_by_link_text('next').click()"
   ]
  },
  {
   "cell_type": "code",
   "execution_count": 101,
   "metadata": {},
   "outputs": [
    {
     "data": {
      "text/plain": [
       "False"
      ]
     },
     "execution_count": 101,
     "metadata": {},
     "output_type": "execute_result"
    }
   ],
   "source": [
    "last_url==driver.current_url"
   ]
  },
  {
   "cell_type": "code",
   "execution_count": 124,
   "metadata": {},
   "outputs": [],
   "source": [
    "content = driver.page_source\n",
    "soup = BeautifulSoup(content, \"lxml\")"
   ]
  },
  {
   "cell_type": "markdown",
   "metadata": {},
   "source": [
    "this works how i would think...."
   ]
  },
  {
   "cell_type": "code",
   "execution_count": 56,
   "metadata": {},
   "outputs": [],
   "source": [
    "artist_name = soup.find_all(\"a\", class_= \"item-artist\")\n",
    "title_name = soup.find_all(\"a\", class_=\"item-title\")\n",
    "for comb in zip(artist_name,title_name):\n",
    "        artist=comb[0].get_text()\n",
    "        #print(artist)\n",
    "        title=comb[1].get_text()\n",
    "        #print(title)\n",
    "        #print(\"\")"
   ]
  },
  {
   "cell_type": "markdown",
   "metadata": {},
   "source": [
    "I think the problem is with the soup object"
   ]
  },
  {
   "cell_type": "code",
   "execution_count": 106,
   "metadata": {},
   "outputs": [
    {
     "data": {
      "text/plain": [
       "'https://bandcamp.com/?g=all&s=top&p=3&gn=0&f=all&w=0'"
      ]
     },
     "execution_count": 106,
     "metadata": {},
     "output_type": "execute_result"
    }
   ],
   "source": [
    "driver.current_url"
   ]
  },
  {
   "cell_type": "code",
   "execution_count": 126,
   "metadata": {},
   "outputs": [],
   "source": [
    "## ok it keeps the old one, so i have to print just once!"
   ]
  },
  {
   "cell_type": "code",
   "execution_count": 82,
   "metadata": {},
   "outputs": [
    {
     "ename": "AttributeError",
     "evalue": "'WebDriver' object has no attribute 'set_preference'",
     "output_type": "error",
     "traceback": [
      "\u001b[0;31m---------------------------------------------------------------------------\u001b[0m",
      "\u001b[0;31mAttributeError\u001b[0m                            Traceback (most recent call last)",
      "\u001b[0;32m<ipython-input-82-063b1de313ce>\u001b[0m in \u001b[0;36m<module>\u001b[0;34m()\u001b[0m\n\u001b[1;32m      3\u001b[0m \u001b[0;32mfrom\u001b[0m \u001b[0mbs4\u001b[0m \u001b[0;32mimport\u001b[0m \u001b[0mBeautifulSoup\u001b[0m\u001b[0;34m\u001b[0m\u001b[0m\n\u001b[1;32m      4\u001b[0m \u001b[0mdriver\u001b[0m \u001b[0;34m=\u001b[0m \u001b[0mwebdriver\u001b[0m\u001b[0;34m.\u001b[0m\u001b[0mChrome\u001b[0m\u001b[0;34m(\u001b[0m\u001b[0mexecutable_path\u001b[0m\u001b[0;34m=\u001b[0m\u001b[0;34m'/Users/luchino_prince/Downloads/chromedriver'\u001b[0m\u001b[0;34m)\u001b[0m\u001b[0;34m\u001b[0m\u001b[0m\n\u001b[0;32m----> 5\u001b[0;31m \u001b[0mdriver\u001b[0m\u001b[0;34m.\u001b[0m\u001b[0mset_preference\u001b[0m\u001b[0;34m(\u001b[0m\u001b[0;34m\"general.useragent.override\"\u001b[0m\u001b[0;34m,\u001b[0m \u001b[0mUserAgent\u001b[0m\u001b[0;34m(\u001b[0m\u001b[0;34m)\u001b[0m\u001b[0;34m.\u001b[0m\u001b[0mrandom\u001b[0m\u001b[0;34m)\u001b[0m\u001b[0;34m\u001b[0m\u001b[0m\n\u001b[0m\u001b[1;32m      6\u001b[0m \u001b[0;31m#check what this fake user agent does when you have time\u001b[0m\u001b[0;34m\u001b[0m\u001b[0;34m\u001b[0m\u001b[0m\n\u001b[1;32m      7\u001b[0m \u001b[0mdriver\u001b[0m\u001b[0;34m.\u001b[0m\u001b[0mupdate_preferences\u001b[0m\u001b[0;34m(\u001b[0m\u001b[0;34m)\u001b[0m\u001b[0;34m\u001b[0m\u001b[0m\n",
      "\u001b[0;31mAttributeError\u001b[0m: 'WebDriver' object has no attribute 'set_preference'"
     ]
    }
   ],
   "source": [
    "from fake_useragent import UserAgent\n",
    "from selenium import webdriver\n",
    "from bs4 import BeautifulSoup\n",
    "driver = webdriver.Chrome(executable_path='/Users/luchino_prince/Downloads/chromedriver')\n",
    "driver.set_preference(\"general.useragent.override\", UserAgent().random)\n",
    "#check what this fake user agent does when you have time\n",
    "driver.update_preferences()"
   ]
  },
  {
   "cell_type": "code",
   "execution_count": 83,
   "metadata": {},
   "outputs": [],
   "source": [
    "url=\"https://bandcamp.com/\"\n",
    "driver.get(url)"
   ]
  },
  {
   "cell_type": "code",
   "execution_count": 58,
   "metadata": {},
   "outputs": [],
   "source": [
    "last_url=driver.current_url\n",
    "i=0\n",
    "while (True):\n",
    "    ## maybe it doesn't click the righ next, i gotta identify it's position so i am sure\n",
    "    \n",
    "    driver.find_element_by_link_text('next').click()\n",
    "    ## i am changing the url this way\n",
    "    ##print(last_url)\n",
    "    ##print(driver.current_url)\n",
    "    if last_url==driver.current_url:\n",
    "        ##print(\"i have reached the last page\")\n",
    "        break\n",
    "    else:\n",
    "        ##print(\"i'm still in a new page, this one is number\",i+1)\n",
    "        ##i+=1\n",
    "        last_url=driver.current_url\n",
    "        \n",
    "    "
   ]
  },
  {
   "cell_type": "code",
   "execution_count": 136,
   "metadata": {},
   "outputs": [],
   "source": [
    "## i have to solve this last problem and i am done"
   ]
  },
  {
   "cell_type": "code",
   "execution_count": 59,
   "metadata": {},
   "outputs": [],
   "source": [
    "content = driver.page_source\n",
    "soup = BeautifulSoup(content, \"lxml\")\n",
    "artist_name = soup.find_all(\"a\", class_= \"item-artist\")\n",
    "title_name = soup.find_all(\"a\", class_=\"item-title\")\n",
    "for comb in zip(artist_name,title_name):\n",
    "        artist=comb[0].get_text()\n",
    "        ##print(artist)\n",
    "        title=comb[1].get_text()\n",
    "        ##print(title)\n",
    "        ##print(\"\")"
   ]
  },
  {
   "cell_type": "code",
   "execution_count": 30,
   "metadata": {},
   "outputs": [],
   "source": [
    "from fake_useragent import UserAgent\n",
    "from selenium import webdriver\n",
    "from bs4 import BeautifulSoup\n",
    "import time\n",
    "driver = webdriver.Chrome(executable_path='/Users/luchino_prince/Downloads/chromedriver')\n",
    "##driver.set_preference(\"general.useragent.override\", UserAgent().random)\n",
    "#check what this fake user agent does when you have time\n",
    "##driver.update_preferences()"
   ]
  },
  {
   "cell_type": "code",
   "execution_count": 31,
   "metadata": {},
   "outputs": [],
   "source": [
    "##url=\"https://bandcamp.com/\"\n",
    "url='https://bandcamp.com/?g=all&s=top&p=0&gn=0&f=all&w=0'\n",
    "driver.get(url)"
   ]
  },
  {
   "cell_type": "code",
   "execution_count": 32,
   "metadata": {},
   "outputs": [
    {
     "data": {
      "text/plain": [
       "'https://bandcamp.com/?g=all&s=top&p=0&gn=0&f=all&w=0'"
      ]
     },
     "execution_count": 32,
     "metadata": {},
     "output_type": "execute_result"
    }
   ],
   "source": [
    "driver.current_url"
   ]
  },
  {
   "cell_type": "code",
   "execution_count": 60,
   "metadata": {},
   "outputs": [],
   "source": [
    "old_url=driver.current_url\n",
    "i=0\n",
    "while (True):\n",
    "    \n",
    "    button=driver.find_element_by_xpath('//*[@id=\"discover\"]/div[9]/div[1]/div[5]/div/a[11]')\n",
    "    button.click()\n",
    "    time.sleep(1.5)\n",
    "    ##print(old_url)\n",
    "    ##print(driver.current_url)\n",
    "    \n",
    "    if (old_url==driver.current_url):\n",
    "        break\n",
    "    else:\n",
    "        i=i+1\n",
    "        ##print(i)\n",
    "        ##print(\"\")\n",
    "        old_url=driver.current_url\n",
    "        \n",
    "        "
   ]
  },
  {
   "cell_type": "code",
   "execution_count": 86,
   "metadata": {},
   "outputs": [],
   "source": [
    "##button=driver.find_element_by_xpath('//*[@id=\"discover\"]/div[9]/div[1]/div[5]/div/a[11]')\n",
    "##button.click()"
   ]
  },
  {
   "cell_type": "code",
   "execution_count": 87,
   "metadata": {},
   "outputs": [],
   "source": [
    "##driver.current_url"
   ]
  },
  {
   "cell_type": "code",
   "execution_count": 61,
   "metadata": {},
   "outputs": [],
   "source": [
    "content = driver.page_source\n",
    "soup = BeautifulSoup(content, \"lxml\")\n",
    "artist_name = soup.find_all(\"a\", class_= \"item-artist\")\n",
    "title_name = soup.find_all(\"a\", class_=\"item-title\")\n",
    "for comb in zip(artist_name,title_name):\n",
    "        artist=comb[0].get_text()\n",
    "        print(artist)\n",
    "        title=comb[1].get_text()\n",
    "        print(title)\n",
    "        print(\"\")"
   ]
  },
  {
   "cell_type": "markdown",
   "metadata": {},
   "source": [
    "## LAST TRY"
   ]
  },
  {
   "cell_type": "code",
   "execution_count": 102,
   "metadata": {},
   "outputs": [],
   "source": [
    "from fake_useragent import UserAgent\n",
    "from selenium import webdriver\n",
    "from bs4 import BeautifulSoup\n",
    "import time\n",
    "import csv\n",
    "with open(\"homework_1.csv\", \"w\", newline=\"\") as f:\n",
    "                writer = csv.writer(f)\n",
    "                writer.writerow([\"title\", \"autor's name\"])\n",
    "driver = webdriver.Chrome(executable_path='/Users/luchino_prince/Downloads/chromedriver')\n",
    "##driver.set_preference(\"general.useragent.override\", UserAgent().random)\n",
    "#check what this fake user agent does when you have time\n",
    "##driver.update_preferences()"
   ]
  },
  {
   "cell_type": "code",
   "execution_count": 103,
   "metadata": {},
   "outputs": [],
   "source": [
    "url='https://bandcamp.com/?g=all&s=top&p=0&gn=0&f=all&w=0'\n",
    "driver.get(url)"
   ]
  },
  {
   "cell_type": "code",
   "execution_count": 104,
   "metadata": {},
   "outputs": [],
   "source": [
    "## now lets print"
   ]
  },
  {
   "cell_type": "code",
   "execution_count": 105,
   "metadata": {},
   "outputs": [
    {
     "name": "stdout",
     "output_type": "stream",
     "text": [
      "i am the end of the page,i print and end\n"
     ]
    }
   ],
   "source": [
    "old_url=driver.current_url\n",
    "i=1\n",
    "while (True):\n",
    "    button=driver.find_element_by_xpath('//*[@id=\"discover\"]/div[9]/div[1]/div[5]/div/a[11]')\n",
    "    button.click()\n",
    "    time.sleep(1.1)\n",
    "    i+=1\n",
    "    if old_url==driver.current_url:\n",
    "        print(\"i am the end of the page,i print and end\")\n",
    "        content = driver.page_source\n",
    "        soup=BeautifulSoup(content, \"lxml\")\n",
    "        artist_name = soup.find_all(\"a\", class_=\"item-artist\")\n",
    "        title_name = soup.find_all(\"a\", class_=\"item-title\")\n",
    "        for comb in zip(artist_name,title_name):\n",
    "            artist=comb[0].get_text()\n",
    "            ##print(artist)\n",
    "            title=comb[1].get_text()\n",
    "            ##print(title)\n",
    "            ##print(\"\")\n",
    "            with open(\"homework_1.csv\", \"a\",  newline=\"\") as f:\n",
    "                writer = csv.writer(f)\n",
    "                writer.writerow([artist, title ])\n",
    "        \n",
    "        break\n",
    "    else:\n",
    "        if i%3==0:\n",
    "            ##print(i)\n",
    "            content = driver.page_source\n",
    "            soup=BeautifulSoup(content, \"lxml\")\n",
    "            artist_name = soup.find_all(\"a\", class_=\"item-artist\")\n",
    "            title_name = soup.find_all(\"a\", class_=\"item-title\")\n",
    "            for comb in zip(artist_name,title_name):\n",
    "                artist=comb[0].get_text()\n",
    "                ##print(artist)\n",
    "                title=comb[1].get_text()\n",
    "                ##print(title)\n",
    "                ##print(\"\")\n",
    "                with open(\"homework_1.csv\", \"a\",  newline=\"\") as f:\n",
    "                    writer = csv.writer(f)\n",
    "                    writer.writerow([artist, title ])\n",
    "        ## the else is empty\n",
    "        old_url=driver.current_url\n",
    "\n",
    "            \n",
    "    \n",
    "    "
   ]
  },
  {
   "cell_type": "code",
   "execution_count": 84,
   "metadata": {},
   "outputs": [
    {
     "data": {
      "text/plain": [
       "'https://bandcamp.com/?g=all&s=top&p=5&gn=0&f=all&w=0'"
      ]
     },
     "execution_count": 84,
     "metadata": {},
     "output_type": "execute_result"
    }
   ],
   "source": [
    "driver.current_url"
   ]
  },
  {
   "cell_type": "code",
   "execution_count": null,
   "metadata": {},
   "outputs": [],
   "source": []
  },
  {
   "cell_type": "code",
   "execution_count": null,
   "metadata": {},
   "outputs": [],
   "source": []
  },
  {
   "cell_type": "code",
   "execution_count": 85,
   "metadata": {},
   "outputs": [
    {
     "name": "stdout",
     "output_type": "stream",
     "text": [
      "EURINGER\n",
      "EURINGER\n",
      "\n",
      "Mystery Skulls\n",
      "Ultra Rare Vol 1\n",
      "\n",
      "Open Mike Eagle\n",
      "What Happens When I Try To Relax\n",
      "\n",
      "HIA & Biosphere\n",
      "Polar Sequences [Remastered]\n",
      "\n",
      "Jorge Elbrecht\n",
      "Happiness EP\n",
      "\n",
      "Amerigo Gazaway\n",
      "No Free Beats: An Original Soundtrack\n",
      "\n",
      "Sleep\n",
      "Dopesmoker\n",
      "\n",
      "Jesus Piece\n",
      "Only Self\n",
      "\n",
      "Secret Chiefs 3: UR\n",
      "[UR] Personnae: Halloween EP\n",
      "\n",
      "Dopplereffekt\n",
      "Athanatos\n",
      "\n",
      "Apollo Brown & Joell Ortiz\n",
      "Mona Lisa\n",
      "\n",
      "Noname\n",
      "Room 25\n",
      "\n",
      "IMPERIALIST (US)\n",
      "Cipher (Black Metal)\n",
      "\n",
      "Julia Holter\n",
      "Aviary\n",
      "\n",
      "Vulfpeck\n",
      "Mr Finish Line\n",
      "\n",
      "Ben Prunty\n",
      "T-Rex EP\n",
      "\n",
      "Barús\n",
      "Drowned\n",
      "\n",
      "Hotel Neon\n",
      "Inward\n",
      "\n",
      "Power Trip\n",
      "Nightmare Logic\n",
      "\n",
      "David Begun\n",
      "Marvin Jay\n",
      "\n",
      "GUNSHIP\n",
      "Dark All Day\n",
      "\n",
      "Samba\n",
      "SAMBA PACK ONE\n",
      "\n",
      "Deerhoof\n",
      "Deerhoof Plays Music Of The Shining\n",
      "\n",
      "Atlas Losing Grip\n",
      "Shut The World Out\n",
      "\n"
     ]
    }
   ],
   "source": [
    "\n",
    "content = driver.page_source\n",
    "soup = BeautifulSoup(content, \"lxml\")\n",
    "artist_name = soup.find_all(\"a\", class_= \"item-artist\")\n",
    "title_name = soup.find_all(\"a\", class_=\"item-title\")\n",
    "for comb in zip(artist_name,title_name):\n",
    "        artist=comb[0].get_text()\n",
    "        print(artist)\n",
    "        title=comb[1].get_text()\n",
    "        print(title)\n",
    "        print(\"\")"
   ]
  },
  {
   "cell_type": "markdown",
   "metadata": {},
   "source": [
    "it seems that it puts only 3 pages at the time, i'll have to deal with this"
   ]
  },
  {
   "cell_type": "markdown",
   "metadata": {},
   "source": [
    "ok now it kind of works,lets check another way to see the problem"
   ]
  },
  {
   "cell_type": "code",
   "execution_count": null,
   "metadata": {},
   "outputs": [],
   "source": []
  }
 ],
 "metadata": {
  "kernelspec": {
   "display_name": "Python 3",
   "language": "python",
   "name": "python3"
  },
  "language_info": {
   "codemirror_mode": {
    "name": "ipython",
    "version": 3
   },
   "file_extension": ".py",
   "mimetype": "text/x-python",
   "name": "python",
   "nbconvert_exporter": "python",
   "pygments_lexer": "ipython3",
   "version": "3.6.5"
  }
 },
 "nbformat": 4,
 "nbformat_minor": 2
}
