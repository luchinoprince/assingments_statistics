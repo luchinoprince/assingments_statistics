{
 "cells": [
  {
   "cell_type": "markdown",
   "metadata": {},
   "source": [
    "## HOMEWORK 2 ON WEB SCRAPING"
   ]
  },
  {
   "cell_type": "code",
   "execution_count": 238,
   "metadata": {},
   "outputs": [],
   "source": [
    "from fake_useragent import UserAgent\n",
    "from selenium import webdriver\n",
    "from bs4 import BeautifulSoup\n",
    "import time\n",
    "from random import randint\n",
    "import csv\n",
    "driver = webdriver.Chrome(executable_path='/Users/luchino_prince/Downloads/chromedriver')\n",
    "with open(\"homework_3.csv\", \"w\", newline=\"\") as f:\n",
    "                writer = csv.writer(f)\n",
    "                writer.writerow([\"object\", \"creator\",\"description\"])"
   ]
  },
  {
   "cell_type": "code",
   "execution_count": 239,
   "metadata": {},
   "outputs": [],
   "source": [
    "url='https://www.myminifactory.com/category/accessibility'\n",
    "driver.get(url)"
   ]
  },
  {
   "cell_type": "markdown",
   "metadata": {},
   "source": [
    "First i'll scroll down all the web page"
   ]
  },
  {
   "cell_type": "code",
   "execution_count": 240,
   "metadata": {},
   "outputs": [
    {
     "name": "stdout",
     "output_type": "stream",
     "text": [
      "3517\n",
      "5694\n",
      "7871\n",
      "10359\n",
      "12536\n",
      "14713\n",
      "17201\n",
      "19378\n",
      "21555\n",
      "24043\n",
      "26220\n",
      "28397\n",
      "30885\n",
      "33062\n",
      "35239\n",
      "35550\n",
      "35550\n",
      " i am out of the while loop\n"
     ]
    }
   ],
   "source": [
    "last_height = driver.execute_script(\"return document.body.scrollHeight\")\n",
    "print(last_height)\n",
    "SCROLL_PAUSE_TIME=1.1\n",
    "## this again to replicate what a human would do\n",
    "import time\n",
    "while True:\n",
    "    ## here i have to enter the different websites\n",
    "    driver.execute_script(\"window.scrollTo(0,document.body.scrollHeight);\")\n",
    "    time.sleep(SCROLL_PAUSE_TIME)\n",
    "    new_height=driver.execute_script(\"return document.body.scrollHeight\")\n",
    "    print(new_height)\n",
    "    if new_height==last_height:\n",
    "        break\n",
    "    else:\n",
    "        last_height = new_height\n",
    "print(\" i am out of the while loop\")\n"
   ]
  },
  {
   "cell_type": "markdown",
   "metadata": {},
   "source": [
    "I scrolled down to the bottom"
   ]
  },
  {
   "cell_type": "code",
   "execution_count": 241,
   "metadata": {},
   "outputs": [],
   "source": [
    "content = driver.page_source\n",
    "soup = BeautifulSoup(content, \"lxml\")\n",
    "products = soup.find_all(\"div\", class_=\"content-over\")"
   ]
  },
  {
   "cell_type": "markdown",
   "metadata": {},
   "source": [
    "Ok i understood what i have to do"
   ]
  },
  {
   "cell_type": "code",
   "execution_count": 242,
   "metadata": {},
   "outputs": [],
   "source": [
    "for product in products:\n",
    "    time.sleep(randint(0,3))\n",
    "    \n",
    "    page_url = product.find(\"a\").get(\"href\")\n",
    "    page_url = \"https://www.myminifactory.com\" + str(page_url)\n",
    "    ##print(page_url)\n",
    "    driver.get(page_url)\n",
    "    content_page=driver.page_source\n",
    "    soup_page=BeautifulSoup(content_page,\"lxml\")\n",
    "    ##since here all ok\n",
    "    \n",
    "    product_page=soup_page.find(\"div\", class_=\"small-12 columns text-center\").find(\"h1\").get_text()\n",
    "    name_page=soup_page.find(\"div\", class_=\"large-5 medium-4 small-12 columns no-padding\").find(\"a\").get_text()\n",
    "    description_full_page=soup_page.find(\"div\", class_=\"margin-tb-10\").find_all(\"p\")\n",
    "    description_page=\"\"\n",
    "    for line in description_full_page:\n",
    "        description_page+=line.get_text()\n",
    "        \n",
    "    \n",
    "    ##print(product_page)\n",
    "    ##print(name_page)\n",
    "    ##print(description_page)\n",
    "    ##print(\"\")\n",
    "    with open(\"homework_3.csv\", \"a\",  newline=\"\") as f:\n",
    "                writer = csv.writer(f)\n",
    "                writer.writerow([product_page, name_page ,description_page ])\n",
    "    ## now i am on the right url page\n",
    "    "
   ]
  },
  {
   "cell_type": "code",
   "execution_count": null,
   "metadata": {},
   "outputs": [],
   "source": []
  }
 ],
 "metadata": {
  "kernelspec": {
   "display_name": "Python 3",
   "language": "python",
   "name": "python3"
  },
  "language_info": {
   "codemirror_mode": {
    "name": "ipython",
    "version": 3
   },
   "file_extension": ".py",
   "mimetype": "text/x-python",
   "name": "python",
   "nbconvert_exporter": "python",
   "pygments_lexer": "ipython3",
   "version": "3.6.5"
  }
 },
 "nbformat": 4,
 "nbformat_minor": 2
}
